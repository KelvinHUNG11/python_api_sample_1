{
 "cells": [
  {
   "cell_type": "code",
   "execution_count": 1,
   "metadata": {},
   "outputs": [
    {
     "name": "stdout",
     "output_type": "stream",
     "text": [
      "Collecting openpyxl\n",
      "  Using cached openpyxl-3.0.10-py2.py3-none-any.whl (242 kB)\n",
      "Collecting et-xmlfile\n",
      "  Using cached et_xmlfile-1.1.0-py3-none-any.whl (4.7 kB)\n",
      "Installing collected packages: et-xmlfile, openpyxl\n",
      "Successfully installed et-xmlfile-1.1.0 openpyxl-3.0.10\n"
     ]
    }
   ],
   "source": [
    "!pip install openpyxl"
   ]
  },
  {
   "cell_type": "code",
   "execution_count": 2,
   "metadata": {},
   "outputs": [
    {
     "data": {
      "text/html": [
       "<div>\n",
       "<style scoped>\n",
       "    .dataframe tbody tr th:only-of-type {\n",
       "        vertical-align: middle;\n",
       "    }\n",
       "\n",
       "    .dataframe tbody tr th {\n",
       "        vertical-align: top;\n",
       "    }\n",
       "\n",
       "    .dataframe thead th {\n",
       "        text-align: right;\n",
       "    }\n",
       "</style>\n",
       "<table border=\"1\" class=\"dataframe\">\n",
       "  <thead>\n",
       "    <tr style=\"text-align: right;\">\n",
       "      <th></th>\n",
       "      <th>AREA</th>\n",
       "      <th>PERIMETER</th>\n",
       "      <th>MAJOR_AXIS</th>\n",
       "      <th>MINOR_AXIS</th>\n",
       "      <th>ECCENTRICITY</th>\n",
       "      <th>EQDIASQ</th>\n",
       "      <th>SOLIDITY</th>\n",
       "      <th>CONVEX_AREA</th>\n",
       "      <th>EXTENT</th>\n",
       "      <th>ASPECT_RATIO</th>\n",
       "      <th>...</th>\n",
       "      <th>KurtosisRR</th>\n",
       "      <th>KurtosisRG</th>\n",
       "      <th>KurtosisRB</th>\n",
       "      <th>EntropyRR</th>\n",
       "      <th>EntropyRG</th>\n",
       "      <th>EntropyRB</th>\n",
       "      <th>ALLdaub4RR</th>\n",
       "      <th>ALLdaub4RG</th>\n",
       "      <th>ALLdaub4RB</th>\n",
       "      <th>Class</th>\n",
       "    </tr>\n",
       "  </thead>\n",
       "  <tbody>\n",
       "    <tr>\n",
       "      <th>0</th>\n",
       "      <td>422163</td>\n",
       "      <td>2378.908</td>\n",
       "      <td>837.8484</td>\n",
       "      <td>645.6693</td>\n",
       "      <td>0.6373</td>\n",
       "      <td>733.1539</td>\n",
       "      <td>0.9947</td>\n",
       "      <td>424428</td>\n",
       "      <td>0.7831</td>\n",
       "      <td>1.2976</td>\n",
       "      <td>...</td>\n",
       "      <td>3.2370</td>\n",
       "      <td>2.9574</td>\n",
       "      <td>4.2287</td>\n",
       "      <td>-59191263232</td>\n",
       "      <td>-50714214400</td>\n",
       "      <td>-39922372608</td>\n",
       "      <td>58.7255</td>\n",
       "      <td>54.9554</td>\n",
       "      <td>47.8400</td>\n",
       "      <td>BERHI</td>\n",
       "    </tr>\n",
       "    <tr>\n",
       "      <th>1</th>\n",
       "      <td>338136</td>\n",
       "      <td>2085.144</td>\n",
       "      <td>723.8198</td>\n",
       "      <td>595.2073</td>\n",
       "      <td>0.5690</td>\n",
       "      <td>656.1464</td>\n",
       "      <td>0.9974</td>\n",
       "      <td>339014</td>\n",
       "      <td>0.7795</td>\n",
       "      <td>1.2161</td>\n",
       "      <td>...</td>\n",
       "      <td>2.6228</td>\n",
       "      <td>2.6350</td>\n",
       "      <td>3.1704</td>\n",
       "      <td>-34233065472</td>\n",
       "      <td>-37462601728</td>\n",
       "      <td>-31477794816</td>\n",
       "      <td>50.0259</td>\n",
       "      <td>52.8168</td>\n",
       "      <td>47.8315</td>\n",
       "      <td>BERHI</td>\n",
       "    </tr>\n",
       "    <tr>\n",
       "      <th>2</th>\n",
       "      <td>526843</td>\n",
       "      <td>2647.394</td>\n",
       "      <td>940.7379</td>\n",
       "      <td>715.3638</td>\n",
       "      <td>0.6494</td>\n",
       "      <td>819.0222</td>\n",
       "      <td>0.9962</td>\n",
       "      <td>528876</td>\n",
       "      <td>0.7657</td>\n",
       "      <td>1.3150</td>\n",
       "      <td>...</td>\n",
       "      <td>3.7516</td>\n",
       "      <td>3.8611</td>\n",
       "      <td>4.7192</td>\n",
       "      <td>-93948354560</td>\n",
       "      <td>-74738221056</td>\n",
       "      <td>-60311207936</td>\n",
       "      <td>65.4772</td>\n",
       "      <td>59.2860</td>\n",
       "      <td>51.9378</td>\n",
       "      <td>BERHI</td>\n",
       "    </tr>\n",
       "    <tr>\n",
       "      <th>3</th>\n",
       "      <td>416063</td>\n",
       "      <td>2351.210</td>\n",
       "      <td>827.9804</td>\n",
       "      <td>645.2988</td>\n",
       "      <td>0.6266</td>\n",
       "      <td>727.8378</td>\n",
       "      <td>0.9948</td>\n",
       "      <td>418255</td>\n",
       "      <td>0.7759</td>\n",
       "      <td>1.2831</td>\n",
       "      <td>...</td>\n",
       "      <td>5.0401</td>\n",
       "      <td>8.6136</td>\n",
       "      <td>8.2618</td>\n",
       "      <td>-32074307584</td>\n",
       "      <td>-32060925952</td>\n",
       "      <td>-29575010304</td>\n",
       "      <td>43.3900</td>\n",
       "      <td>44.1259</td>\n",
       "      <td>41.1882</td>\n",
       "      <td>BERHI</td>\n",
       "    </tr>\n",
       "    <tr>\n",
       "      <th>4</th>\n",
       "      <td>347562</td>\n",
       "      <td>2160.354</td>\n",
       "      <td>763.9877</td>\n",
       "      <td>582.8359</td>\n",
       "      <td>0.6465</td>\n",
       "      <td>665.2291</td>\n",
       "      <td>0.9908</td>\n",
       "      <td>350797</td>\n",
       "      <td>0.7569</td>\n",
       "      <td>1.3108</td>\n",
       "      <td>...</td>\n",
       "      <td>2.7016</td>\n",
       "      <td>2.9761</td>\n",
       "      <td>4.4146</td>\n",
       "      <td>-39980974080</td>\n",
       "      <td>-35980042240</td>\n",
       "      <td>-25593278464</td>\n",
       "      <td>52.7743</td>\n",
       "      <td>50.9080</td>\n",
       "      <td>42.6666</td>\n",
       "      <td>BERHI</td>\n",
       "    </tr>\n",
       "  </tbody>\n",
       "</table>\n",
       "<p>5 rows × 35 columns</p>\n",
       "</div>"
      ],
      "text/plain": [
       "     AREA  PERIMETER  MAJOR_AXIS  MINOR_AXIS  ECCENTRICITY   EQDIASQ  \\\n",
       "0  422163   2378.908    837.8484    645.6693        0.6373  733.1539   \n",
       "1  338136   2085.144    723.8198    595.2073        0.5690  656.1464   \n",
       "2  526843   2647.394    940.7379    715.3638        0.6494  819.0222   \n",
       "3  416063   2351.210    827.9804    645.2988        0.6266  727.8378   \n",
       "4  347562   2160.354    763.9877    582.8359        0.6465  665.2291   \n",
       "\n",
       "   SOLIDITY  CONVEX_AREA  EXTENT  ASPECT_RATIO  ...  KurtosisRR  KurtosisRG  \\\n",
       "0    0.9947       424428  0.7831        1.2976  ...      3.2370      2.9574   \n",
       "1    0.9974       339014  0.7795        1.2161  ...      2.6228      2.6350   \n",
       "2    0.9962       528876  0.7657        1.3150  ...      3.7516      3.8611   \n",
       "3    0.9948       418255  0.7759        1.2831  ...      5.0401      8.6136   \n",
       "4    0.9908       350797  0.7569        1.3108  ...      2.7016      2.9761   \n",
       "\n",
       "   KurtosisRB    EntropyRR    EntropyRG    EntropyRB  ALLdaub4RR  ALLdaub4RG  \\\n",
       "0      4.2287 -59191263232 -50714214400 -39922372608     58.7255     54.9554   \n",
       "1      3.1704 -34233065472 -37462601728 -31477794816     50.0259     52.8168   \n",
       "2      4.7192 -93948354560 -74738221056 -60311207936     65.4772     59.2860   \n",
       "3      8.2618 -32074307584 -32060925952 -29575010304     43.3900     44.1259   \n",
       "4      4.4146 -39980974080 -35980042240 -25593278464     52.7743     50.9080   \n",
       "\n",
       "   ALLdaub4RB  Class  \n",
       "0     47.8400  BERHI  \n",
       "1     47.8315  BERHI  \n",
       "2     51.9378  BERHI  \n",
       "3     41.1882  BERHI  \n",
       "4     42.6666  BERHI  \n",
       "\n",
       "[5 rows x 35 columns]"
      ]
     },
     "execution_count": 2,
     "metadata": {},
     "output_type": "execute_result"
    }
   ],
   "source": [
    "import pandas as pd\n",
    "train=pd.read_excel('../dataset/Date_Fruit_Datasets.xlsx')\n",
    "train.head()"
   ]
  },
  {
   "cell_type": "code",
   "execution_count": 4,
   "metadata": {},
   "outputs": [
    {
     "name": "stdout",
     "output_type": "stream",
     "text": [
      "Requirement already satisfied: flaml in /home/vscode/.local/share/virtualenvs/python_api_sample_1-VfmthB3j/lib/python3.9/site-packages (1.1.1)\n",
      "Requirement already satisfied: NumPy>=1.17.0rc1 in /home/vscode/.local/share/virtualenvs/python_api_sample_1-VfmthB3j/lib/python3.9/site-packages (from flaml) (1.24.1)\n",
      "Requirement already satisfied: pandas>=1.1.4 in /home/vscode/.local/share/virtualenvs/python_api_sample_1-VfmthB3j/lib/python3.9/site-packages (from flaml) (1.5.2)\n",
      "Requirement already satisfied: scipy>=1.4.1 in /home/vscode/.local/share/virtualenvs/python_api_sample_1-VfmthB3j/lib/python3.9/site-packages (from flaml) (1.10.0)\n",
      "Requirement already satisfied: lightgbm>=2.3.1 in /home/vscode/.local/share/virtualenvs/python_api_sample_1-VfmthB3j/lib/python3.9/site-packages (from flaml) (3.3.4)\n",
      "Requirement already satisfied: scikit-learn>=0.24 in /home/vscode/.local/share/virtualenvs/python_api_sample_1-VfmthB3j/lib/python3.9/site-packages (from flaml) (1.2.0)\n",
      "Requirement already satisfied: xgboost>=0.90 in /home/vscode/.local/share/virtualenvs/python_api_sample_1-VfmthB3j/lib/python3.9/site-packages (from flaml) (1.7.3)\n",
      "Requirement already satisfied: wheel in /home/vscode/.local/share/virtualenvs/python_api_sample_1-VfmthB3j/lib/python3.9/site-packages (from lightgbm>=2.3.1->flaml) (0.38.4)\n",
      "Requirement already satisfied: pytz>=2020.1 in /home/vscode/.local/share/virtualenvs/python_api_sample_1-VfmthB3j/lib/python3.9/site-packages (from pandas>=1.1.4->flaml) (2022.7.1)\n",
      "Requirement already satisfied: python-dateutil>=2.8.1 in /home/vscode/.local/share/virtualenvs/python_api_sample_1-VfmthB3j/lib/python3.9/site-packages (from pandas>=1.1.4->flaml) (2.8.2)\n",
      "Requirement already satisfied: joblib>=1.1.1 in /home/vscode/.local/share/virtualenvs/python_api_sample_1-VfmthB3j/lib/python3.9/site-packages (from scikit-learn>=0.24->flaml) (1.2.0)\n",
      "Requirement already satisfied: threadpoolctl>=2.0.0 in /home/vscode/.local/share/virtualenvs/python_api_sample_1-VfmthB3j/lib/python3.9/site-packages (from scikit-learn>=0.24->flaml) (3.1.0)\n",
      "Requirement already satisfied: six>=1.5 in /home/vscode/.local/share/virtualenvs/python_api_sample_1-VfmthB3j/lib/python3.9/site-packages (from python-dateutil>=2.8.1->pandas>=1.1.4->flaml) (1.16.0)\n"
     ]
    }
   ],
   "source": [
    "!pip install flaml\n",
    "from sklearn.metrics import mean_absolute_percentage_error"
   ]
  },
  {
   "cell_type": "code",
   "execution_count": 5,
   "metadata": {},
   "outputs": [
    {
     "name": "stdout",
     "output_type": "stream",
     "text": [
      "<class 'pandas.core.frame.DataFrame'>\n",
      "RangeIndex: 898 entries, 0 to 897\n",
      "Data columns (total 35 columns):\n",
      " #   Column         Non-Null Count  Dtype  \n",
      "---  ------         --------------  -----  \n",
      " 0   AREA           898 non-null    int64  \n",
      " 1   PERIMETER      898 non-null    float64\n",
      " 2   MAJOR_AXIS     898 non-null    float64\n",
      " 3   MINOR_AXIS     898 non-null    float64\n",
      " 4   ECCENTRICITY   898 non-null    float64\n",
      " 5   EQDIASQ        898 non-null    float64\n",
      " 6   SOLIDITY       898 non-null    float64\n",
      " 7   CONVEX_AREA    898 non-null    int64  \n",
      " 8   EXTENT         898 non-null    float64\n",
      " 9   ASPECT_RATIO   898 non-null    float64\n",
      " 10  ROUNDNESS      898 non-null    float64\n",
      " 11  COMPACTNESS    898 non-null    float64\n",
      " 12  SHAPEFACTOR_1  898 non-null    float64\n",
      " 13  SHAPEFACTOR_2  898 non-null    float64\n",
      " 14  SHAPEFACTOR_3  898 non-null    float64\n",
      " 15  SHAPEFACTOR_4  898 non-null    float64\n",
      " 16  MeanRR         898 non-null    float64\n",
      " 17  MeanRG         898 non-null    float64\n",
      " 18  MeanRB         898 non-null    float64\n",
      " 19  StdDevRR       898 non-null    float64\n",
      " 20  StdDevRG       898 non-null    float64\n",
      " 21  StdDevRB       898 non-null    float64\n",
      " 22  SkewRR         898 non-null    float64\n",
      " 23  SkewRG         898 non-null    float64\n",
      " 24  SkewRB         898 non-null    float64\n",
      " 25  KurtosisRR     898 non-null    float64\n",
      " 26  KurtosisRG     898 non-null    float64\n",
      " 27  KurtosisRB     898 non-null    float64\n",
      " 28  EntropyRR      898 non-null    int64  \n",
      " 29  EntropyRG      898 non-null    int64  \n",
      " 30  EntropyRB      898 non-null    int64  \n",
      " 31  ALLdaub4RR     898 non-null    float64\n",
      " 32  ALLdaub4RG     898 non-null    float64\n",
      " 33  ALLdaub4RB     898 non-null    float64\n",
      " 34  Class          898 non-null    object \n",
      "dtypes: float64(29), int64(5), object(1)\n",
      "memory usage: 245.7+ KB\n"
     ]
    }
   ],
   "source": [
    "train.info()"
   ]
  },
  {
   "cell_type": "code",
   "execution_count": 6,
   "metadata": {},
   "outputs": [
    {
     "data": {
      "text/plain": [
       "(898, 35)"
      ]
     },
     "execution_count": 6,
     "metadata": {},
     "output_type": "execute_result"
    }
   ],
   "source": [
    "train.drop_duplicates(keep=False, inplace=True)\n",
    "train.shape"
   ]
  },
  {
   "cell_type": "code",
   "execution_count": 7,
   "metadata": {},
   "outputs": [
    {
     "data": {
      "text/plain": [
       "DOKOL     204\n",
       "SAFAVI    199\n",
       "ROTANA    166\n",
       "DEGLET     98\n",
       "SOGAY      94\n",
       "IRAQI      72\n",
       "BERHI      65\n",
       "Name: Class, dtype: int64"
      ]
     },
     "execution_count": 7,
     "metadata": {},
     "output_type": "execute_result"
    }
   ],
   "source": [
    "train.Class.value_counts()"
   ]
  },
  {
   "cell_type": "code",
   "execution_count": 8,
   "metadata": {},
   "outputs": [
    {
     "data": {
      "text/plain": [
       "((718, 35), (180, 35))"
      ]
     },
     "execution_count": 8,
     "metadata": {},
     "output_type": "execute_result"
    }
   ],
   "source": [
    "from sklearn.model_selection import train_test_split\n",
    "train, test = train_test_split( train, test_size=0.2, random_state=42,shuffle=True, stratify=train.Class)\n",
    "train.shape, test.shape"
   ]
  },
  {
   "cell_type": "code",
   "execution_count": 9,
   "metadata": {},
   "outputs": [
    {
     "data": {
      "text/plain": [
       "AREA             0\n",
       "KurtosisRG       0\n",
       "StdDevRG         0\n",
       "StdDevRB         0\n",
       "SkewRR           0\n",
       "SkewRG           0\n",
       "SkewRB           0\n",
       "KurtosisRR       0\n",
       "KurtosisRB       0\n",
       "MeanRB           0\n",
       "EntropyRR        0\n",
       "EntropyRG        0\n",
       "EntropyRB        0\n",
       "ALLdaub4RR       0\n",
       "ALLdaub4RG       0\n",
       "ALLdaub4RB       0\n",
       "StdDevRR         0\n",
       "MeanRG           0\n",
       "PERIMETER        0\n",
       "EXTENT           0\n",
       "MAJOR_AXIS       0\n",
       "MINOR_AXIS       0\n",
       "ECCENTRICITY     0\n",
       "EQDIASQ          0\n",
       "SOLIDITY         0\n",
       "CONVEX_AREA      0\n",
       "ASPECT_RATIO     0\n",
       "MeanRR           0\n",
       "ROUNDNESS        0\n",
       "COMPACTNESS      0\n",
       "SHAPEFACTOR_1    0\n",
       "SHAPEFACTOR_2    0\n",
       "SHAPEFACTOR_3    0\n",
       "SHAPEFACTOR_4    0\n",
       "Class            0\n",
       "dtype: int64"
      ]
     },
     "execution_count": 9,
     "metadata": {},
     "output_type": "execute_result"
    }
   ],
   "source": [
    "train.isnull().sum().sort_values(ascending=False)"
   ]
  },
  {
   "cell_type": "code",
   "execution_count": 10,
   "metadata": {},
   "outputs": [
    {
     "data": {
      "text/html": [
       "<div>\n",
       "<style scoped>\n",
       "    .dataframe tbody tr th:only-of-type {\n",
       "        vertical-align: middle;\n",
       "    }\n",
       "\n",
       "    .dataframe tbody tr th {\n",
       "        vertical-align: top;\n",
       "    }\n",
       "\n",
       "    .dataframe thead th {\n",
       "        text-align: right;\n",
       "    }\n",
       "</style>\n",
       "<table border=\"1\" class=\"dataframe\">\n",
       "  <thead>\n",
       "    <tr style=\"text-align: right;\">\n",
       "      <th></th>\n",
       "      <th>AREA</th>\n",
       "      <th>PERIMETER</th>\n",
       "      <th>MAJOR_AXIS</th>\n",
       "      <th>MINOR_AXIS</th>\n",
       "      <th>ECCENTRICITY</th>\n",
       "      <th>EQDIASQ</th>\n",
       "      <th>SOLIDITY</th>\n",
       "      <th>CONVEX_AREA</th>\n",
       "      <th>EXTENT</th>\n",
       "      <th>ASPECT_RATIO</th>\n",
       "      <th>ROUNDNESS</th>\n",
       "      <th>COMPACTNESS</th>\n",
       "      <th>SHAPEFACTOR_1</th>\n",
       "      <th>SHAPEFACTOR_2</th>\n",
       "      <th>SHAPEFACTOR_3</th>\n",
       "      <th>SHAPEFACTOR_4</th>\n",
       "      <th>MeanRR</th>\n",
       "      <th>MeanRG</th>\n",
       "      <th>MeanRB</th>\n",
       "      <th>StdDevRR</th>\n",
       "      <th>StdDevRG</th>\n",
       "      <th>StdDevRB</th>\n",
       "      <th>SkewRR</th>\n",
       "      <th>SkewRG</th>\n",
       "      <th>SkewRB</th>\n",
       "      <th>KurtosisRR</th>\n",
       "      <th>KurtosisRG</th>\n",
       "      <th>KurtosisRB</th>\n",
       "      <th>EntropyRR</th>\n",
       "      <th>EntropyRG</th>\n",
       "      <th>EntropyRB</th>\n",
       "      <th>ALLdaub4RR</th>\n",
       "      <th>ALLdaub4RG</th>\n",
       "      <th>ALLdaub4RB</th>\n",
       "      <th>Class</th>\n",
       "    </tr>\n",
       "  </thead>\n",
       "  <tbody>\n",
       "  </tbody>\n",
       "</table>\n",
       "</div>"
      ],
      "text/plain": [
       "Empty DataFrame\n",
       "Columns: [AREA, PERIMETER, MAJOR_AXIS, MINOR_AXIS, ECCENTRICITY, EQDIASQ, SOLIDITY, CONVEX_AREA, EXTENT, ASPECT_RATIO, ROUNDNESS, COMPACTNESS, SHAPEFACTOR_1, SHAPEFACTOR_2, SHAPEFACTOR_3, SHAPEFACTOR_4, MeanRR, MeanRG, MeanRB, StdDevRR, StdDevRG, StdDevRB, SkewRR, SkewRG, SkewRB, KurtosisRR, KurtosisRG, KurtosisRB, EntropyRR, EntropyRG, EntropyRB, ALLdaub4RR, ALLdaub4RG, ALLdaub4RB, Class]\n",
       "Index: []"
      ]
     },
     "execution_count": 10,
     "metadata": {},
     "output_type": "execute_result"
    }
   ],
   "source": [
    "pd.options.display.max_columns = None\n",
    "train[train.isna().any(axis=1)]"
   ]
  },
  {
   "cell_type": "code",
   "execution_count": 11,
   "metadata": {},
   "outputs": [
    {
     "data": {
      "text/html": [
       "<div>\n",
       "<style scoped>\n",
       "    .dataframe tbody tr th:only-of-type {\n",
       "        vertical-align: middle;\n",
       "    }\n",
       "\n",
       "    .dataframe tbody tr th {\n",
       "        vertical-align: top;\n",
       "    }\n",
       "\n",
       "    .dataframe thead th {\n",
       "        text-align: right;\n",
       "    }\n",
       "</style>\n",
       "<table border=\"1\" class=\"dataframe\">\n",
       "  <thead>\n",
       "    <tr style=\"text-align: right;\">\n",
       "      <th></th>\n",
       "      <th>AREA</th>\n",
       "      <th>PERIMETER</th>\n",
       "      <th>MAJOR_AXIS</th>\n",
       "      <th>MINOR_AXIS</th>\n",
       "      <th>ECCENTRICITY</th>\n",
       "      <th>EQDIASQ</th>\n",
       "      <th>SOLIDITY</th>\n",
       "      <th>CONVEX_AREA</th>\n",
       "      <th>EXTENT</th>\n",
       "      <th>ASPECT_RATIO</th>\n",
       "      <th>ROUNDNESS</th>\n",
       "      <th>COMPACTNESS</th>\n",
       "      <th>SHAPEFACTOR_1</th>\n",
       "      <th>SHAPEFACTOR_2</th>\n",
       "      <th>SHAPEFACTOR_3</th>\n",
       "      <th>SHAPEFACTOR_4</th>\n",
       "      <th>MeanRR</th>\n",
       "      <th>MeanRG</th>\n",
       "      <th>MeanRB</th>\n",
       "      <th>StdDevRR</th>\n",
       "      <th>StdDevRG</th>\n",
       "      <th>StdDevRB</th>\n",
       "      <th>SkewRR</th>\n",
       "      <th>SkewRG</th>\n",
       "      <th>SkewRB</th>\n",
       "      <th>KurtosisRR</th>\n",
       "      <th>KurtosisRG</th>\n",
       "      <th>KurtosisRB</th>\n",
       "      <th>EntropyRR</th>\n",
       "      <th>EntropyRG</th>\n",
       "      <th>EntropyRB</th>\n",
       "      <th>ALLdaub4RR</th>\n",
       "      <th>ALLdaub4RG</th>\n",
       "      <th>ALLdaub4RB</th>\n",
       "      <th>Class</th>\n",
       "    </tr>\n",
       "  </thead>\n",
       "  <tbody>\n",
       "  </tbody>\n",
       "</table>\n",
       "</div>"
      ],
      "text/plain": [
       "Empty DataFrame\n",
       "Columns: [AREA, PERIMETER, MAJOR_AXIS, MINOR_AXIS, ECCENTRICITY, EQDIASQ, SOLIDITY, CONVEX_AREA, EXTENT, ASPECT_RATIO, ROUNDNESS, COMPACTNESS, SHAPEFACTOR_1, SHAPEFACTOR_2, SHAPEFACTOR_3, SHAPEFACTOR_4, MeanRR, MeanRG, MeanRB, StdDevRR, StdDevRG, StdDevRB, SkewRR, SkewRG, SkewRB, KurtosisRR, KurtosisRG, KurtosisRB, EntropyRR, EntropyRG, EntropyRB, ALLdaub4RR, ALLdaub4RG, ALLdaub4RB, Class]\n",
       "Index: []"
      ]
     },
     "execution_count": 11,
     "metadata": {},
     "output_type": "execute_result"
    }
   ],
   "source": [
    "test[test.isna().any(axis=1)]"
   ]
  },
  {
   "cell_type": "code",
   "execution_count": 12,
   "metadata": {},
   "outputs": [],
   "source": [
    "from flaml import AutoML\n",
    "automl = AutoML()"
   ]
  },
  {
   "cell_type": "code",
   "execution_count": 13,
   "metadata": {},
   "outputs": [],
   "source": [
    "y = train.pop('Class')\n",
    "X = train"
   ]
  },
  {
   "cell_type": "code",
   "execution_count": 14,
   "metadata": {},
   "outputs": [],
   "source": [
    "from sklearn.model_selection import train_test_split\n",
    "X_train, X_test, y_train, y_test = train_test_split( X, y, test_size=0.2, random_state=42,shuffle=True, stratify=y)"
   ]
  },
  {
   "cell_type": "code",
   "execution_count": 15,
   "metadata": {},
   "outputs": [
    {
     "name": "stdout",
     "output_type": "stream",
     "text": [
      "[flaml.automl.automl: 01-16 08:04:36] {2715} INFO - task = classification\n",
      "[flaml.automl.automl: 01-16 08:04:36] {2717} INFO - Data split method: stratified\n",
      "[flaml.automl.automl: 01-16 08:04:36] {2720} INFO - Evaluation method: cv\n",
      "[flaml.automl.automl: 01-16 08:04:36] {2847} INFO - Minimizing error metric: log_loss\n",
      "[flaml.automl.automl: 01-16 08:04:36] {2993} INFO - List of ML learners in AutoML Run: ['lgbm', 'rf', 'xgboost', 'extra_tree', 'xgb_limitdepth', 'lrl1']\n",
      "[flaml.automl.automl: 01-16 08:04:36] {3322} INFO - iteration 0, current learner lgbm\n",
      "[flaml.automl.automl: 01-16 08:04:36] {3460} INFO - Estimated sufficient time budget=980s. Estimated necessary time budget=23s.\n",
      "[flaml.automl.automl: 01-16 08:04:36] {3507} INFO -  at 0.1s,\testimator lgbm's best error=1.0761,\tbest estimator lgbm's best error=1.0761\n",
      "[flaml.automl.automl: 01-16 08:04:36] {3322} INFO - iteration 1, current learner lgbm\n",
      "[flaml.automl.automl: 01-16 08:04:36] {3507} INFO -  at 0.2s,\testimator lgbm's best error=1.0761,\tbest estimator lgbm's best error=1.0761\n",
      "[flaml.automl.automl: 01-16 08:04:36] {3322} INFO - iteration 2, current learner lgbm\n",
      "[flaml.automl.automl: 01-16 08:04:36] {3507} INFO -  at 0.3s,\testimator lgbm's best error=0.6047,\tbest estimator lgbm's best error=0.6047\n",
      "[flaml.automl.automl: 01-16 08:04:36] {3322} INFO - iteration 3, current learner lgbm\n",
      "[flaml.automl.automl: 01-16 08:04:36] {3507} INFO -  at 0.4s,\testimator lgbm's best error=0.4942,\tbest estimator lgbm's best error=0.4942\n",
      "[flaml.automl.automl: 01-16 08:04:36] {3322} INFO - iteration 4, current learner lgbm\n",
      "[flaml.automl.automl: 01-16 08:04:36] {3507} INFO -  at 0.4s,\testimator lgbm's best error=0.4942,\tbest estimator lgbm's best error=0.4942\n",
      "[flaml.automl.automl: 01-16 08:04:36] {3322} INFO - iteration 5, current learner lgbm\n",
      "[flaml.automl.automl: 01-16 08:04:36] {3507} INFO -  at 0.5s,\testimator lgbm's best error=0.4942,\tbest estimator lgbm's best error=0.4942\n",
      "[flaml.automl.automl: 01-16 08:04:36] {3322} INFO - iteration 6, current learner lgbm\n",
      "[flaml.automl.automl: 01-16 08:04:36] {3507} INFO -  at 0.6s,\testimator lgbm's best error=0.4080,\tbest estimator lgbm's best error=0.4080\n",
      "[flaml.automl.automl: 01-16 08:04:36] {3322} INFO - iteration 7, current learner xgboost\n",
      "[flaml.automl.automl: 01-16 08:04:37] {3507} INFO -  at 0.7s,\testimator xgboost's best error=1.3229,\tbest estimator lgbm's best error=0.4080\n",
      "[flaml.automl.automl: 01-16 08:04:37] {3322} INFO - iteration 8, current learner extra_tree\n"
     ]
    },
    {
     "name": "stderr",
     "output_type": "stream",
     "text": [
      "/home/vscode/.local/share/virtualenvs/python_api_sample_1-VfmthB3j/lib/python3.9/site-packages/xgboost/sklearn.py:1395: UserWarning: `use_label_encoder` is deprecated in 1.7.0.\n",
      "  warnings.warn(\"`use_label_encoder` is deprecated in 1.7.0.\")\n",
      "/home/vscode/.local/share/virtualenvs/python_api_sample_1-VfmthB3j/lib/python3.9/site-packages/xgboost/sklearn.py:1395: UserWarning: `use_label_encoder` is deprecated in 1.7.0.\n",
      "  warnings.warn(\"`use_label_encoder` is deprecated in 1.7.0.\")\n",
      "/home/vscode/.local/share/virtualenvs/python_api_sample_1-VfmthB3j/lib/python3.9/site-packages/xgboost/sklearn.py:1395: UserWarning: `use_label_encoder` is deprecated in 1.7.0.\n",
      "  warnings.warn(\"`use_label_encoder` is deprecated in 1.7.0.\")\n",
      "/home/vscode/.local/share/virtualenvs/python_api_sample_1-VfmthB3j/lib/python3.9/site-packages/xgboost/sklearn.py:1395: UserWarning: `use_label_encoder` is deprecated in 1.7.0.\n",
      "  warnings.warn(\"`use_label_encoder` is deprecated in 1.7.0.\")\n",
      "/home/vscode/.local/share/virtualenvs/python_api_sample_1-VfmthB3j/lib/python3.9/site-packages/xgboost/sklearn.py:1395: UserWarning: `use_label_encoder` is deprecated in 1.7.0.\n",
      "  warnings.warn(\"`use_label_encoder` is deprecated in 1.7.0.\")\n"
     ]
    },
    {
     "name": "stdout",
     "output_type": "stream",
     "text": [
      "[flaml.automl.automl: 01-16 08:04:37] {3507} INFO -  at 0.8s,\testimator extra_tree's best error=0.9033,\tbest estimator lgbm's best error=0.4080\n",
      "[flaml.automl.automl: 01-16 08:04:37] {3322} INFO - iteration 9, current learner lgbm\n",
      "[flaml.automl.automl: 01-16 08:04:37] {3507} INFO -  at 0.9s,\testimator lgbm's best error=0.4080,\tbest estimator lgbm's best error=0.4080\n",
      "[flaml.automl.automl: 01-16 08:04:37] {3322} INFO - iteration 10, current learner xgboost\n",
      "[flaml.automl.automl: 01-16 08:04:37] {3507} INFO -  at 1.0s,\testimator xgboost's best error=1.3229,\tbest estimator lgbm's best error=0.4080\n",
      "[flaml.automl.automl: 01-16 08:04:37] {3322} INFO - iteration 11, current learner xgboost\n"
     ]
    },
    {
     "name": "stderr",
     "output_type": "stream",
     "text": [
      "/home/vscode/.local/share/virtualenvs/python_api_sample_1-VfmthB3j/lib/python3.9/site-packages/xgboost/sklearn.py:1395: UserWarning: `use_label_encoder` is deprecated in 1.7.0.\n",
      "  warnings.warn(\"`use_label_encoder` is deprecated in 1.7.0.\")\n",
      "/home/vscode/.local/share/virtualenvs/python_api_sample_1-VfmthB3j/lib/python3.9/site-packages/xgboost/sklearn.py:1395: UserWarning: `use_label_encoder` is deprecated in 1.7.0.\n",
      "  warnings.warn(\"`use_label_encoder` is deprecated in 1.7.0.\")\n",
      "/home/vscode/.local/share/virtualenvs/python_api_sample_1-VfmthB3j/lib/python3.9/site-packages/xgboost/sklearn.py:1395: UserWarning: `use_label_encoder` is deprecated in 1.7.0.\n",
      "  warnings.warn(\"`use_label_encoder` is deprecated in 1.7.0.\")\n",
      "/home/vscode/.local/share/virtualenvs/python_api_sample_1-VfmthB3j/lib/python3.9/site-packages/xgboost/sklearn.py:1395: UserWarning: `use_label_encoder` is deprecated in 1.7.0.\n",
      "  warnings.warn(\"`use_label_encoder` is deprecated in 1.7.0.\")\n",
      "/home/vscode/.local/share/virtualenvs/python_api_sample_1-VfmthB3j/lib/python3.9/site-packages/xgboost/sklearn.py:1395: UserWarning: `use_label_encoder` is deprecated in 1.7.0.\n",
      "  warnings.warn(\"`use_label_encoder` is deprecated in 1.7.0.\")\n",
      "/home/vscode/.local/share/virtualenvs/python_api_sample_1-VfmthB3j/lib/python3.9/site-packages/xgboost/sklearn.py:1395: UserWarning: `use_label_encoder` is deprecated in 1.7.0.\n",
      "  warnings.warn(\"`use_label_encoder` is deprecated in 1.7.0.\")\n",
      "/home/vscode/.local/share/virtualenvs/python_api_sample_1-VfmthB3j/lib/python3.9/site-packages/xgboost/sklearn.py:1395: UserWarning: `use_label_encoder` is deprecated in 1.7.0.\n",
      "  warnings.warn(\"`use_label_encoder` is deprecated in 1.7.0.\")\n",
      "/home/vscode/.local/share/virtualenvs/python_api_sample_1-VfmthB3j/lib/python3.9/site-packages/xgboost/sklearn.py:1395: UserWarning: `use_label_encoder` is deprecated in 1.7.0.\n",
      "  warnings.warn(\"`use_label_encoder` is deprecated in 1.7.0.\")\n"
     ]
    },
    {
     "name": "stdout",
     "output_type": "stream",
     "text": [
      "[flaml.automl.automl: 01-16 08:04:37] {3507} INFO -  at 1.2s,\testimator xgboost's best error=0.8381,\tbest estimator lgbm's best error=0.4080\n",
      "[flaml.automl.automl: 01-16 08:04:37] {3322} INFO - iteration 12, current learner extra_tree\n",
      "[flaml.automl.automl: 01-16 08:04:37] {3507} INFO -  at 1.3s,\testimator extra_tree's best error=0.6546,\tbest estimator lgbm's best error=0.4080\n",
      "[flaml.automl.automl: 01-16 08:04:37] {3322} INFO - iteration 13, current learner lgbm\n"
     ]
    },
    {
     "name": "stderr",
     "output_type": "stream",
     "text": [
      "/home/vscode/.local/share/virtualenvs/python_api_sample_1-VfmthB3j/lib/python3.9/site-packages/xgboost/sklearn.py:1395: UserWarning: `use_label_encoder` is deprecated in 1.7.0.\n",
      "  warnings.warn(\"`use_label_encoder` is deprecated in 1.7.0.\")\n",
      "/home/vscode/.local/share/virtualenvs/python_api_sample_1-VfmthB3j/lib/python3.9/site-packages/xgboost/sklearn.py:1395: UserWarning: `use_label_encoder` is deprecated in 1.7.0.\n",
      "  warnings.warn(\"`use_label_encoder` is deprecated in 1.7.0.\")\n"
     ]
    },
    {
     "name": "stdout",
     "output_type": "stream",
     "text": [
      "[flaml.automl.automl: 01-16 08:04:37] {3507} INFO -  at 1.4s,\testimator lgbm's best error=0.3664,\tbest estimator lgbm's best error=0.3664\n",
      "[flaml.automl.automl: 01-16 08:04:37] {3322} INFO - iteration 14, current learner xgboost\n",
      "[flaml.automl.automl: 01-16 08:04:37] {3507} INFO -  at 1.5s,\testimator xgboost's best error=0.5140,\tbest estimator lgbm's best error=0.3664\n",
      "[flaml.automl.automl: 01-16 08:04:37] {3322} INFO - iteration 15, current learner lgbm\n",
      "[flaml.automl.automl: 01-16 08:04:38] {3507} INFO -  at 1.6s,\testimator lgbm's best error=0.3664,\tbest estimator lgbm's best error=0.3664\n",
      "[flaml.automl.automl: 01-16 08:04:38] {3322} INFO - iteration 16, current learner extra_tree\n"
     ]
    },
    {
     "name": "stderr",
     "output_type": "stream",
     "text": [
      "/home/vscode/.local/share/virtualenvs/python_api_sample_1-VfmthB3j/lib/python3.9/site-packages/xgboost/sklearn.py:1395: UserWarning: `use_label_encoder` is deprecated in 1.7.0.\n",
      "  warnings.warn(\"`use_label_encoder` is deprecated in 1.7.0.\")\n",
      "/home/vscode/.local/share/virtualenvs/python_api_sample_1-VfmthB3j/lib/python3.9/site-packages/xgboost/sklearn.py:1395: UserWarning: `use_label_encoder` is deprecated in 1.7.0.\n",
      "  warnings.warn(\"`use_label_encoder` is deprecated in 1.7.0.\")\n",
      "/home/vscode/.local/share/virtualenvs/python_api_sample_1-VfmthB3j/lib/python3.9/site-packages/xgboost/sklearn.py:1395: UserWarning: `use_label_encoder` is deprecated in 1.7.0.\n",
      "  warnings.warn(\"`use_label_encoder` is deprecated in 1.7.0.\")\n",
      "/home/vscode/.local/share/virtualenvs/python_api_sample_1-VfmthB3j/lib/python3.9/site-packages/xgboost/sklearn.py:1395: UserWarning: `use_label_encoder` is deprecated in 1.7.0.\n",
      "  warnings.warn(\"`use_label_encoder` is deprecated in 1.7.0.\")\n",
      "/home/vscode/.local/share/virtualenvs/python_api_sample_1-VfmthB3j/lib/python3.9/site-packages/xgboost/sklearn.py:1395: UserWarning: `use_label_encoder` is deprecated in 1.7.0.\n",
      "  warnings.warn(\"`use_label_encoder` is deprecated in 1.7.0.\")\n"
     ]
    },
    {
     "name": "stdout",
     "output_type": "stream",
     "text": [
      "[flaml.automl.automl: 01-16 08:04:38] {3507} INFO -  at 1.7s,\testimator extra_tree's best error=0.6546,\tbest estimator lgbm's best error=0.3664\n",
      "[flaml.automl.automl: 01-16 08:04:38] {3322} INFO - iteration 17, current learner lgbm\n",
      "[flaml.automl.automl: 01-16 08:04:38] {3507} INFO -  at 1.9s,\testimator lgbm's best error=0.3664,\tbest estimator lgbm's best error=0.3664\n",
      "[flaml.automl.automl: 01-16 08:04:38] {3322} INFO - iteration 18, current learner xgboost\n",
      "[flaml.automl.automl: 01-16 08:04:38] {3507} INFO -  at 2.1s,\testimator xgboost's best error=0.5140,\tbest estimator lgbm's best error=0.3664\n",
      "[flaml.automl.automl: 01-16 08:04:38] {3322} INFO - iteration 19, current learner rf\n"
     ]
    },
    {
     "name": "stderr",
     "output_type": "stream",
     "text": [
      "/home/vscode/.local/share/virtualenvs/python_api_sample_1-VfmthB3j/lib/python3.9/site-packages/xgboost/sklearn.py:1395: UserWarning: `use_label_encoder` is deprecated in 1.7.0.\n",
      "  warnings.warn(\"`use_label_encoder` is deprecated in 1.7.0.\")\n",
      "/home/vscode/.local/share/virtualenvs/python_api_sample_1-VfmthB3j/lib/python3.9/site-packages/xgboost/sklearn.py:1395: UserWarning: `use_label_encoder` is deprecated in 1.7.0.\n",
      "  warnings.warn(\"`use_label_encoder` is deprecated in 1.7.0.\")\n",
      "/home/vscode/.local/share/virtualenvs/python_api_sample_1-VfmthB3j/lib/python3.9/site-packages/xgboost/sklearn.py:1395: UserWarning: `use_label_encoder` is deprecated in 1.7.0.\n",
      "  warnings.warn(\"`use_label_encoder` is deprecated in 1.7.0.\")\n",
      "/home/vscode/.local/share/virtualenvs/python_api_sample_1-VfmthB3j/lib/python3.9/site-packages/xgboost/sklearn.py:1395: UserWarning: `use_label_encoder` is deprecated in 1.7.0.\n",
      "  warnings.warn(\"`use_label_encoder` is deprecated in 1.7.0.\")\n",
      "/home/vscode/.local/share/virtualenvs/python_api_sample_1-VfmthB3j/lib/python3.9/site-packages/xgboost/sklearn.py:1395: UserWarning: `use_label_encoder` is deprecated in 1.7.0.\n",
      "  warnings.warn(\"`use_label_encoder` is deprecated in 1.7.0.\")\n"
     ]
    },
    {
     "name": "stdout",
     "output_type": "stream",
     "text": [
      "[flaml.automl.automl: 01-16 08:04:38] {3507} INFO -  at 2.2s,\testimator rf's best error=0.7712,\tbest estimator lgbm's best error=0.3664\n",
      "[flaml.automl.automl: 01-16 08:04:38] {3322} INFO - iteration 20, current learner rf\n",
      "[flaml.automl.automl: 01-16 08:04:38] {3507} INFO -  at 2.4s,\testimator rf's best error=0.6128,\tbest estimator lgbm's best error=0.3664\n",
      "[flaml.automl.automl: 01-16 08:04:38] {3322} INFO - iteration 21, current learner xgboost\n",
      "[flaml.automl.automl: 01-16 08:04:38] {3507} INFO -  at 2.5s,\testimator xgboost's best error=0.5140,\tbest estimator lgbm's best error=0.3664\n",
      "[flaml.automl.automl: 01-16 08:04:38] {3322} INFO - iteration 22, current learner lgbm\n"
     ]
    },
    {
     "name": "stderr",
     "output_type": "stream",
     "text": [
      "/home/vscode/.local/share/virtualenvs/python_api_sample_1-VfmthB3j/lib/python3.9/site-packages/xgboost/sklearn.py:1395: UserWarning: `use_label_encoder` is deprecated in 1.7.0.\n",
      "  warnings.warn(\"`use_label_encoder` is deprecated in 1.7.0.\")\n",
      "/home/vscode/.local/share/virtualenvs/python_api_sample_1-VfmthB3j/lib/python3.9/site-packages/xgboost/sklearn.py:1395: UserWarning: `use_label_encoder` is deprecated in 1.7.0.\n",
      "  warnings.warn(\"`use_label_encoder` is deprecated in 1.7.0.\")\n",
      "/home/vscode/.local/share/virtualenvs/python_api_sample_1-VfmthB3j/lib/python3.9/site-packages/xgboost/sklearn.py:1395: UserWarning: `use_label_encoder` is deprecated in 1.7.0.\n",
      "  warnings.warn(\"`use_label_encoder` is deprecated in 1.7.0.\")\n",
      "/home/vscode/.local/share/virtualenvs/python_api_sample_1-VfmthB3j/lib/python3.9/site-packages/xgboost/sklearn.py:1395: UserWarning: `use_label_encoder` is deprecated in 1.7.0.\n",
      "  warnings.warn(\"`use_label_encoder` is deprecated in 1.7.0.\")\n",
      "/home/vscode/.local/share/virtualenvs/python_api_sample_1-VfmthB3j/lib/python3.9/site-packages/xgboost/sklearn.py:1395: UserWarning: `use_label_encoder` is deprecated in 1.7.0.\n",
      "  warnings.warn(\"`use_label_encoder` is deprecated in 1.7.0.\")\n"
     ]
    },
    {
     "name": "stdout",
     "output_type": "stream",
     "text": [
      "[flaml.automl.automl: 01-16 08:04:39] {3507} INFO -  at 2.7s,\testimator lgbm's best error=0.3664,\tbest estimator lgbm's best error=0.3664\n",
      "[flaml.automl.automl: 01-16 08:04:39] {3322} INFO - iteration 23, current learner lgbm\n",
      "[flaml.automl.automl: 01-16 08:04:39] {3507} INFO -  at 2.8s,\testimator lgbm's best error=0.3664,\tbest estimator lgbm's best error=0.3664\n",
      "[flaml.automl.automl: 01-16 08:04:39] {3322} INFO - iteration 24, current learner extra_tree\n",
      "[flaml.automl.automl: 01-16 08:04:39] {3507} INFO -  at 2.9s,\testimator extra_tree's best error=0.6546,\tbest estimator lgbm's best error=0.3664\n",
      "[flaml.automl.automl: 01-16 08:04:39] {3322} INFO - iteration 25, current learner extra_tree\n",
      "[flaml.automl.automl: 01-16 08:04:39] {3507} INFO -  at 3.1s,\testimator extra_tree's best error=0.6038,\tbest estimator lgbm's best error=0.3664\n",
      "[flaml.automl.automl: 01-16 08:04:39] {3322} INFO - iteration 26, current learner rf\n",
      "[flaml.automl.automl: 01-16 08:04:39] {3507} INFO -  at 3.2s,\testimator rf's best error=0.6128,\tbest estimator lgbm's best error=0.3664\n",
      "[flaml.automl.automl: 01-16 08:04:39] {3322} INFO - iteration 27, current learner xgboost\n",
      "[flaml.automl.automl: 01-16 08:04:39] {3507} INFO -  at 3.3s,\testimator xgboost's best error=0.4533,\tbest estimator lgbm's best error=0.3664\n",
      "[flaml.automl.automl: 01-16 08:04:39] {3322} INFO - iteration 28, current learner xgboost\n"
     ]
    },
    {
     "name": "stderr",
     "output_type": "stream",
     "text": [
      "/home/vscode/.local/share/virtualenvs/python_api_sample_1-VfmthB3j/lib/python3.9/site-packages/xgboost/sklearn.py:1395: UserWarning: `use_label_encoder` is deprecated in 1.7.0.\n",
      "  warnings.warn(\"`use_label_encoder` is deprecated in 1.7.0.\")\n",
      "/home/vscode/.local/share/virtualenvs/python_api_sample_1-VfmthB3j/lib/python3.9/site-packages/xgboost/sklearn.py:1395: UserWarning: `use_label_encoder` is deprecated in 1.7.0.\n",
      "  warnings.warn(\"`use_label_encoder` is deprecated in 1.7.0.\")\n",
      "/home/vscode/.local/share/virtualenvs/python_api_sample_1-VfmthB3j/lib/python3.9/site-packages/xgboost/sklearn.py:1395: UserWarning: `use_label_encoder` is deprecated in 1.7.0.\n",
      "  warnings.warn(\"`use_label_encoder` is deprecated in 1.7.0.\")\n",
      "/home/vscode/.local/share/virtualenvs/python_api_sample_1-VfmthB3j/lib/python3.9/site-packages/xgboost/sklearn.py:1395: UserWarning: `use_label_encoder` is deprecated in 1.7.0.\n",
      "  warnings.warn(\"`use_label_encoder` is deprecated in 1.7.0.\")\n",
      "/home/vscode/.local/share/virtualenvs/python_api_sample_1-VfmthB3j/lib/python3.9/site-packages/xgboost/sklearn.py:1395: UserWarning: `use_label_encoder` is deprecated in 1.7.0.\n",
      "  warnings.warn(\"`use_label_encoder` is deprecated in 1.7.0.\")\n",
      "/home/vscode/.local/share/virtualenvs/python_api_sample_1-VfmthB3j/lib/python3.9/site-packages/xgboost/sklearn.py:1395: UserWarning: `use_label_encoder` is deprecated in 1.7.0.\n",
      "  warnings.warn(\"`use_label_encoder` is deprecated in 1.7.0.\")\n",
      "/home/vscode/.local/share/virtualenvs/python_api_sample_1-VfmthB3j/lib/python3.9/site-packages/xgboost/sklearn.py:1395: UserWarning: `use_label_encoder` is deprecated in 1.7.0.\n",
      "  warnings.warn(\"`use_label_encoder` is deprecated in 1.7.0.\")\n",
      "/home/vscode/.local/share/virtualenvs/python_api_sample_1-VfmthB3j/lib/python3.9/site-packages/xgboost/sklearn.py:1395: UserWarning: `use_label_encoder` is deprecated in 1.7.0.\n",
      "  warnings.warn(\"`use_label_encoder` is deprecated in 1.7.0.\")\n"
     ]
    },
    {
     "name": "stdout",
     "output_type": "stream",
     "text": [
      "[flaml.automl.automl: 01-16 08:04:39] {3507} INFO -  at 3.5s,\testimator xgboost's best error=0.4113,\tbest estimator lgbm's best error=0.3664\n",
      "[flaml.automl.automl: 01-16 08:04:39] {3322} INFO - iteration 29, current learner xgboost\n"
     ]
    },
    {
     "name": "stderr",
     "output_type": "stream",
     "text": [
      "/home/vscode/.local/share/virtualenvs/python_api_sample_1-VfmthB3j/lib/python3.9/site-packages/xgboost/sklearn.py:1395: UserWarning: `use_label_encoder` is deprecated in 1.7.0.\n",
      "  warnings.warn(\"`use_label_encoder` is deprecated in 1.7.0.\")\n",
      "/home/vscode/.local/share/virtualenvs/python_api_sample_1-VfmthB3j/lib/python3.9/site-packages/xgboost/sklearn.py:1395: UserWarning: `use_label_encoder` is deprecated in 1.7.0.\n",
      "  warnings.warn(\"`use_label_encoder` is deprecated in 1.7.0.\")\n",
      "/home/vscode/.local/share/virtualenvs/python_api_sample_1-VfmthB3j/lib/python3.9/site-packages/xgboost/sklearn.py:1395: UserWarning: `use_label_encoder` is deprecated in 1.7.0.\n",
      "  warnings.warn(\"`use_label_encoder` is deprecated in 1.7.0.\")\n",
      "/home/vscode/.local/share/virtualenvs/python_api_sample_1-VfmthB3j/lib/python3.9/site-packages/xgboost/sklearn.py:1395: UserWarning: `use_label_encoder` is deprecated in 1.7.0.\n",
      "  warnings.warn(\"`use_label_encoder` is deprecated in 1.7.0.\")\n",
      "/home/vscode/.local/share/virtualenvs/python_api_sample_1-VfmthB3j/lib/python3.9/site-packages/xgboost/sklearn.py:1395: UserWarning: `use_label_encoder` is deprecated in 1.7.0.\n",
      "  warnings.warn(\"`use_label_encoder` is deprecated in 1.7.0.\")\n",
      "/home/vscode/.local/share/virtualenvs/python_api_sample_1-VfmthB3j/lib/python3.9/site-packages/xgboost/sklearn.py:1395: UserWarning: `use_label_encoder` is deprecated in 1.7.0.\n",
      "  warnings.warn(\"`use_label_encoder` is deprecated in 1.7.0.\")\n"
     ]
    },
    {
     "name": "stdout",
     "output_type": "stream",
     "text": [
      "[flaml.automl.automl: 01-16 08:04:40] {3507} INFO -  at 3.7s,\testimator xgboost's best error=0.4113,\tbest estimator lgbm's best error=0.3664\n",
      "[flaml.automl.automl: 01-16 08:04:40] {3322} INFO - iteration 30, current learner lgbm\n",
      "[flaml.automl.automl: 01-16 08:04:40] {3507} INFO -  at 3.8s,\testimator lgbm's best error=0.3664,\tbest estimator lgbm's best error=0.3664\n",
      "[flaml.automl.automl: 01-16 08:04:40] {3322} INFO - iteration 31, current learner lgbm\n"
     ]
    },
    {
     "name": "stderr",
     "output_type": "stream",
     "text": [
      "/home/vscode/.local/share/virtualenvs/python_api_sample_1-VfmthB3j/lib/python3.9/site-packages/xgboost/sklearn.py:1395: UserWarning: `use_label_encoder` is deprecated in 1.7.0.\n",
      "  warnings.warn(\"`use_label_encoder` is deprecated in 1.7.0.\")\n"
     ]
    },
    {
     "name": "stdout",
     "output_type": "stream",
     "text": [
      "[flaml.automl.automl: 01-16 08:04:40] {3507} INFO -  at 3.9s,\testimator lgbm's best error=0.3664,\tbest estimator lgbm's best error=0.3664\n",
      "[flaml.automl.automl: 01-16 08:04:40] {3322} INFO - iteration 32, current learner lgbm\n",
      "[flaml.automl.automl: 01-16 08:04:40] {3507} INFO -  at 4.1s,\testimator lgbm's best error=0.3664,\tbest estimator lgbm's best error=0.3664\n",
      "[flaml.automl.automl: 01-16 08:04:40] {3322} INFO - iteration 33, current learner xgboost\n",
      "[flaml.automl.automl: 01-16 08:04:40] {3507} INFO -  at 4.2s,\testimator xgboost's best error=0.4113,\tbest estimator lgbm's best error=0.3664\n",
      "[flaml.automl.automl: 01-16 08:04:40] {3322} INFO - iteration 34, current learner lgbm\n"
     ]
    },
    {
     "name": "stderr",
     "output_type": "stream",
     "text": [
      "/home/vscode/.local/share/virtualenvs/python_api_sample_1-VfmthB3j/lib/python3.9/site-packages/xgboost/sklearn.py:1395: UserWarning: `use_label_encoder` is deprecated in 1.7.0.\n",
      "  warnings.warn(\"`use_label_encoder` is deprecated in 1.7.0.\")\n",
      "/home/vscode/.local/share/virtualenvs/python_api_sample_1-VfmthB3j/lib/python3.9/site-packages/xgboost/sklearn.py:1395: UserWarning: `use_label_encoder` is deprecated in 1.7.0.\n",
      "  warnings.warn(\"`use_label_encoder` is deprecated in 1.7.0.\")\n",
      "/home/vscode/.local/share/virtualenvs/python_api_sample_1-VfmthB3j/lib/python3.9/site-packages/xgboost/sklearn.py:1395: UserWarning: `use_label_encoder` is deprecated in 1.7.0.\n",
      "  warnings.warn(\"`use_label_encoder` is deprecated in 1.7.0.\")\n",
      "/home/vscode/.local/share/virtualenvs/python_api_sample_1-VfmthB3j/lib/python3.9/site-packages/xgboost/sklearn.py:1395: UserWarning: `use_label_encoder` is deprecated in 1.7.0.\n",
      "  warnings.warn(\"`use_label_encoder` is deprecated in 1.7.0.\")\n",
      "/home/vscode/.local/share/virtualenvs/python_api_sample_1-VfmthB3j/lib/python3.9/site-packages/xgboost/sklearn.py:1395: UserWarning: `use_label_encoder` is deprecated in 1.7.0.\n",
      "  warnings.warn(\"`use_label_encoder` is deprecated in 1.7.0.\")\n"
     ]
    },
    {
     "name": "stdout",
     "output_type": "stream",
     "text": [
      "[flaml.automl.automl: 01-16 08:04:40] {3507} INFO -  at 4.3s,\testimator lgbm's best error=0.3664,\tbest estimator lgbm's best error=0.3664\n",
      "[flaml.automl.automl: 01-16 08:04:40] {3322} INFO - iteration 35, current learner rf\n",
      "[flaml.automl.automl: 01-16 08:04:40] {3507} INFO -  at 4.5s,\testimator rf's best error=0.6022,\tbest estimator lgbm's best error=0.3664\n",
      "[flaml.automl.automl: 01-16 08:04:40] {3322} INFO - iteration 36, current learner extra_tree\n",
      "[flaml.automl.automl: 01-16 08:04:41] {3507} INFO -  at 4.7s,\testimator extra_tree's best error=0.6038,\tbest estimator lgbm's best error=0.3664\n",
      "[flaml.automl.automl: 01-16 08:04:41] {3322} INFO - iteration 37, current learner xgboost\n",
      "[flaml.automl.automl: 01-16 08:04:41] {3507} INFO -  at 4.8s,\testimator xgboost's best error=0.3898,\tbest estimator lgbm's best error=0.3664\n",
      "[flaml.automl.automl: 01-16 08:04:41] {3322} INFO - iteration 38, current learner xgboost\n"
     ]
    },
    {
     "name": "stderr",
     "output_type": "stream",
     "text": [
      "/home/vscode/.local/share/virtualenvs/python_api_sample_1-VfmthB3j/lib/python3.9/site-packages/xgboost/sklearn.py:1395: UserWarning: `use_label_encoder` is deprecated in 1.7.0.\n",
      "  warnings.warn(\"`use_label_encoder` is deprecated in 1.7.0.\")\n",
      "/home/vscode/.local/share/virtualenvs/python_api_sample_1-VfmthB3j/lib/python3.9/site-packages/xgboost/sklearn.py:1395: UserWarning: `use_label_encoder` is deprecated in 1.7.0.\n",
      "  warnings.warn(\"`use_label_encoder` is deprecated in 1.7.0.\")\n",
      "/home/vscode/.local/share/virtualenvs/python_api_sample_1-VfmthB3j/lib/python3.9/site-packages/xgboost/sklearn.py:1395: UserWarning: `use_label_encoder` is deprecated in 1.7.0.\n",
      "  warnings.warn(\"`use_label_encoder` is deprecated in 1.7.0.\")\n",
      "/home/vscode/.local/share/virtualenvs/python_api_sample_1-VfmthB3j/lib/python3.9/site-packages/xgboost/sklearn.py:1395: UserWarning: `use_label_encoder` is deprecated in 1.7.0.\n",
      "  warnings.warn(\"`use_label_encoder` is deprecated in 1.7.0.\")\n",
      "/home/vscode/.local/share/virtualenvs/python_api_sample_1-VfmthB3j/lib/python3.9/site-packages/xgboost/sklearn.py:1395: UserWarning: `use_label_encoder` is deprecated in 1.7.0.\n",
      "  warnings.warn(\"`use_label_encoder` is deprecated in 1.7.0.\")\n",
      "/home/vscode/.local/share/virtualenvs/python_api_sample_1-VfmthB3j/lib/python3.9/site-packages/xgboost/sklearn.py:1395: UserWarning: `use_label_encoder` is deprecated in 1.7.0.\n",
      "  warnings.warn(\"`use_label_encoder` is deprecated in 1.7.0.\")\n",
      "/home/vscode/.local/share/virtualenvs/python_api_sample_1-VfmthB3j/lib/python3.9/site-packages/xgboost/sklearn.py:1395: UserWarning: `use_label_encoder` is deprecated in 1.7.0.\n",
      "  warnings.warn(\"`use_label_encoder` is deprecated in 1.7.0.\")\n"
     ]
    },
    {
     "name": "stdout",
     "output_type": "stream",
     "text": [
      "[flaml.automl.automl: 01-16 08:04:41] {3507} INFO -  at 5.0s,\testimator xgboost's best error=0.3898,\tbest estimator lgbm's best error=0.3664\n",
      "[flaml.automl.automl: 01-16 08:04:41] {3322} INFO - iteration 39, current learner lgbm\n"
     ]
    },
    {
     "name": "stderr",
     "output_type": "stream",
     "text": [
      "/home/vscode/.local/share/virtualenvs/python_api_sample_1-VfmthB3j/lib/python3.9/site-packages/xgboost/sklearn.py:1395: UserWarning: `use_label_encoder` is deprecated in 1.7.0.\n",
      "  warnings.warn(\"`use_label_encoder` is deprecated in 1.7.0.\")\n",
      "/home/vscode/.local/share/virtualenvs/python_api_sample_1-VfmthB3j/lib/python3.9/site-packages/xgboost/sklearn.py:1395: UserWarning: `use_label_encoder` is deprecated in 1.7.0.\n",
      "  warnings.warn(\"`use_label_encoder` is deprecated in 1.7.0.\")\n",
      "/home/vscode/.local/share/virtualenvs/python_api_sample_1-VfmthB3j/lib/python3.9/site-packages/xgboost/sklearn.py:1395: UserWarning: `use_label_encoder` is deprecated in 1.7.0.\n",
      "  warnings.warn(\"`use_label_encoder` is deprecated in 1.7.0.\")\n"
     ]
    },
    {
     "name": "stdout",
     "output_type": "stream",
     "text": [
      "[flaml.automl.automl: 01-16 08:04:41] {3507} INFO -  at 5.1s,\testimator lgbm's best error=0.3664,\tbest estimator lgbm's best error=0.3664\n",
      "[flaml.automl.automl: 01-16 08:04:41] {3322} INFO - iteration 40, current learner xgboost\n",
      "[flaml.automl.automl: 01-16 08:04:41] {3507} INFO -  at 5.3s,\testimator xgboost's best error=0.3898,\tbest estimator lgbm's best error=0.3664\n",
      "[flaml.automl.automl: 01-16 08:04:41] {3322} INFO - iteration 41, current learner xgboost\n"
     ]
    },
    {
     "name": "stderr",
     "output_type": "stream",
     "text": [
      "/home/vscode/.local/share/virtualenvs/python_api_sample_1-VfmthB3j/lib/python3.9/site-packages/xgboost/sklearn.py:1395: UserWarning: `use_label_encoder` is deprecated in 1.7.0.\n",
      "  warnings.warn(\"`use_label_encoder` is deprecated in 1.7.0.\")\n",
      "/home/vscode/.local/share/virtualenvs/python_api_sample_1-VfmthB3j/lib/python3.9/site-packages/xgboost/sklearn.py:1395: UserWarning: `use_label_encoder` is deprecated in 1.7.0.\n",
      "  warnings.warn(\"`use_label_encoder` is deprecated in 1.7.0.\")\n",
      "/home/vscode/.local/share/virtualenvs/python_api_sample_1-VfmthB3j/lib/python3.9/site-packages/xgboost/sklearn.py:1395: UserWarning: `use_label_encoder` is deprecated in 1.7.0.\n",
      "  warnings.warn(\"`use_label_encoder` is deprecated in 1.7.0.\")\n",
      "/home/vscode/.local/share/virtualenvs/python_api_sample_1-VfmthB3j/lib/python3.9/site-packages/xgboost/sklearn.py:1395: UserWarning: `use_label_encoder` is deprecated in 1.7.0.\n",
      "  warnings.warn(\"`use_label_encoder` is deprecated in 1.7.0.\")\n",
      "/home/vscode/.local/share/virtualenvs/python_api_sample_1-VfmthB3j/lib/python3.9/site-packages/xgboost/sklearn.py:1395: UserWarning: `use_label_encoder` is deprecated in 1.7.0.\n",
      "  warnings.warn(\"`use_label_encoder` is deprecated in 1.7.0.\")\n",
      "/home/vscode/.local/share/virtualenvs/python_api_sample_1-VfmthB3j/lib/python3.9/site-packages/xgboost/sklearn.py:1395: UserWarning: `use_label_encoder` is deprecated in 1.7.0.\n",
      "  warnings.warn(\"`use_label_encoder` is deprecated in 1.7.0.\")\n",
      "/home/vscode/.local/share/virtualenvs/python_api_sample_1-VfmthB3j/lib/python3.9/site-packages/xgboost/sklearn.py:1395: UserWarning: `use_label_encoder` is deprecated in 1.7.0.\n",
      "  warnings.warn(\"`use_label_encoder` is deprecated in 1.7.0.\")\n",
      "/home/vscode/.local/share/virtualenvs/python_api_sample_1-VfmthB3j/lib/python3.9/site-packages/xgboost/sklearn.py:1395: UserWarning: `use_label_encoder` is deprecated in 1.7.0.\n",
      "  warnings.warn(\"`use_label_encoder` is deprecated in 1.7.0.\")\n"
     ]
    },
    {
     "name": "stdout",
     "output_type": "stream",
     "text": [
      "[flaml.automl.automl: 01-16 08:04:41] {3507} INFO -  at 5.4s,\testimator xgboost's best error=0.3898,\tbest estimator lgbm's best error=0.3664\n",
      "[flaml.automl.automl: 01-16 08:04:41] {3322} INFO - iteration 42, current learner lgbm\n",
      "[flaml.automl.automl: 01-16 08:04:41] {3507} INFO -  at 5.6s,\testimator lgbm's best error=0.3664,\tbest estimator lgbm's best error=0.3664\n",
      "[flaml.automl.automl: 01-16 08:04:41] {3322} INFO - iteration 43, current learner xgboost\n"
     ]
    },
    {
     "name": "stderr",
     "output_type": "stream",
     "text": [
      "/home/vscode/.local/share/virtualenvs/python_api_sample_1-VfmthB3j/lib/python3.9/site-packages/xgboost/sklearn.py:1395: UserWarning: `use_label_encoder` is deprecated in 1.7.0.\n",
      "  warnings.warn(\"`use_label_encoder` is deprecated in 1.7.0.\")\n",
      "/home/vscode/.local/share/virtualenvs/python_api_sample_1-VfmthB3j/lib/python3.9/site-packages/xgboost/sklearn.py:1395: UserWarning: `use_label_encoder` is deprecated in 1.7.0.\n",
      "  warnings.warn(\"`use_label_encoder` is deprecated in 1.7.0.\")\n",
      "/home/vscode/.local/share/virtualenvs/python_api_sample_1-VfmthB3j/lib/python3.9/site-packages/xgboost/sklearn.py:1395: UserWarning: `use_label_encoder` is deprecated in 1.7.0.\n",
      "  warnings.warn(\"`use_label_encoder` is deprecated in 1.7.0.\")\n"
     ]
    },
    {
     "name": "stdout",
     "output_type": "stream",
     "text": [
      "[flaml.automl.automl: 01-16 08:04:42] {3507} INFO -  at 5.8s,\testimator xgboost's best error=0.3894,\tbest estimator lgbm's best error=0.3664\n",
      "[flaml.automl.automl: 01-16 08:04:42] {3322} INFO - iteration 44, current learner extra_tree\n"
     ]
    },
    {
     "name": "stderr",
     "output_type": "stream",
     "text": [
      "/home/vscode/.local/share/virtualenvs/python_api_sample_1-VfmthB3j/lib/python3.9/site-packages/xgboost/sklearn.py:1395: UserWarning: `use_label_encoder` is deprecated in 1.7.0.\n",
      "  warnings.warn(\"`use_label_encoder` is deprecated in 1.7.0.\")\n",
      "/home/vscode/.local/share/virtualenvs/python_api_sample_1-VfmthB3j/lib/python3.9/site-packages/xgboost/sklearn.py:1395: UserWarning: `use_label_encoder` is deprecated in 1.7.0.\n",
      "  warnings.warn(\"`use_label_encoder` is deprecated in 1.7.0.\")\n",
      "/home/vscode/.local/share/virtualenvs/python_api_sample_1-VfmthB3j/lib/python3.9/site-packages/xgboost/sklearn.py:1395: UserWarning: `use_label_encoder` is deprecated in 1.7.0.\n",
      "  warnings.warn(\"`use_label_encoder` is deprecated in 1.7.0.\")\n",
      "/home/vscode/.local/share/virtualenvs/python_api_sample_1-VfmthB3j/lib/python3.9/site-packages/xgboost/sklearn.py:1395: UserWarning: `use_label_encoder` is deprecated in 1.7.0.\n",
      "  warnings.warn(\"`use_label_encoder` is deprecated in 1.7.0.\")\n"
     ]
    },
    {
     "name": "stdout",
     "output_type": "stream",
     "text": [
      "[flaml.automl.automl: 01-16 08:04:42] {3507} INFO -  at 5.9s,\testimator extra_tree's best error=0.5658,\tbest estimator lgbm's best error=0.3664\n",
      "[flaml.automl.automl: 01-16 08:04:42] {3322} INFO - iteration 45, current learner extra_tree\n",
      "[flaml.automl.automl: 01-16 08:04:42] {3507} INFO -  at 6.1s,\testimator extra_tree's best error=0.4686,\tbest estimator lgbm's best error=0.3664\n",
      "[flaml.automl.automl: 01-16 08:04:42] {3322} INFO - iteration 46, current learner extra_tree\n",
      "[flaml.automl.automl: 01-16 08:04:42] {3507} INFO -  at 6.2s,\testimator extra_tree's best error=0.4686,\tbest estimator lgbm's best error=0.3664\n",
      "[flaml.automl.automl: 01-16 08:04:42] {3322} INFO - iteration 47, current learner extra_tree\n",
      "[flaml.automl.automl: 01-16 08:04:42] {3507} INFO -  at 6.4s,\testimator extra_tree's best error=0.4686,\tbest estimator lgbm's best error=0.3664\n",
      "[flaml.automl.automl: 01-16 08:04:42] {3322} INFO - iteration 48, current learner lgbm\n",
      "[flaml.automl.automl: 01-16 08:04:42] {3507} INFO -  at 6.6s,\testimator lgbm's best error=0.3664,\tbest estimator lgbm's best error=0.3664\n",
      "[flaml.automl.automl: 01-16 08:04:42] {3322} INFO - iteration 49, current learner rf\n",
      "[flaml.automl.automl: 01-16 08:04:43] {3507} INFO -  at 6.7s,\testimator rf's best error=0.6022,\tbest estimator lgbm's best error=0.3664\n",
      "[flaml.automl.automl: 01-16 08:04:43] {3322} INFO - iteration 50, current learner extra_tree\n",
      "[flaml.automl.automl: 01-16 08:04:43] {3507} INFO -  at 6.9s,\testimator extra_tree's best error=0.4526,\tbest estimator lgbm's best error=0.3664\n",
      "[flaml.automl.automl: 01-16 08:04:43] {3322} INFO - iteration 51, current learner lgbm\n",
      "[flaml.automl.automl: 01-16 08:04:43] {3507} INFO -  at 7.0s,\testimator lgbm's best error=0.3664,\tbest estimator lgbm's best error=0.3664\n",
      "[flaml.automl.automl: 01-16 08:04:43] {3322} INFO - iteration 52, current learner lgbm\n",
      "[flaml.automl.automl: 01-16 08:04:43] {3507} INFO -  at 7.1s,\testimator lgbm's best error=0.3649,\tbest estimator lgbm's best error=0.3649\n",
      "[flaml.automl.automl: 01-16 08:04:43] {3322} INFO - iteration 53, current learner lgbm\n",
      "[flaml.automl.automl: 01-16 08:04:43] {3507} INFO -  at 7.2s,\testimator lgbm's best error=0.3649,\tbest estimator lgbm's best error=0.3649\n",
      "[flaml.automl.automl: 01-16 08:04:43] {3322} INFO - iteration 54, current learner lgbm\n",
      "[flaml.automl.automl: 01-16 08:04:43] {3507} INFO -  at 7.4s,\testimator lgbm's best error=0.3649,\tbest estimator lgbm's best error=0.3649\n",
      "[flaml.automl.automl: 01-16 08:04:43] {3322} INFO - iteration 55, current learner lgbm\n",
      "[flaml.automl.automl: 01-16 08:04:43] {3507} INFO -  at 7.5s,\testimator lgbm's best error=0.3649,\tbest estimator lgbm's best error=0.3649\n",
      "[flaml.automl.automl: 01-16 08:04:43] {3322} INFO - iteration 56, current learner lgbm\n",
      "[flaml.automl.automl: 01-16 08:04:44] {3507} INFO -  at 7.7s,\testimator lgbm's best error=0.3649,\tbest estimator lgbm's best error=0.3649\n",
      "[flaml.automl.automl: 01-16 08:04:44] {3322} INFO - iteration 57, current learner lgbm\n",
      "[flaml.automl.automl: 01-16 08:04:44] {3507} INFO -  at 7.8s,\testimator lgbm's best error=0.3649,\tbest estimator lgbm's best error=0.3649\n",
      "[flaml.automl.automl: 01-16 08:04:44] {3322} INFO - iteration 58, current learner lgbm\n",
      "[flaml.automl.automl: 01-16 08:04:44] {3507} INFO -  at 8.0s,\testimator lgbm's best error=0.3649,\tbest estimator lgbm's best error=0.3649\n",
      "[flaml.automl.automl: 01-16 08:04:44] {3322} INFO - iteration 59, current learner lgbm\n",
      "[flaml.automl.automl: 01-16 08:04:44] {3507} INFO -  at 8.1s,\testimator lgbm's best error=0.3649,\tbest estimator lgbm's best error=0.3649\n",
      "[flaml.automl.automl: 01-16 08:04:44] {3322} INFO - iteration 60, current learner lgbm\n",
      "[flaml.automl.automl: 01-16 08:04:44] {3507} INFO -  at 8.2s,\testimator lgbm's best error=0.3649,\tbest estimator lgbm's best error=0.3649\n",
      "[flaml.automl.automl: 01-16 08:04:44] {3322} INFO - iteration 61, current learner lgbm\n",
      "[flaml.automl.automl: 01-16 08:04:44] {3507} INFO -  at 8.4s,\testimator lgbm's best error=0.3647,\tbest estimator lgbm's best error=0.3647\n",
      "[flaml.automl.automl: 01-16 08:04:44] {3322} INFO - iteration 62, current learner lgbm\n",
      "[flaml.automl.automl: 01-16 08:04:44] {3507} INFO -  at 8.6s,\testimator lgbm's best error=0.3647,\tbest estimator lgbm's best error=0.3647\n",
      "[flaml.automl.automl: 01-16 08:04:45] {3322} INFO - iteration 63, current learner lgbm\n",
      "[flaml.automl.automl: 01-16 08:04:45] {3507} INFO -  at 8.8s,\testimator lgbm's best error=0.3593,\tbest estimator lgbm's best error=0.3593\n",
      "[flaml.automl.automl: 01-16 08:04:45] {3322} INFO - iteration 64, current learner lgbm\n",
      "[flaml.automl.automl: 01-16 08:04:45] {3507} INFO -  at 9.0s,\testimator lgbm's best error=0.3593,\tbest estimator lgbm's best error=0.3593\n",
      "[flaml.automl.automl: 01-16 08:04:45] {3322} INFO - iteration 65, current learner lgbm\n",
      "[flaml.automl.automl: 01-16 08:04:45] {3507} INFO -  at 9.3s,\testimator lgbm's best error=0.3558,\tbest estimator lgbm's best error=0.3558\n",
      "[flaml.automl.automl: 01-16 08:04:45] {3322} INFO - iteration 66, current learner lgbm\n",
      "[flaml.automl.automl: 01-16 08:04:46] {3507} INFO -  at 10.1s,\testimator lgbm's best error=0.3543,\tbest estimator lgbm's best error=0.3543\n",
      "[flaml.automl.automl: 01-16 08:04:46] {3322} INFO - iteration 67, current learner lgbm\n",
      "[flaml.automl.automl: 01-16 08:04:46] {3507} INFO -  at 10.3s,\testimator lgbm's best error=0.3543,\tbest estimator lgbm's best error=0.3543\n",
      "[flaml.automl.automl: 01-16 08:04:46] {3322} INFO - iteration 68, current learner lgbm\n",
      "[flaml.automl.automl: 01-16 08:04:47] {3507} INFO -  at 11.4s,\testimator lgbm's best error=0.3543,\tbest estimator lgbm's best error=0.3543\n",
      "[flaml.automl.automl: 01-16 08:04:47] {3322} INFO - iteration 69, current learner lgbm\n",
      "[flaml.automl.automl: 01-16 08:04:48] {3507} INFO -  at 12.0s,\testimator lgbm's best error=0.3543,\tbest estimator lgbm's best error=0.3543\n",
      "[flaml.automl.automl: 01-16 08:04:48] {3322} INFO - iteration 70, current learner lgbm\n",
      "[flaml.automl.automl: 01-16 08:04:50] {3507} INFO -  at 13.8s,\testimator lgbm's best error=0.3543,\tbest estimator lgbm's best error=0.3543\n",
      "[flaml.automl.automl: 01-16 08:04:50] {3322} INFO - iteration 71, current learner lgbm\n",
      "[flaml.automl.automl: 01-16 08:04:50] {3507} INFO -  at 14.2s,\testimator lgbm's best error=0.3543,\tbest estimator lgbm's best error=0.3543\n",
      "[flaml.automl.automl: 01-16 08:04:50] {3322} INFO - iteration 72, current learner extra_tree\n",
      "[flaml.automl.automl: 01-16 08:04:50] {3507} INFO -  at 14.3s,\testimator extra_tree's best error=0.4526,\tbest estimator lgbm's best error=0.3543\n",
      "[flaml.automl.automl: 01-16 08:04:50] {3322} INFO - iteration 73, current learner rf\n",
      "[flaml.automl.automl: 01-16 08:04:50] {3507} INFO -  at 14.6s,\testimator rf's best error=0.6022,\tbest estimator lgbm's best error=0.3543\n",
      "[flaml.automl.automl: 01-16 08:04:50] {3322} INFO - iteration 74, current learner extra_tree\n",
      "[flaml.automl.automl: 01-16 08:04:51] {3507} INFO -  at 14.8s,\testimator extra_tree's best error=0.4351,\tbest estimator lgbm's best error=0.3543\n",
      "[flaml.automl.automl: 01-16 08:04:51] {3322} INFO - iteration 75, current learner lgbm\n",
      "[flaml.automl.automl: 01-16 08:04:51] {3507} INFO -  at 15.1s,\testimator lgbm's best error=0.3543,\tbest estimator lgbm's best error=0.3543\n",
      "[flaml.automl.automl: 01-16 08:04:51] {3322} INFO - iteration 76, current learner lgbm\n",
      "[flaml.automl.automl: 01-16 08:04:53] {3507} INFO -  at 16.7s,\testimator lgbm's best error=0.3542,\tbest estimator lgbm's best error=0.3542\n",
      "[flaml.automl.automl: 01-16 08:04:53] {3322} INFO - iteration 77, current learner extra_tree\n",
      "[flaml.automl.automl: 01-16 08:04:53] {3507} INFO -  at 16.9s,\testimator extra_tree's best error=0.4351,\tbest estimator lgbm's best error=0.3542\n",
      "[flaml.automl.automl: 01-16 08:04:53] {3322} INFO - iteration 78, current learner lgbm\n",
      "[flaml.automl.automl: 01-16 08:04:55] {3507} INFO -  at 19.5s,\testimator lgbm's best error=0.3542,\tbest estimator lgbm's best error=0.3542\n",
      "[flaml.automl.automl: 01-16 08:04:55] {3322} INFO - iteration 79, current learner lgbm\n",
      "[flaml.automl.automl: 01-16 08:04:56] {3507} INFO -  at 20.5s,\testimator lgbm's best error=0.3542,\tbest estimator lgbm's best error=0.3542\n",
      "[flaml.automl.automl: 01-16 08:04:56] {3322} INFO - iteration 80, current learner extra_tree\n",
      "[flaml.automl.automl: 01-16 08:04:57] {3507} INFO -  at 20.9s,\testimator extra_tree's best error=0.4029,\tbest estimator lgbm's best error=0.3542\n",
      "[flaml.automl.automl: 01-16 08:04:57] {3322} INFO - iteration 81, current learner extra_tree\n",
      "[flaml.automl.automl: 01-16 08:04:57] {3507} INFO -  at 21.3s,\testimator extra_tree's best error=0.3515,\tbest estimator extra_tree's best error=0.3515\n",
      "[flaml.automl.automl: 01-16 08:04:57] {3322} INFO - iteration 82, current learner extra_tree\n",
      "[flaml.automl.automl: 01-16 08:04:58] {3507} INFO -  at 21.9s,\testimator extra_tree's best error=0.3515,\tbest estimator extra_tree's best error=0.3515\n",
      "[flaml.automl.automl: 01-16 08:04:58] {3322} INFO - iteration 83, current learner extra_tree\n",
      "[flaml.automl.automl: 01-16 08:04:58] {3507} INFO -  at 22.1s,\testimator extra_tree's best error=0.3515,\tbest estimator extra_tree's best error=0.3515\n",
      "[flaml.automl.automl: 01-16 08:04:58] {3322} INFO - iteration 84, current learner extra_tree\n",
      "[flaml.automl.automl: 01-16 08:04:59] {3507} INFO -  at 22.6s,\testimator extra_tree's best error=0.3407,\tbest estimator extra_tree's best error=0.3407\n",
      "[flaml.automl.automl: 01-16 08:04:59] {3322} INFO - iteration 85, current learner extra_tree\n",
      "[flaml.automl.automl: 01-16 08:04:59] {3507} INFO -  at 23.1s,\testimator extra_tree's best error=0.3272,\tbest estimator extra_tree's best error=0.3272\n",
      "[flaml.automl.automl: 01-16 08:04:59] {3322} INFO - iteration 86, current learner extra_tree\n",
      "[flaml.automl.automl: 01-16 08:04:59] {3507} INFO -  at 23.6s,\testimator extra_tree's best error=0.3272,\tbest estimator extra_tree's best error=0.3272\n",
      "[flaml.automl.automl: 01-16 08:04:59] {3322} INFO - iteration 87, current learner extra_tree\n",
      "[flaml.automl.automl: 01-16 08:05:00] {3507} INFO -  at 24.1s,\testimator extra_tree's best error=0.3272,\tbest estimator extra_tree's best error=0.3272\n",
      "[flaml.automl.automl: 01-16 08:05:00] {3322} INFO - iteration 88, current learner extra_tree\n",
      "[flaml.automl.automl: 01-16 08:05:00] {3507} INFO -  at 24.5s,\testimator extra_tree's best error=0.3272,\tbest estimator extra_tree's best error=0.3272\n",
      "[flaml.automl.automl: 01-16 08:05:00] {3322} INFO - iteration 89, current learner extra_tree\n",
      "[flaml.automl.automl: 01-16 08:05:01] {3507} INFO -  at 25.3s,\testimator extra_tree's best error=0.3272,\tbest estimator extra_tree's best error=0.3272\n",
      "[flaml.automl.automl: 01-16 08:05:01] {3322} INFO - iteration 90, current learner extra_tree\n",
      "[flaml.automl.automl: 01-16 08:05:01] {3507} INFO -  at 25.6s,\testimator extra_tree's best error=0.3272,\tbest estimator extra_tree's best error=0.3272\n",
      "[flaml.automl.automl: 01-16 08:05:01] {3322} INFO - iteration 91, current learner extra_tree\n",
      "[flaml.automl.automl: 01-16 08:05:02] {3507} INFO -  at 26.2s,\testimator extra_tree's best error=0.3272,\tbest estimator extra_tree's best error=0.3272\n",
      "[flaml.automl.automl: 01-16 08:05:02] {3322} INFO - iteration 92, current learner extra_tree\n",
      "[flaml.automl.automl: 01-16 08:05:02] {3507} INFO -  at 26.6s,\testimator extra_tree's best error=0.3272,\tbest estimator extra_tree's best error=0.3272\n",
      "[flaml.automl.automl: 01-16 08:05:02] {3322} INFO - iteration 93, current learner extra_tree\n",
      "[flaml.automl.automl: 01-16 08:05:03] {3507} INFO -  at 27.2s,\testimator extra_tree's best error=0.3272,\tbest estimator extra_tree's best error=0.3272\n",
      "[flaml.automl.automl: 01-16 08:05:03] {3322} INFO - iteration 94, current learner xgboost\n"
     ]
    },
    {
     "name": "stderr",
     "output_type": "stream",
     "text": [
      "/home/vscode/.local/share/virtualenvs/python_api_sample_1-VfmthB3j/lib/python3.9/site-packages/xgboost/sklearn.py:1395: UserWarning: `use_label_encoder` is deprecated in 1.7.0.\n",
      "  warnings.warn(\"`use_label_encoder` is deprecated in 1.7.0.\")\n",
      "/home/vscode/.local/share/virtualenvs/python_api_sample_1-VfmthB3j/lib/python3.9/site-packages/xgboost/sklearn.py:1395: UserWarning: `use_label_encoder` is deprecated in 1.7.0.\n",
      "  warnings.warn(\"`use_label_encoder` is deprecated in 1.7.0.\")\n",
      "/home/vscode/.local/share/virtualenvs/python_api_sample_1-VfmthB3j/lib/python3.9/site-packages/xgboost/sklearn.py:1395: UserWarning: `use_label_encoder` is deprecated in 1.7.0.\n",
      "  warnings.warn(\"`use_label_encoder` is deprecated in 1.7.0.\")\n",
      "/home/vscode/.local/share/virtualenvs/python_api_sample_1-VfmthB3j/lib/python3.9/site-packages/xgboost/sklearn.py:1395: UserWarning: `use_label_encoder` is deprecated in 1.7.0.\n",
      "  warnings.warn(\"`use_label_encoder` is deprecated in 1.7.0.\")\n",
      "/home/vscode/.local/share/virtualenvs/python_api_sample_1-VfmthB3j/lib/python3.9/site-packages/xgboost/sklearn.py:1395: UserWarning: `use_label_encoder` is deprecated in 1.7.0.\n",
      "  warnings.warn(\"`use_label_encoder` is deprecated in 1.7.0.\")\n"
     ]
    },
    {
     "name": "stdout",
     "output_type": "stream",
     "text": [
      "[flaml.automl.automl: 01-16 08:05:03] {3507} INFO -  at 27.5s,\testimator xgboost's best error=0.3894,\tbest estimator extra_tree's best error=0.3272\n",
      "[flaml.automl.automl: 01-16 08:05:03] {3322} INFO - iteration 95, current learner extra_tree\n",
      "[flaml.automl.automl: 01-16 08:05:04] {3507} INFO -  at 27.9s,\testimator extra_tree's best error=0.3272,\tbest estimator extra_tree's best error=0.3272\n",
      "[flaml.automl.automl: 01-16 08:05:04] {3322} INFO - iteration 96, current learner extra_tree\n",
      "[flaml.automl.automl: 01-16 08:05:04] {3507} INFO -  at 28.3s,\testimator extra_tree's best error=0.3272,\tbest estimator extra_tree's best error=0.3272\n",
      "[flaml.automl.automl: 01-16 08:05:04] {3322} INFO - iteration 97, current learner extra_tree\n",
      "[flaml.automl.automl: 01-16 08:05:05] {3507} INFO -  at 28.8s,\testimator extra_tree's best error=0.3272,\tbest estimator extra_tree's best error=0.3272\n",
      "[flaml.automl.automl: 01-16 08:05:05] {3322} INFO - iteration 98, current learner extra_tree\n",
      "[flaml.automl.automl: 01-16 08:05:05] {3507} INFO -  at 29.5s,\testimator extra_tree's best error=0.3272,\tbest estimator extra_tree's best error=0.3272\n",
      "[flaml.automl.automl: 01-16 08:05:05] {3322} INFO - iteration 99, current learner extra_tree\n",
      "[flaml.automl.automl: 01-16 08:05:06] {3507} INFO -  at 29.8s,\testimator extra_tree's best error=0.3272,\tbest estimator extra_tree's best error=0.3272\n",
      "[flaml.automl.automl: 01-16 08:05:06] {3322} INFO - iteration 100, current learner xgb_limitdepth\n"
     ]
    },
    {
     "name": "stderr",
     "output_type": "stream",
     "text": [
      "/home/vscode/.local/share/virtualenvs/python_api_sample_1-VfmthB3j/lib/python3.9/site-packages/xgboost/sklearn.py:1395: UserWarning: `use_label_encoder` is deprecated in 1.7.0.\n",
      "  warnings.warn(\"`use_label_encoder` is deprecated in 1.7.0.\")\n",
      "/home/vscode/.local/share/virtualenvs/python_api_sample_1-VfmthB3j/lib/python3.9/site-packages/xgboost/sklearn.py:1395: UserWarning: `use_label_encoder` is deprecated in 1.7.0.\n",
      "  warnings.warn(\"`use_label_encoder` is deprecated in 1.7.0.\")\n",
      "/home/vscode/.local/share/virtualenvs/python_api_sample_1-VfmthB3j/lib/python3.9/site-packages/xgboost/sklearn.py:1395: UserWarning: `use_label_encoder` is deprecated in 1.7.0.\n",
      "  warnings.warn(\"`use_label_encoder` is deprecated in 1.7.0.\")\n",
      "/home/vscode/.local/share/virtualenvs/python_api_sample_1-VfmthB3j/lib/python3.9/site-packages/xgboost/sklearn.py:1395: UserWarning: `use_label_encoder` is deprecated in 1.7.0.\n",
      "  warnings.warn(\"`use_label_encoder` is deprecated in 1.7.0.\")\n",
      "/home/vscode/.local/share/virtualenvs/python_api_sample_1-VfmthB3j/lib/python3.9/site-packages/xgboost/sklearn.py:1395: UserWarning: `use_label_encoder` is deprecated in 1.7.0.\n",
      "  warnings.warn(\"`use_label_encoder` is deprecated in 1.7.0.\")\n"
     ]
    },
    {
     "name": "stdout",
     "output_type": "stream",
     "text": [
      "[flaml.automl.automl: 01-16 08:05:06] {3507} INFO -  at 30.1s,\testimator xgb_limitdepth's best error=0.4796,\tbest estimator extra_tree's best error=0.3272\n",
      "[flaml.automl.automl: 01-16 08:05:06] {3322} INFO - iteration 101, current learner xgb_limitdepth\n",
      "[flaml.automl.automl: 01-16 08:05:06] {3507} INFO -  at 30.3s,\testimator xgb_limitdepth's best error=0.4796,\tbest estimator extra_tree's best error=0.3272\n",
      "[flaml.automl.automl: 01-16 08:05:06] {3322} INFO - iteration 102, current learner xgb_limitdepth\n"
     ]
    },
    {
     "name": "stderr",
     "output_type": "stream",
     "text": [
      "/home/vscode/.local/share/virtualenvs/python_api_sample_1-VfmthB3j/lib/python3.9/site-packages/xgboost/sklearn.py:1395: UserWarning: `use_label_encoder` is deprecated in 1.7.0.\n",
      "  warnings.warn(\"`use_label_encoder` is deprecated in 1.7.0.\")\n",
      "/home/vscode/.local/share/virtualenvs/python_api_sample_1-VfmthB3j/lib/python3.9/site-packages/xgboost/sklearn.py:1395: UserWarning: `use_label_encoder` is deprecated in 1.7.0.\n",
      "  warnings.warn(\"`use_label_encoder` is deprecated in 1.7.0.\")\n",
      "/home/vscode/.local/share/virtualenvs/python_api_sample_1-VfmthB3j/lib/python3.9/site-packages/xgboost/sklearn.py:1395: UserWarning: `use_label_encoder` is deprecated in 1.7.0.\n",
      "  warnings.warn(\"`use_label_encoder` is deprecated in 1.7.0.\")\n",
      "/home/vscode/.local/share/virtualenvs/python_api_sample_1-VfmthB3j/lib/python3.9/site-packages/xgboost/sklearn.py:1395: UserWarning: `use_label_encoder` is deprecated in 1.7.0.\n",
      "  warnings.warn(\"`use_label_encoder` is deprecated in 1.7.0.\")\n",
      "/home/vscode/.local/share/virtualenvs/python_api_sample_1-VfmthB3j/lib/python3.9/site-packages/xgboost/sklearn.py:1395: UserWarning: `use_label_encoder` is deprecated in 1.7.0.\n",
      "  warnings.warn(\"`use_label_encoder` is deprecated in 1.7.0.\")\n",
      "/home/vscode/.local/share/virtualenvs/python_api_sample_1-VfmthB3j/lib/python3.9/site-packages/xgboost/sklearn.py:1395: UserWarning: `use_label_encoder` is deprecated in 1.7.0.\n",
      "  warnings.warn(\"`use_label_encoder` is deprecated in 1.7.0.\")\n"
     ]
    },
    {
     "name": "stdout",
     "output_type": "stream",
     "text": [
      "[flaml.automl.automl: 01-16 08:05:06] {3507} INFO -  at 30.5s,\testimator xgb_limitdepth's best error=0.4796,\tbest estimator extra_tree's best error=0.3272\n",
      "[flaml.automl.automl: 01-16 08:05:06] {3322} INFO - iteration 103, current learner rf\n"
     ]
    },
    {
     "name": "stderr",
     "output_type": "stream",
     "text": [
      "/home/vscode/.local/share/virtualenvs/python_api_sample_1-VfmthB3j/lib/python3.9/site-packages/xgboost/sklearn.py:1395: UserWarning: `use_label_encoder` is deprecated in 1.7.0.\n",
      "  warnings.warn(\"`use_label_encoder` is deprecated in 1.7.0.\")\n",
      "/home/vscode/.local/share/virtualenvs/python_api_sample_1-VfmthB3j/lib/python3.9/site-packages/xgboost/sklearn.py:1395: UserWarning: `use_label_encoder` is deprecated in 1.7.0.\n",
      "  warnings.warn(\"`use_label_encoder` is deprecated in 1.7.0.\")\n",
      "/home/vscode/.local/share/virtualenvs/python_api_sample_1-VfmthB3j/lib/python3.9/site-packages/xgboost/sklearn.py:1395: UserWarning: `use_label_encoder` is deprecated in 1.7.0.\n",
      "  warnings.warn(\"`use_label_encoder` is deprecated in 1.7.0.\")\n",
      "/home/vscode/.local/share/virtualenvs/python_api_sample_1-VfmthB3j/lib/python3.9/site-packages/xgboost/sklearn.py:1395: UserWarning: `use_label_encoder` is deprecated in 1.7.0.\n",
      "  warnings.warn(\"`use_label_encoder` is deprecated in 1.7.0.\")\n"
     ]
    },
    {
     "name": "stdout",
     "output_type": "stream",
     "text": [
      "[flaml.automl.automl: 01-16 08:05:07] {3507} INFO -  at 30.6s,\testimator rf's best error=0.5606,\tbest estimator extra_tree's best error=0.3272\n",
      "[flaml.automl.automl: 01-16 08:05:07] {3322} INFO - iteration 104, current learner xgb_limitdepth\n",
      "[flaml.automl.automl: 01-16 08:05:07] {3507} INFO -  at 30.8s,\testimator xgb_limitdepth's best error=0.4213,\tbest estimator extra_tree's best error=0.3272\n",
      "[flaml.automl.automl: 01-16 08:05:07] {3322} INFO - iteration 105, current learner extra_tree\n"
     ]
    },
    {
     "name": "stderr",
     "output_type": "stream",
     "text": [
      "/home/vscode/.local/share/virtualenvs/python_api_sample_1-VfmthB3j/lib/python3.9/site-packages/xgboost/sklearn.py:1395: UserWarning: `use_label_encoder` is deprecated in 1.7.0.\n",
      "  warnings.warn(\"`use_label_encoder` is deprecated in 1.7.0.\")\n",
      "/home/vscode/.local/share/virtualenvs/python_api_sample_1-VfmthB3j/lib/python3.9/site-packages/xgboost/sklearn.py:1395: UserWarning: `use_label_encoder` is deprecated in 1.7.0.\n",
      "  warnings.warn(\"`use_label_encoder` is deprecated in 1.7.0.\")\n",
      "/home/vscode/.local/share/virtualenvs/python_api_sample_1-VfmthB3j/lib/python3.9/site-packages/xgboost/sklearn.py:1395: UserWarning: `use_label_encoder` is deprecated in 1.7.0.\n",
      "  warnings.warn(\"`use_label_encoder` is deprecated in 1.7.0.\")\n",
      "/home/vscode/.local/share/virtualenvs/python_api_sample_1-VfmthB3j/lib/python3.9/site-packages/xgboost/sklearn.py:1395: UserWarning: `use_label_encoder` is deprecated in 1.7.0.\n",
      "  warnings.warn(\"`use_label_encoder` is deprecated in 1.7.0.\")\n",
      "/home/vscode/.local/share/virtualenvs/python_api_sample_1-VfmthB3j/lib/python3.9/site-packages/xgboost/sklearn.py:1395: UserWarning: `use_label_encoder` is deprecated in 1.7.0.\n",
      "  warnings.warn(\"`use_label_encoder` is deprecated in 1.7.0.\")\n"
     ]
    },
    {
     "name": "stdout",
     "output_type": "stream",
     "text": [
      "[flaml.automl.automl: 01-16 08:05:07] {3507} INFO -  at 31.2s,\testimator extra_tree's best error=0.3272,\tbest estimator extra_tree's best error=0.3272\n",
      "[flaml.automl.automl: 01-16 08:05:07] {3322} INFO - iteration 106, current learner xgb_limitdepth\n"
     ]
    },
    {
     "name": "stderr",
     "output_type": "stream",
     "text": [
      "/home/vscode/.local/share/virtualenvs/python_api_sample_1-VfmthB3j/lib/python3.9/site-packages/xgboost/sklearn.py:1395: UserWarning: `use_label_encoder` is deprecated in 1.7.0.\n",
      "  warnings.warn(\"`use_label_encoder` is deprecated in 1.7.0.\")\n",
      "/home/vscode/.local/share/virtualenvs/python_api_sample_1-VfmthB3j/lib/python3.9/site-packages/xgboost/sklearn.py:1395: UserWarning: `use_label_encoder` is deprecated in 1.7.0.\n",
      "  warnings.warn(\"`use_label_encoder` is deprecated in 1.7.0.\")\n",
      "/home/vscode/.local/share/virtualenvs/python_api_sample_1-VfmthB3j/lib/python3.9/site-packages/xgboost/sklearn.py:1395: UserWarning: `use_label_encoder` is deprecated in 1.7.0.\n",
      "  warnings.warn(\"`use_label_encoder` is deprecated in 1.7.0.\")\n",
      "/home/vscode/.local/share/virtualenvs/python_api_sample_1-VfmthB3j/lib/python3.9/site-packages/xgboost/sklearn.py:1395: UserWarning: `use_label_encoder` is deprecated in 1.7.0.\n",
      "  warnings.warn(\"`use_label_encoder` is deprecated in 1.7.0.\")\n",
      "/home/vscode/.local/share/virtualenvs/python_api_sample_1-VfmthB3j/lib/python3.9/site-packages/xgboost/sklearn.py:1395: UserWarning: `use_label_encoder` is deprecated in 1.7.0.\n",
      "  warnings.warn(\"`use_label_encoder` is deprecated in 1.7.0.\")\n"
     ]
    },
    {
     "name": "stdout",
     "output_type": "stream",
     "text": [
      "[flaml.automl.automl: 01-16 08:05:07] {3507} INFO -  at 31.5s,\testimator xgb_limitdepth's best error=0.4213,\tbest estimator extra_tree's best error=0.3272\n",
      "[flaml.automl.automl: 01-16 08:05:07] {3322} INFO - iteration 107, current learner xgb_limitdepth\n",
      "[flaml.automl.automl: 01-16 08:05:08] {3507} INFO -  at 31.6s,\testimator xgb_limitdepth's best error=0.4213,\tbest estimator extra_tree's best error=0.3272\n",
      "[flaml.automl.automl: 01-16 08:05:08] {3322} INFO - iteration 108, current learner extra_tree\n"
     ]
    },
    {
     "name": "stderr",
     "output_type": "stream",
     "text": [
      "/home/vscode/.local/share/virtualenvs/python_api_sample_1-VfmthB3j/lib/python3.9/site-packages/xgboost/sklearn.py:1395: UserWarning: `use_label_encoder` is deprecated in 1.7.0.\n",
      "  warnings.warn(\"`use_label_encoder` is deprecated in 1.7.0.\")\n",
      "/home/vscode/.local/share/virtualenvs/python_api_sample_1-VfmthB3j/lib/python3.9/site-packages/xgboost/sklearn.py:1395: UserWarning: `use_label_encoder` is deprecated in 1.7.0.\n",
      "  warnings.warn(\"`use_label_encoder` is deprecated in 1.7.0.\")\n",
      "/home/vscode/.local/share/virtualenvs/python_api_sample_1-VfmthB3j/lib/python3.9/site-packages/xgboost/sklearn.py:1395: UserWarning: `use_label_encoder` is deprecated in 1.7.0.\n",
      "  warnings.warn(\"`use_label_encoder` is deprecated in 1.7.0.\")\n",
      "/home/vscode/.local/share/virtualenvs/python_api_sample_1-VfmthB3j/lib/python3.9/site-packages/xgboost/sklearn.py:1395: UserWarning: `use_label_encoder` is deprecated in 1.7.0.\n",
      "  warnings.warn(\"`use_label_encoder` is deprecated in 1.7.0.\")\n",
      "/home/vscode/.local/share/virtualenvs/python_api_sample_1-VfmthB3j/lib/python3.9/site-packages/xgboost/sklearn.py:1395: UserWarning: `use_label_encoder` is deprecated in 1.7.0.\n",
      "  warnings.warn(\"`use_label_encoder` is deprecated in 1.7.0.\")\n"
     ]
    },
    {
     "name": "stdout",
     "output_type": "stream",
     "text": [
      "[flaml.automl.automl: 01-16 08:05:08] {3507} INFO -  at 32.5s,\testimator extra_tree's best error=0.3272,\tbest estimator extra_tree's best error=0.3272\n",
      "[flaml.automl.automl: 01-16 08:05:08] {3322} INFO - iteration 109, current learner xgb_limitdepth\n",
      "[flaml.automl.automl: 01-16 08:05:09] {3507} INFO -  at 32.6s,\testimator xgb_limitdepth's best error=0.4213,\tbest estimator extra_tree's best error=0.3272\n",
      "[flaml.automl.automl: 01-16 08:05:09] {3322} INFO - iteration 110, current learner xgb_limitdepth\n"
     ]
    },
    {
     "name": "stderr",
     "output_type": "stream",
     "text": [
      "/home/vscode/.local/share/virtualenvs/python_api_sample_1-VfmthB3j/lib/python3.9/site-packages/xgboost/sklearn.py:1395: UserWarning: `use_label_encoder` is deprecated in 1.7.0.\n",
      "  warnings.warn(\"`use_label_encoder` is deprecated in 1.7.0.\")\n",
      "/home/vscode/.local/share/virtualenvs/python_api_sample_1-VfmthB3j/lib/python3.9/site-packages/xgboost/sklearn.py:1395: UserWarning: `use_label_encoder` is deprecated in 1.7.0.\n",
      "  warnings.warn(\"`use_label_encoder` is deprecated in 1.7.0.\")\n",
      "/home/vscode/.local/share/virtualenvs/python_api_sample_1-VfmthB3j/lib/python3.9/site-packages/xgboost/sklearn.py:1395: UserWarning: `use_label_encoder` is deprecated in 1.7.0.\n",
      "  warnings.warn(\"`use_label_encoder` is deprecated in 1.7.0.\")\n",
      "/home/vscode/.local/share/virtualenvs/python_api_sample_1-VfmthB3j/lib/python3.9/site-packages/xgboost/sklearn.py:1395: UserWarning: `use_label_encoder` is deprecated in 1.7.0.\n",
      "  warnings.warn(\"`use_label_encoder` is deprecated in 1.7.0.\")\n",
      "/home/vscode/.local/share/virtualenvs/python_api_sample_1-VfmthB3j/lib/python3.9/site-packages/xgboost/sklearn.py:1395: UserWarning: `use_label_encoder` is deprecated in 1.7.0.\n",
      "  warnings.warn(\"`use_label_encoder` is deprecated in 1.7.0.\")\n",
      "/home/vscode/.local/share/virtualenvs/python_api_sample_1-VfmthB3j/lib/python3.9/site-packages/xgboost/sklearn.py:1395: UserWarning: `use_label_encoder` is deprecated in 1.7.0.\n",
      "  warnings.warn(\"`use_label_encoder` is deprecated in 1.7.0.\")\n",
      "/home/vscode/.local/share/virtualenvs/python_api_sample_1-VfmthB3j/lib/python3.9/site-packages/xgboost/sklearn.py:1395: UserWarning: `use_label_encoder` is deprecated in 1.7.0.\n",
      "  warnings.warn(\"`use_label_encoder` is deprecated in 1.7.0.\")\n"
     ]
    },
    {
     "name": "stdout",
     "output_type": "stream",
     "text": [
      "[flaml.automl.automl: 01-16 08:05:09] {3507} INFO -  at 32.8s,\testimator xgb_limitdepth's best error=0.4213,\tbest estimator extra_tree's best error=0.3272\n",
      "[flaml.automl.automl: 01-16 08:05:09] {3322} INFO - iteration 111, current learner rf\n"
     ]
    },
    {
     "name": "stderr",
     "output_type": "stream",
     "text": [
      "/home/vscode/.local/share/virtualenvs/python_api_sample_1-VfmthB3j/lib/python3.9/site-packages/xgboost/sklearn.py:1395: UserWarning: `use_label_encoder` is deprecated in 1.7.0.\n",
      "  warnings.warn(\"`use_label_encoder` is deprecated in 1.7.0.\")\n",
      "/home/vscode/.local/share/virtualenvs/python_api_sample_1-VfmthB3j/lib/python3.9/site-packages/xgboost/sklearn.py:1395: UserWarning: `use_label_encoder` is deprecated in 1.7.0.\n",
      "  warnings.warn(\"`use_label_encoder` is deprecated in 1.7.0.\")\n",
      "/home/vscode/.local/share/virtualenvs/python_api_sample_1-VfmthB3j/lib/python3.9/site-packages/xgboost/sklearn.py:1395: UserWarning: `use_label_encoder` is deprecated in 1.7.0.\n",
      "  warnings.warn(\"`use_label_encoder` is deprecated in 1.7.0.\")\n"
     ]
    },
    {
     "name": "stdout",
     "output_type": "stream",
     "text": [
      "[flaml.automl.automl: 01-16 08:05:09] {3507} INFO -  at 33.0s,\testimator rf's best error=0.4856,\tbest estimator extra_tree's best error=0.3272\n",
      "[flaml.automl.automl: 01-16 08:05:09] {3322} INFO - iteration 112, current learner xgb_limitdepth\n",
      "[flaml.automl.automl: 01-16 08:05:09] {3507} INFO -  at 33.2s,\testimator xgb_limitdepth's best error=0.4213,\tbest estimator extra_tree's best error=0.3272\n",
      "[flaml.automl.automl: 01-16 08:05:09] {3322} INFO - iteration 113, current learner rf\n"
     ]
    },
    {
     "name": "stderr",
     "output_type": "stream",
     "text": [
      "/home/vscode/.local/share/virtualenvs/python_api_sample_1-VfmthB3j/lib/python3.9/site-packages/xgboost/sklearn.py:1395: UserWarning: `use_label_encoder` is deprecated in 1.7.0.\n",
      "  warnings.warn(\"`use_label_encoder` is deprecated in 1.7.0.\")\n",
      "/home/vscode/.local/share/virtualenvs/python_api_sample_1-VfmthB3j/lib/python3.9/site-packages/xgboost/sklearn.py:1395: UserWarning: `use_label_encoder` is deprecated in 1.7.0.\n",
      "  warnings.warn(\"`use_label_encoder` is deprecated in 1.7.0.\")\n",
      "/home/vscode/.local/share/virtualenvs/python_api_sample_1-VfmthB3j/lib/python3.9/site-packages/xgboost/sklearn.py:1395: UserWarning: `use_label_encoder` is deprecated in 1.7.0.\n",
      "  warnings.warn(\"`use_label_encoder` is deprecated in 1.7.0.\")\n",
      "/home/vscode/.local/share/virtualenvs/python_api_sample_1-VfmthB3j/lib/python3.9/site-packages/xgboost/sklearn.py:1395: UserWarning: `use_label_encoder` is deprecated in 1.7.0.\n",
      "  warnings.warn(\"`use_label_encoder` is deprecated in 1.7.0.\")\n",
      "/home/vscode/.local/share/virtualenvs/python_api_sample_1-VfmthB3j/lib/python3.9/site-packages/xgboost/sklearn.py:1395: UserWarning: `use_label_encoder` is deprecated in 1.7.0.\n",
      "  warnings.warn(\"`use_label_encoder` is deprecated in 1.7.0.\")\n"
     ]
    },
    {
     "name": "stdout",
     "output_type": "stream",
     "text": [
      "[flaml.automl.automl: 01-16 08:05:09] {3507} INFO -  at 33.4s,\testimator rf's best error=0.4856,\tbest estimator extra_tree's best error=0.3272\n",
      "[flaml.automl.automl: 01-16 08:05:09] {3322} INFO - iteration 114, current learner xgb_limitdepth\n",
      "[flaml.automl.automl: 01-16 08:05:09] {3507} INFO -  at 33.5s,\testimator xgb_limitdepth's best error=0.3994,\tbest estimator extra_tree's best error=0.3272\n",
      "[flaml.automl.automl: 01-16 08:05:09] {3322} INFO - iteration 115, current learner rf\n"
     ]
    },
    {
     "name": "stderr",
     "output_type": "stream",
     "text": [
      "/home/vscode/.local/share/virtualenvs/python_api_sample_1-VfmthB3j/lib/python3.9/site-packages/xgboost/sklearn.py:1395: UserWarning: `use_label_encoder` is deprecated in 1.7.0.\n",
      "  warnings.warn(\"`use_label_encoder` is deprecated in 1.7.0.\")\n",
      "/home/vscode/.local/share/virtualenvs/python_api_sample_1-VfmthB3j/lib/python3.9/site-packages/xgboost/sklearn.py:1395: UserWarning: `use_label_encoder` is deprecated in 1.7.0.\n",
      "  warnings.warn(\"`use_label_encoder` is deprecated in 1.7.0.\")\n",
      "/home/vscode/.local/share/virtualenvs/python_api_sample_1-VfmthB3j/lib/python3.9/site-packages/xgboost/sklearn.py:1395: UserWarning: `use_label_encoder` is deprecated in 1.7.0.\n",
      "  warnings.warn(\"`use_label_encoder` is deprecated in 1.7.0.\")\n",
      "/home/vscode/.local/share/virtualenvs/python_api_sample_1-VfmthB3j/lib/python3.9/site-packages/xgboost/sklearn.py:1395: UserWarning: `use_label_encoder` is deprecated in 1.7.0.\n",
      "  warnings.warn(\"`use_label_encoder` is deprecated in 1.7.0.\")\n",
      "/home/vscode/.local/share/virtualenvs/python_api_sample_1-VfmthB3j/lib/python3.9/site-packages/xgboost/sklearn.py:1395: UserWarning: `use_label_encoder` is deprecated in 1.7.0.\n",
      "  warnings.warn(\"`use_label_encoder` is deprecated in 1.7.0.\")\n"
     ]
    },
    {
     "name": "stdout",
     "output_type": "stream",
     "text": [
      "[flaml.automl.automl: 01-16 08:05:10] {3507} INFO -  at 33.8s,\testimator rf's best error=0.4856,\tbest estimator extra_tree's best error=0.3272\n",
      "[flaml.automl.automl: 01-16 08:05:10] {3322} INFO - iteration 116, current learner rf\n",
      "[flaml.automl.automl: 01-16 08:05:10] {3507} INFO -  at 34.0s,\testimator rf's best error=0.4041,\tbest estimator extra_tree's best error=0.3272\n",
      "[flaml.automl.automl: 01-16 08:05:10] {3322} INFO - iteration 117, current learner xgb_limitdepth\n",
      "[flaml.automl.automl: 01-16 08:05:10] {3507} INFO -  at 34.1s,\testimator xgb_limitdepth's best error=0.3994,\tbest estimator extra_tree's best error=0.3272\n",
      "[flaml.automl.automl: 01-16 08:05:10] {3322} INFO - iteration 118, current learner rf\n"
     ]
    },
    {
     "name": "stderr",
     "output_type": "stream",
     "text": [
      "/home/vscode/.local/share/virtualenvs/python_api_sample_1-VfmthB3j/lib/python3.9/site-packages/xgboost/sklearn.py:1395: UserWarning: `use_label_encoder` is deprecated in 1.7.0.\n",
      "  warnings.warn(\"`use_label_encoder` is deprecated in 1.7.0.\")\n",
      "/home/vscode/.local/share/virtualenvs/python_api_sample_1-VfmthB3j/lib/python3.9/site-packages/xgboost/sklearn.py:1395: UserWarning: `use_label_encoder` is deprecated in 1.7.0.\n",
      "  warnings.warn(\"`use_label_encoder` is deprecated in 1.7.0.\")\n",
      "/home/vscode/.local/share/virtualenvs/python_api_sample_1-VfmthB3j/lib/python3.9/site-packages/xgboost/sklearn.py:1395: UserWarning: `use_label_encoder` is deprecated in 1.7.0.\n",
      "  warnings.warn(\"`use_label_encoder` is deprecated in 1.7.0.\")\n",
      "/home/vscode/.local/share/virtualenvs/python_api_sample_1-VfmthB3j/lib/python3.9/site-packages/xgboost/sklearn.py:1395: UserWarning: `use_label_encoder` is deprecated in 1.7.0.\n",
      "  warnings.warn(\"`use_label_encoder` is deprecated in 1.7.0.\")\n",
      "/home/vscode/.local/share/virtualenvs/python_api_sample_1-VfmthB3j/lib/python3.9/site-packages/xgboost/sklearn.py:1395: UserWarning: `use_label_encoder` is deprecated in 1.7.0.\n",
      "  warnings.warn(\"`use_label_encoder` is deprecated in 1.7.0.\")\n"
     ]
    },
    {
     "name": "stdout",
     "output_type": "stream",
     "text": [
      "[flaml.automl.automl: 01-16 08:05:10] {3507} INFO -  at 34.3s,\testimator rf's best error=0.4041,\tbest estimator extra_tree's best error=0.3272\n",
      "[flaml.automl.automl: 01-16 08:05:10] {3322} INFO - iteration 119, current learner rf\n",
      "[flaml.automl.automl: 01-16 08:05:10] {3507} INFO -  at 34.5s,\testimator rf's best error=0.3745,\tbest estimator extra_tree's best error=0.3272\n",
      "[flaml.automl.automl: 01-16 08:05:10] {3322} INFO - iteration 120, current learner extra_tree\n",
      "[flaml.automl.automl: 01-16 08:05:11] {3507} INFO -  at 35.5s,\testimator extra_tree's best error=0.3208,\tbest estimator extra_tree's best error=0.3208\n",
      "[flaml.automl.automl: 01-16 08:05:11] {3322} INFO - iteration 121, current learner extra_tree\n",
      "[flaml.automl.automl: 01-16 08:05:12] {3507} INFO -  at 36.0s,\testimator extra_tree's best error=0.3208,\tbest estimator extra_tree's best error=0.3208\n",
      "[flaml.automl.automl: 01-16 08:05:12] {3322} INFO - iteration 122, current learner xgb_limitdepth\n",
      "[flaml.automl.automl: 01-16 08:05:12] {3507} INFO -  at 36.1s,\testimator xgb_limitdepth's best error=0.3994,\tbest estimator extra_tree's best error=0.3208\n",
      "[flaml.automl.automl: 01-16 08:05:12] {3322} INFO - iteration 123, current learner rf\n"
     ]
    },
    {
     "name": "stderr",
     "output_type": "stream",
     "text": [
      "/home/vscode/.local/share/virtualenvs/python_api_sample_1-VfmthB3j/lib/python3.9/site-packages/xgboost/sklearn.py:1395: UserWarning: `use_label_encoder` is deprecated in 1.7.0.\n",
      "  warnings.warn(\"`use_label_encoder` is deprecated in 1.7.0.\")\n",
      "/home/vscode/.local/share/virtualenvs/python_api_sample_1-VfmthB3j/lib/python3.9/site-packages/xgboost/sklearn.py:1395: UserWarning: `use_label_encoder` is deprecated in 1.7.0.\n",
      "  warnings.warn(\"`use_label_encoder` is deprecated in 1.7.0.\")\n",
      "/home/vscode/.local/share/virtualenvs/python_api_sample_1-VfmthB3j/lib/python3.9/site-packages/xgboost/sklearn.py:1395: UserWarning: `use_label_encoder` is deprecated in 1.7.0.\n",
      "  warnings.warn(\"`use_label_encoder` is deprecated in 1.7.0.\")\n",
      "/home/vscode/.local/share/virtualenvs/python_api_sample_1-VfmthB3j/lib/python3.9/site-packages/xgboost/sklearn.py:1395: UserWarning: `use_label_encoder` is deprecated in 1.7.0.\n",
      "  warnings.warn(\"`use_label_encoder` is deprecated in 1.7.0.\")\n",
      "/home/vscode/.local/share/virtualenvs/python_api_sample_1-VfmthB3j/lib/python3.9/site-packages/xgboost/sklearn.py:1395: UserWarning: `use_label_encoder` is deprecated in 1.7.0.\n",
      "  warnings.warn(\"`use_label_encoder` is deprecated in 1.7.0.\")\n"
     ]
    },
    {
     "name": "stdout",
     "output_type": "stream",
     "text": [
      "[flaml.automl.automl: 01-16 08:05:12] {3507} INFO -  at 36.3s,\testimator rf's best error=0.3745,\tbest estimator extra_tree's best error=0.3208\n",
      "[flaml.automl.automl: 01-16 08:05:12] {3322} INFO - iteration 124, current learner rf\n",
      "[flaml.automl.automl: 01-16 08:05:13] {3507} INFO -  at 36.7s,\testimator rf's best error=0.3745,\tbest estimator extra_tree's best error=0.3208\n",
      "[flaml.automl.automl: 01-16 08:05:13] {3322} INFO - iteration 125, current learner rf\n",
      "[flaml.automl.automl: 01-16 08:05:13] {3507} INFO -  at 37.0s,\testimator rf's best error=0.3745,\tbest estimator extra_tree's best error=0.3208\n",
      "[flaml.automl.automl: 01-16 08:05:13] {3322} INFO - iteration 126, current learner rf\n",
      "[flaml.automl.automl: 01-16 08:05:13] {3507} INFO -  at 37.3s,\testimator rf's best error=0.3745,\tbest estimator extra_tree's best error=0.3208\n",
      "[flaml.automl.automl: 01-16 08:05:13] {3322} INFO - iteration 127, current learner rf\n",
      "[flaml.automl.automl: 01-16 08:05:13] {3507} INFO -  at 37.5s,\testimator rf's best error=0.3745,\tbest estimator extra_tree's best error=0.3208\n",
      "[flaml.automl.automl: 01-16 08:05:13] {3322} INFO - iteration 128, current learner rf\n",
      "[flaml.automl.automl: 01-16 08:05:14] {3507} INFO -  at 37.8s,\testimator rf's best error=0.3537,\tbest estimator extra_tree's best error=0.3208\n",
      "[flaml.automl.automl: 01-16 08:05:14] {3322} INFO - iteration 129, current learner xgb_limitdepth\n",
      "[flaml.automl.automl: 01-16 08:05:14] {3507} INFO -  at 38.0s,\testimator xgb_limitdepth's best error=0.3994,\tbest estimator extra_tree's best error=0.3208\n",
      "[flaml.automl.automl: 01-16 08:05:14] {3322} INFO - iteration 130, current learner extra_tree\n"
     ]
    },
    {
     "name": "stderr",
     "output_type": "stream",
     "text": [
      "/home/vscode/.local/share/virtualenvs/python_api_sample_1-VfmthB3j/lib/python3.9/site-packages/xgboost/sklearn.py:1395: UserWarning: `use_label_encoder` is deprecated in 1.7.0.\n",
      "  warnings.warn(\"`use_label_encoder` is deprecated in 1.7.0.\")\n",
      "/home/vscode/.local/share/virtualenvs/python_api_sample_1-VfmthB3j/lib/python3.9/site-packages/xgboost/sklearn.py:1395: UserWarning: `use_label_encoder` is deprecated in 1.7.0.\n",
      "  warnings.warn(\"`use_label_encoder` is deprecated in 1.7.0.\")\n",
      "/home/vscode/.local/share/virtualenvs/python_api_sample_1-VfmthB3j/lib/python3.9/site-packages/xgboost/sklearn.py:1395: UserWarning: `use_label_encoder` is deprecated in 1.7.0.\n",
      "  warnings.warn(\"`use_label_encoder` is deprecated in 1.7.0.\")\n",
      "/home/vscode/.local/share/virtualenvs/python_api_sample_1-VfmthB3j/lib/python3.9/site-packages/xgboost/sklearn.py:1395: UserWarning: `use_label_encoder` is deprecated in 1.7.0.\n",
      "  warnings.warn(\"`use_label_encoder` is deprecated in 1.7.0.\")\n",
      "/home/vscode/.local/share/virtualenvs/python_api_sample_1-VfmthB3j/lib/python3.9/site-packages/xgboost/sklearn.py:1395: UserWarning: `use_label_encoder` is deprecated in 1.7.0.\n",
      "  warnings.warn(\"`use_label_encoder` is deprecated in 1.7.0.\")\n"
     ]
    },
    {
     "name": "stdout",
     "output_type": "stream",
     "text": [
      "[flaml.automl.automl: 01-16 08:05:14] {3507} INFO -  at 38.6s,\testimator extra_tree's best error=0.3208,\tbest estimator extra_tree's best error=0.3208\n",
      "[flaml.automl.automl: 01-16 08:05:14] {3322} INFO - iteration 131, current learner extra_tree\n",
      "[flaml.automl.automl: 01-16 08:05:16] {3507} INFO -  at 40.2s,\testimator extra_tree's best error=0.3208,\tbest estimator extra_tree's best error=0.3208\n",
      "[flaml.automl.automl: 01-16 08:05:16] {3322} INFO - iteration 132, current learner xgb_limitdepth\n",
      "[flaml.automl.automl: 01-16 08:05:16] {3507} INFO -  at 40.3s,\testimator xgb_limitdepth's best error=0.3994,\tbest estimator extra_tree's best error=0.3208\n",
      "[flaml.automl.automl: 01-16 08:05:16] {3322} INFO - iteration 133, current learner rf\n"
     ]
    },
    {
     "name": "stderr",
     "output_type": "stream",
     "text": [
      "/home/vscode/.local/share/virtualenvs/python_api_sample_1-VfmthB3j/lib/python3.9/site-packages/xgboost/sklearn.py:1395: UserWarning: `use_label_encoder` is deprecated in 1.7.0.\n",
      "  warnings.warn(\"`use_label_encoder` is deprecated in 1.7.0.\")\n",
      "/home/vscode/.local/share/virtualenvs/python_api_sample_1-VfmthB3j/lib/python3.9/site-packages/xgboost/sklearn.py:1395: UserWarning: `use_label_encoder` is deprecated in 1.7.0.\n",
      "  warnings.warn(\"`use_label_encoder` is deprecated in 1.7.0.\")\n",
      "/home/vscode/.local/share/virtualenvs/python_api_sample_1-VfmthB3j/lib/python3.9/site-packages/xgboost/sklearn.py:1395: UserWarning: `use_label_encoder` is deprecated in 1.7.0.\n",
      "  warnings.warn(\"`use_label_encoder` is deprecated in 1.7.0.\")\n",
      "/home/vscode/.local/share/virtualenvs/python_api_sample_1-VfmthB3j/lib/python3.9/site-packages/xgboost/sklearn.py:1395: UserWarning: `use_label_encoder` is deprecated in 1.7.0.\n",
      "  warnings.warn(\"`use_label_encoder` is deprecated in 1.7.0.\")\n",
      "/home/vscode/.local/share/virtualenvs/python_api_sample_1-VfmthB3j/lib/python3.9/site-packages/xgboost/sklearn.py:1395: UserWarning: `use_label_encoder` is deprecated in 1.7.0.\n",
      "  warnings.warn(\"`use_label_encoder` is deprecated in 1.7.0.\")\n"
     ]
    },
    {
     "name": "stdout",
     "output_type": "stream",
     "text": [
      "[flaml.automl.automl: 01-16 08:05:17] {3507} INFO -  at 40.7s,\testimator rf's best error=0.3537,\tbest estimator extra_tree's best error=0.3208\n",
      "[flaml.automl.automl: 01-16 08:05:17] {3322} INFO - iteration 134, current learner rf\n",
      "[flaml.automl.automl: 01-16 08:05:17] {3507} INFO -  at 41.1s,\testimator rf's best error=0.3537,\tbest estimator extra_tree's best error=0.3208\n",
      "[flaml.automl.automl: 01-16 08:05:17] {3322} INFO - iteration 135, current learner extra_tree\n",
      "[flaml.automl.automl: 01-16 08:05:19] {3507} INFO -  at 43.2s,\testimator extra_tree's best error=0.3208,\tbest estimator extra_tree's best error=0.3208\n",
      "[flaml.automl.automl: 01-16 08:05:19] {3322} INFO - iteration 136, current learner xgb_limitdepth\n"
     ]
    },
    {
     "name": "stderr",
     "output_type": "stream",
     "text": [
      "/home/vscode/.local/share/virtualenvs/python_api_sample_1-VfmthB3j/lib/python3.9/site-packages/xgboost/sklearn.py:1395: UserWarning: `use_label_encoder` is deprecated in 1.7.0.\n",
      "  warnings.warn(\"`use_label_encoder` is deprecated in 1.7.0.\")\n",
      "/home/vscode/.local/share/virtualenvs/python_api_sample_1-VfmthB3j/lib/python3.9/site-packages/xgboost/sklearn.py:1395: UserWarning: `use_label_encoder` is deprecated in 1.7.0.\n",
      "  warnings.warn(\"`use_label_encoder` is deprecated in 1.7.0.\")\n",
      "/home/vscode/.local/share/virtualenvs/python_api_sample_1-VfmthB3j/lib/python3.9/site-packages/xgboost/sklearn.py:1395: UserWarning: `use_label_encoder` is deprecated in 1.7.0.\n",
      "  warnings.warn(\"`use_label_encoder` is deprecated in 1.7.0.\")\n",
      "/home/vscode/.local/share/virtualenvs/python_api_sample_1-VfmthB3j/lib/python3.9/site-packages/xgboost/sklearn.py:1395: UserWarning: `use_label_encoder` is deprecated in 1.7.0.\n",
      "  warnings.warn(\"`use_label_encoder` is deprecated in 1.7.0.\")\n",
      "/home/vscode/.local/share/virtualenvs/python_api_sample_1-VfmthB3j/lib/python3.9/site-packages/xgboost/sklearn.py:1395: UserWarning: `use_label_encoder` is deprecated in 1.7.0.\n",
      "  warnings.warn(\"`use_label_encoder` is deprecated in 1.7.0.\")\n"
     ]
    },
    {
     "name": "stdout",
     "output_type": "stream",
     "text": [
      "[flaml.automl.automl: 01-16 08:05:19] {3507} INFO -  at 43.4s,\testimator xgb_limitdepth's best error=0.3994,\tbest estimator extra_tree's best error=0.3208\n",
      "[flaml.automl.automl: 01-16 08:05:19] {3322} INFO - iteration 137, current learner extra_tree\n",
      "[flaml.automl.automl: 01-16 08:05:20] {3507} INFO -  at 44.0s,\testimator extra_tree's best error=0.3208,\tbest estimator extra_tree's best error=0.3208\n",
      "[flaml.automl.automl: 01-16 08:05:20] {3322} INFO - iteration 138, current learner rf\n",
      "[flaml.automl.automl: 01-16 08:05:20] {3507} INFO -  at 44.4s,\testimator rf's best error=0.3537,\tbest estimator extra_tree's best error=0.3208\n",
      "[flaml.automl.automl: 01-16 08:05:20] {3322} INFO - iteration 139, current learner xgb_limitdepth\n",
      "[flaml.automl.automl: 01-16 08:05:20] {3507} INFO -  at 44.5s,\testimator xgb_limitdepth's best error=0.3994,\tbest estimator extra_tree's best error=0.3208\n",
      "[flaml.automl.automl: 01-16 08:05:20] {3322} INFO - iteration 140, current learner rf\n"
     ]
    },
    {
     "name": "stderr",
     "output_type": "stream",
     "text": [
      "/home/vscode/.local/share/virtualenvs/python_api_sample_1-VfmthB3j/lib/python3.9/site-packages/xgboost/sklearn.py:1395: UserWarning: `use_label_encoder` is deprecated in 1.7.0.\n",
      "  warnings.warn(\"`use_label_encoder` is deprecated in 1.7.0.\")\n",
      "/home/vscode/.local/share/virtualenvs/python_api_sample_1-VfmthB3j/lib/python3.9/site-packages/xgboost/sklearn.py:1395: UserWarning: `use_label_encoder` is deprecated in 1.7.0.\n",
      "  warnings.warn(\"`use_label_encoder` is deprecated in 1.7.0.\")\n",
      "/home/vscode/.local/share/virtualenvs/python_api_sample_1-VfmthB3j/lib/python3.9/site-packages/xgboost/sklearn.py:1395: UserWarning: `use_label_encoder` is deprecated in 1.7.0.\n",
      "  warnings.warn(\"`use_label_encoder` is deprecated in 1.7.0.\")\n",
      "/home/vscode/.local/share/virtualenvs/python_api_sample_1-VfmthB3j/lib/python3.9/site-packages/xgboost/sklearn.py:1395: UserWarning: `use_label_encoder` is deprecated in 1.7.0.\n",
      "  warnings.warn(\"`use_label_encoder` is deprecated in 1.7.0.\")\n",
      "/home/vscode/.local/share/virtualenvs/python_api_sample_1-VfmthB3j/lib/python3.9/site-packages/xgboost/sklearn.py:1395: UserWarning: `use_label_encoder` is deprecated in 1.7.0.\n",
      "  warnings.warn(\"`use_label_encoder` is deprecated in 1.7.0.\")\n"
     ]
    },
    {
     "name": "stdout",
     "output_type": "stream",
     "text": [
      "[flaml.automl.automl: 01-16 08:05:21] {3507} INFO -  at 44.9s,\testimator rf's best error=0.3537,\tbest estimator extra_tree's best error=0.3208\n",
      "[flaml.automl.automl: 01-16 08:05:21] {3322} INFO - iteration 141, current learner xgb_limitdepth\n",
      "[flaml.automl.automl: 01-16 08:05:21] {3507} INFO -  at 45.1s,\testimator xgb_limitdepth's best error=0.3793,\tbest estimator extra_tree's best error=0.3208\n",
      "[flaml.automl.automl: 01-16 08:05:21] {3322} INFO - iteration 142, current learner extra_tree\n"
     ]
    },
    {
     "name": "stderr",
     "output_type": "stream",
     "text": [
      "/home/vscode/.local/share/virtualenvs/python_api_sample_1-VfmthB3j/lib/python3.9/site-packages/xgboost/sklearn.py:1395: UserWarning: `use_label_encoder` is deprecated in 1.7.0.\n",
      "  warnings.warn(\"`use_label_encoder` is deprecated in 1.7.0.\")\n",
      "/home/vscode/.local/share/virtualenvs/python_api_sample_1-VfmthB3j/lib/python3.9/site-packages/xgboost/sklearn.py:1395: UserWarning: `use_label_encoder` is deprecated in 1.7.0.\n",
      "  warnings.warn(\"`use_label_encoder` is deprecated in 1.7.0.\")\n",
      "/home/vscode/.local/share/virtualenvs/python_api_sample_1-VfmthB3j/lib/python3.9/site-packages/xgboost/sklearn.py:1395: UserWarning: `use_label_encoder` is deprecated in 1.7.0.\n",
      "  warnings.warn(\"`use_label_encoder` is deprecated in 1.7.0.\")\n",
      "/home/vscode/.local/share/virtualenvs/python_api_sample_1-VfmthB3j/lib/python3.9/site-packages/xgboost/sklearn.py:1395: UserWarning: `use_label_encoder` is deprecated in 1.7.0.\n",
      "  warnings.warn(\"`use_label_encoder` is deprecated in 1.7.0.\")\n",
      "/home/vscode/.local/share/virtualenvs/python_api_sample_1-VfmthB3j/lib/python3.9/site-packages/xgboost/sklearn.py:1395: UserWarning: `use_label_encoder` is deprecated in 1.7.0.\n",
      "  warnings.warn(\"`use_label_encoder` is deprecated in 1.7.0.\")\n"
     ]
    },
    {
     "name": "stdout",
     "output_type": "stream",
     "text": [
      "[flaml.automl.automl: 01-16 08:05:22] {3507} INFO -  at 46.5s,\testimator extra_tree's best error=0.3208,\tbest estimator extra_tree's best error=0.3208\n",
      "[flaml.automl.automl: 01-16 08:05:22] {3322} INFO - iteration 143, current learner xgb_limitdepth\n",
      "[flaml.automl.automl: 01-16 08:05:23] {3507} INFO -  at 46.7s,\testimator xgb_limitdepth's best error=0.3793,\tbest estimator extra_tree's best error=0.3208\n",
      "[flaml.automl.automl: 01-16 08:05:23] {3322} INFO - iteration 144, current learner xgb_limitdepth\n"
     ]
    },
    {
     "name": "stderr",
     "output_type": "stream",
     "text": [
      "/home/vscode/.local/share/virtualenvs/python_api_sample_1-VfmthB3j/lib/python3.9/site-packages/xgboost/sklearn.py:1395: UserWarning: `use_label_encoder` is deprecated in 1.7.0.\n",
      "  warnings.warn(\"`use_label_encoder` is deprecated in 1.7.0.\")\n",
      "/home/vscode/.local/share/virtualenvs/python_api_sample_1-VfmthB3j/lib/python3.9/site-packages/xgboost/sklearn.py:1395: UserWarning: `use_label_encoder` is deprecated in 1.7.0.\n",
      "  warnings.warn(\"`use_label_encoder` is deprecated in 1.7.0.\")\n",
      "/home/vscode/.local/share/virtualenvs/python_api_sample_1-VfmthB3j/lib/python3.9/site-packages/xgboost/sklearn.py:1395: UserWarning: `use_label_encoder` is deprecated in 1.7.0.\n",
      "  warnings.warn(\"`use_label_encoder` is deprecated in 1.7.0.\")\n",
      "/home/vscode/.local/share/virtualenvs/python_api_sample_1-VfmthB3j/lib/python3.9/site-packages/xgboost/sklearn.py:1395: UserWarning: `use_label_encoder` is deprecated in 1.7.0.\n",
      "  warnings.warn(\"`use_label_encoder` is deprecated in 1.7.0.\")\n",
      "/home/vscode/.local/share/virtualenvs/python_api_sample_1-VfmthB3j/lib/python3.9/site-packages/xgboost/sklearn.py:1395: UserWarning: `use_label_encoder` is deprecated in 1.7.0.\n",
      "  warnings.warn(\"`use_label_encoder` is deprecated in 1.7.0.\")\n",
      "/home/vscode/.local/share/virtualenvs/python_api_sample_1-VfmthB3j/lib/python3.9/site-packages/xgboost/sklearn.py:1395: UserWarning: `use_label_encoder` is deprecated in 1.7.0.\n",
      "  warnings.warn(\"`use_label_encoder` is deprecated in 1.7.0.\")\n",
      "/home/vscode/.local/share/virtualenvs/python_api_sample_1-VfmthB3j/lib/python3.9/site-packages/xgboost/sklearn.py:1395: UserWarning: `use_label_encoder` is deprecated in 1.7.0.\n",
      "  warnings.warn(\"`use_label_encoder` is deprecated in 1.7.0.\")\n",
      "/home/vscode/.local/share/virtualenvs/python_api_sample_1-VfmthB3j/lib/python3.9/site-packages/xgboost/sklearn.py:1395: UserWarning: `use_label_encoder` is deprecated in 1.7.0.\n",
      "  warnings.warn(\"`use_label_encoder` is deprecated in 1.7.0.\")\n",
      "/home/vscode/.local/share/virtualenvs/python_api_sample_1-VfmthB3j/lib/python3.9/site-packages/xgboost/sklearn.py:1395: UserWarning: `use_label_encoder` is deprecated in 1.7.0.\n",
      "  warnings.warn(\"`use_label_encoder` is deprecated in 1.7.0.\")\n"
     ]
    },
    {
     "name": "stdout",
     "output_type": "stream",
     "text": [
      "[flaml.automl.automl: 01-16 08:05:23] {3507} INFO -  at 47.1s,\testimator xgb_limitdepth's best error=0.3785,\tbest estimator extra_tree's best error=0.3208\n",
      "[flaml.automl.automl: 01-16 08:05:23] {3322} INFO - iteration 145, current learner extra_tree\n"
     ]
    },
    {
     "name": "stderr",
     "output_type": "stream",
     "text": [
      "/home/vscode/.local/share/virtualenvs/python_api_sample_1-VfmthB3j/lib/python3.9/site-packages/xgboost/sklearn.py:1395: UserWarning: `use_label_encoder` is deprecated in 1.7.0.\n",
      "  warnings.warn(\"`use_label_encoder` is deprecated in 1.7.0.\")\n"
     ]
    },
    {
     "name": "stdout",
     "output_type": "stream",
     "text": [
      "[flaml.automl.automl: 01-16 08:05:24] {3507} INFO -  at 47.8s,\testimator extra_tree's best error=0.3192,\tbest estimator extra_tree's best error=0.3192\n",
      "[flaml.automl.automl: 01-16 08:05:24] {3322} INFO - iteration 146, current learner rf\n",
      "[flaml.automl.automl: 01-16 08:05:24] {3507} INFO -  at 48.4s,\testimator rf's best error=0.3537,\tbest estimator extra_tree's best error=0.3192\n",
      "[flaml.automl.automl: 01-16 08:05:24] {3322} INFO - iteration 147, current learner rf\n",
      "[flaml.automl.automl: 01-16 08:05:25] {3507} INFO -  at 48.7s,\testimator rf's best error=0.3537,\tbest estimator extra_tree's best error=0.3192\n",
      "[flaml.automl.automl: 01-16 08:05:25] {3322} INFO - iteration 148, current learner rf\n",
      "[flaml.automl.automl: 01-16 08:05:25] {3507} INFO -  at 49.1s,\testimator rf's best error=0.3537,\tbest estimator extra_tree's best error=0.3192\n",
      "[flaml.automl.automl: 01-16 08:05:25] {3322} INFO - iteration 149, current learner rf\n",
      "[flaml.automl.automl: 01-16 08:05:25] {3507} INFO -  at 49.4s,\testimator rf's best error=0.3537,\tbest estimator extra_tree's best error=0.3192\n",
      "[flaml.automl.automl: 01-16 08:05:25] {3322} INFO - iteration 150, current learner rf\n",
      "[flaml.automl.automl: 01-16 08:05:26] {3507} INFO -  at 49.9s,\testimator rf's best error=0.3537,\tbest estimator extra_tree's best error=0.3192\n",
      "[flaml.automl.automl: 01-16 08:05:26] {3322} INFO - iteration 151, current learner rf\n",
      "[flaml.automl.automl: 01-16 08:05:26] {3507} INFO -  at 50.2s,\testimator rf's best error=0.3537,\tbest estimator extra_tree's best error=0.3192\n",
      "[flaml.automl.automl: 01-16 08:05:26] {3322} INFO - iteration 152, current learner extra_tree\n",
      "[flaml.automl.automl: 01-16 08:05:28] {3507} INFO -  at 51.8s,\testimator extra_tree's best error=0.3149,\tbest estimator extra_tree's best error=0.3149\n",
      "[flaml.automl.automl: 01-16 08:05:28] {3322} INFO - iteration 153, current learner extra_tree\n",
      "[flaml.automl.automl: 01-16 08:05:28] {3507} INFO -  at 52.5s,\testimator extra_tree's best error=0.3149,\tbest estimator extra_tree's best error=0.3149\n",
      "[flaml.automl.automl: 01-16 08:05:28] {3322} INFO - iteration 154, current learner rf\n",
      "[flaml.automl.automl: 01-16 08:05:29] {3507} INFO -  at 52.9s,\testimator rf's best error=0.3537,\tbest estimator extra_tree's best error=0.3149\n",
      "[flaml.automl.automl: 01-16 08:05:29] {3322} INFO - iteration 155, current learner extra_tree\n",
      "[flaml.automl.automl: 01-16 08:05:32] {3507} INFO -  at 55.8s,\testimator extra_tree's best error=0.3149,\tbest estimator extra_tree's best error=0.3149\n",
      "[flaml.automl.automl: 01-16 08:05:32] {3322} INFO - iteration 156, current learner xgb_limitdepth\n",
      "[flaml.automl.automl: 01-16 08:05:32] {3507} INFO -  at 56.0s,\testimator xgb_limitdepth's best error=0.3648,\tbest estimator extra_tree's best error=0.3149\n",
      "[flaml.automl.automl: 01-16 08:05:32] {3322} INFO - iteration 157, current learner xgb_limitdepth\n"
     ]
    },
    {
     "name": "stderr",
     "output_type": "stream",
     "text": [
      "/home/vscode/.local/share/virtualenvs/python_api_sample_1-VfmthB3j/lib/python3.9/site-packages/xgboost/sklearn.py:1395: UserWarning: `use_label_encoder` is deprecated in 1.7.0.\n",
      "  warnings.warn(\"`use_label_encoder` is deprecated in 1.7.0.\")\n",
      "/home/vscode/.local/share/virtualenvs/python_api_sample_1-VfmthB3j/lib/python3.9/site-packages/xgboost/sklearn.py:1395: UserWarning: `use_label_encoder` is deprecated in 1.7.0.\n",
      "  warnings.warn(\"`use_label_encoder` is deprecated in 1.7.0.\")\n",
      "/home/vscode/.local/share/virtualenvs/python_api_sample_1-VfmthB3j/lib/python3.9/site-packages/xgboost/sklearn.py:1395: UserWarning: `use_label_encoder` is deprecated in 1.7.0.\n",
      "  warnings.warn(\"`use_label_encoder` is deprecated in 1.7.0.\")\n",
      "/home/vscode/.local/share/virtualenvs/python_api_sample_1-VfmthB3j/lib/python3.9/site-packages/xgboost/sklearn.py:1395: UserWarning: `use_label_encoder` is deprecated in 1.7.0.\n",
      "  warnings.warn(\"`use_label_encoder` is deprecated in 1.7.0.\")\n",
      "/home/vscode/.local/share/virtualenvs/python_api_sample_1-VfmthB3j/lib/python3.9/site-packages/xgboost/sklearn.py:1395: UserWarning: `use_label_encoder` is deprecated in 1.7.0.\n",
      "  warnings.warn(\"`use_label_encoder` is deprecated in 1.7.0.\")\n",
      "/home/vscode/.local/share/virtualenvs/python_api_sample_1-VfmthB3j/lib/python3.9/site-packages/xgboost/sklearn.py:1395: UserWarning: `use_label_encoder` is deprecated in 1.7.0.\n",
      "  warnings.warn(\"`use_label_encoder` is deprecated in 1.7.0.\")\n",
      "/home/vscode/.local/share/virtualenvs/python_api_sample_1-VfmthB3j/lib/python3.9/site-packages/xgboost/sklearn.py:1395: UserWarning: `use_label_encoder` is deprecated in 1.7.0.\n",
      "  warnings.warn(\"`use_label_encoder` is deprecated in 1.7.0.\")\n",
      "/home/vscode/.local/share/virtualenvs/python_api_sample_1-VfmthB3j/lib/python3.9/site-packages/xgboost/sklearn.py:1395: UserWarning: `use_label_encoder` is deprecated in 1.7.0.\n",
      "  warnings.warn(\"`use_label_encoder` is deprecated in 1.7.0.\")\n",
      "/home/vscode/.local/share/virtualenvs/python_api_sample_1-VfmthB3j/lib/python3.9/site-packages/xgboost/sklearn.py:1395: UserWarning: `use_label_encoder` is deprecated in 1.7.0.\n",
      "  warnings.warn(\"`use_label_encoder` is deprecated in 1.7.0.\")\n",
      "/home/vscode/.local/share/virtualenvs/python_api_sample_1-VfmthB3j/lib/python3.9/site-packages/xgboost/sklearn.py:1395: UserWarning: `use_label_encoder` is deprecated in 1.7.0.\n",
      "  warnings.warn(\"`use_label_encoder` is deprecated in 1.7.0.\")\n"
     ]
    },
    {
     "name": "stdout",
     "output_type": "stream",
     "text": [
      "[flaml.automl.automl: 01-16 08:05:32] {3507} INFO -  at 56.3s,\testimator xgb_limitdepth's best error=0.3648,\tbest estimator extra_tree's best error=0.3149\n",
      "[flaml.automl.automl: 01-16 08:05:32] {3322} INFO - iteration 158, current learner extra_tree\n",
      "[flaml.automl.automl: 01-16 08:05:33] {3507} INFO -  at 57.4s,\testimator extra_tree's best error=0.3149,\tbest estimator extra_tree's best error=0.3149\n",
      "[flaml.automl.automl: 01-16 08:05:33] {3322} INFO - iteration 159, current learner extra_tree\n",
      "[flaml.automl.automl: 01-16 08:05:34] {3507} INFO -  at 58.5s,\testimator extra_tree's best error=0.3149,\tbest estimator extra_tree's best error=0.3149\n",
      "[flaml.automl.automl: 01-16 08:05:34] {3322} INFO - iteration 160, current learner xgb_limitdepth\n"
     ]
    },
    {
     "name": "stderr",
     "output_type": "stream",
     "text": [
      "/home/vscode/.local/share/virtualenvs/python_api_sample_1-VfmthB3j/lib/python3.9/site-packages/xgboost/sklearn.py:1395: UserWarning: `use_label_encoder` is deprecated in 1.7.0.\n",
      "  warnings.warn(\"`use_label_encoder` is deprecated in 1.7.0.\")\n"
     ]
    },
    {
     "name": "stdout",
     "output_type": "stream",
     "text": [
      "[flaml.automl.automl: 01-16 08:05:35] {3507} INFO -  at 59.3s,\testimator xgb_limitdepth's best error=0.3648,\tbest estimator extra_tree's best error=0.3149\n",
      "[flaml.automl.automl: 01-16 08:05:35] {3322} INFO - iteration 161, current learner extra_tree\n"
     ]
    },
    {
     "name": "stderr",
     "output_type": "stream",
     "text": [
      "/home/vscode/.local/share/virtualenvs/python_api_sample_1-VfmthB3j/lib/python3.9/site-packages/xgboost/sklearn.py:1395: UserWarning: `use_label_encoder` is deprecated in 1.7.0.\n",
      "  warnings.warn(\"`use_label_encoder` is deprecated in 1.7.0.\")\n",
      "/home/vscode/.local/share/virtualenvs/python_api_sample_1-VfmthB3j/lib/python3.9/site-packages/xgboost/sklearn.py:1395: UserWarning: `use_label_encoder` is deprecated in 1.7.0.\n",
      "  warnings.warn(\"`use_label_encoder` is deprecated in 1.7.0.\")\n",
      "/home/vscode/.local/share/virtualenvs/python_api_sample_1-VfmthB3j/lib/python3.9/site-packages/xgboost/sklearn.py:1395: UserWarning: `use_label_encoder` is deprecated in 1.7.0.\n",
      "  warnings.warn(\"`use_label_encoder` is deprecated in 1.7.0.\")\n",
      "/home/vscode/.local/share/virtualenvs/python_api_sample_1-VfmthB3j/lib/python3.9/site-packages/xgboost/sklearn.py:1395: UserWarning: `use_label_encoder` is deprecated in 1.7.0.\n",
      "  warnings.warn(\"`use_label_encoder` is deprecated in 1.7.0.\")\n"
     ]
    },
    {
     "name": "stdout",
     "output_type": "stream",
     "text": [
      "[flaml.automl.automl: 01-16 08:05:38] {3507} INFO -  at 61.9s,\testimator extra_tree's best error=0.3149,\tbest estimator extra_tree's best error=0.3149\n",
      "[flaml.automl.automl: 01-16 08:05:38] {3322} INFO - iteration 162, current learner extra_tree\n",
      "[flaml.automl.automl: 01-16 08:05:39] {3507} INFO -  at 62.9s,\testimator extra_tree's best error=0.3127,\tbest estimator extra_tree's best error=0.3127\n",
      "[flaml.automl.automl: 01-16 08:05:39] {3322} INFO - iteration 163, current learner xgb_limitdepth\n"
     ]
    },
    {
     "name": "stderr",
     "output_type": "stream",
     "text": [
      "/home/vscode/.local/share/virtualenvs/python_api_sample_1-VfmthB3j/lib/python3.9/site-packages/xgboost/sklearn.py:1395: UserWarning: `use_label_encoder` is deprecated in 1.7.0.\n",
      "  warnings.warn(\"`use_label_encoder` is deprecated in 1.7.0.\")\n",
      "/home/vscode/.local/share/virtualenvs/python_api_sample_1-VfmthB3j/lib/python3.9/site-packages/xgboost/sklearn.py:1395: UserWarning: `use_label_encoder` is deprecated in 1.7.0.\n",
      "  warnings.warn(\"`use_label_encoder` is deprecated in 1.7.0.\")\n",
      "/home/vscode/.local/share/virtualenvs/python_api_sample_1-VfmthB3j/lib/python3.9/site-packages/xgboost/sklearn.py:1395: UserWarning: `use_label_encoder` is deprecated in 1.7.0.\n",
      "  warnings.warn(\"`use_label_encoder` is deprecated in 1.7.0.\")\n",
      "/home/vscode/.local/share/virtualenvs/python_api_sample_1-VfmthB3j/lib/python3.9/site-packages/xgboost/sklearn.py:1395: UserWarning: `use_label_encoder` is deprecated in 1.7.0.\n",
      "  warnings.warn(\"`use_label_encoder` is deprecated in 1.7.0.\")\n",
      "/home/vscode/.local/share/virtualenvs/python_api_sample_1-VfmthB3j/lib/python3.9/site-packages/xgboost/sklearn.py:1395: UserWarning: `use_label_encoder` is deprecated in 1.7.0.\n",
      "  warnings.warn(\"`use_label_encoder` is deprecated in 1.7.0.\")\n"
     ]
    },
    {
     "name": "stdout",
     "output_type": "stream",
     "text": [
      "[flaml.automl.automl: 01-16 08:05:39] {3507} INFO -  at 63.1s,\testimator xgb_limitdepth's best error=0.3648,\tbest estimator extra_tree's best error=0.3127\n",
      "[flaml.automl.automl: 01-16 08:05:39] {3322} INFO - iteration 164, current learner xgb_limitdepth\n",
      "[flaml.automl.automl: 01-16 08:05:39] {3507} INFO -  at 63.3s,\testimator xgb_limitdepth's best error=0.3648,\tbest estimator extra_tree's best error=0.3127\n",
      "[flaml.automl.automl: 01-16 08:05:39] {3322} INFO - iteration 165, current learner extra_tree\n"
     ]
    },
    {
     "name": "stderr",
     "output_type": "stream",
     "text": [
      "/home/vscode/.local/share/virtualenvs/python_api_sample_1-VfmthB3j/lib/python3.9/site-packages/xgboost/sklearn.py:1395: UserWarning: `use_label_encoder` is deprecated in 1.7.0.\n",
      "  warnings.warn(\"`use_label_encoder` is deprecated in 1.7.0.\")\n",
      "/home/vscode/.local/share/virtualenvs/python_api_sample_1-VfmthB3j/lib/python3.9/site-packages/xgboost/sklearn.py:1395: UserWarning: `use_label_encoder` is deprecated in 1.7.0.\n",
      "  warnings.warn(\"`use_label_encoder` is deprecated in 1.7.0.\")\n",
      "/home/vscode/.local/share/virtualenvs/python_api_sample_1-VfmthB3j/lib/python3.9/site-packages/xgboost/sklearn.py:1395: UserWarning: `use_label_encoder` is deprecated in 1.7.0.\n",
      "  warnings.warn(\"`use_label_encoder` is deprecated in 1.7.0.\")\n",
      "/home/vscode/.local/share/virtualenvs/python_api_sample_1-VfmthB3j/lib/python3.9/site-packages/xgboost/sklearn.py:1395: UserWarning: `use_label_encoder` is deprecated in 1.7.0.\n",
      "  warnings.warn(\"`use_label_encoder` is deprecated in 1.7.0.\")\n",
      "/home/vscode/.local/share/virtualenvs/python_api_sample_1-VfmthB3j/lib/python3.9/site-packages/xgboost/sklearn.py:1395: UserWarning: `use_label_encoder` is deprecated in 1.7.0.\n",
      "  warnings.warn(\"`use_label_encoder` is deprecated in 1.7.0.\")\n"
     ]
    },
    {
     "name": "stdout",
     "output_type": "stream",
     "text": [
      "[flaml.automl.automl: 01-16 08:05:41] {3507} INFO -  at 64.9s,\testimator extra_tree's best error=0.3127,\tbest estimator extra_tree's best error=0.3127\n",
      "[flaml.automl.automl: 01-16 08:05:41] {3322} INFO - iteration 166, current learner extra_tree\n",
      "[flaml.automl.automl: 01-16 08:05:47] {3507} INFO -  at 70.8s,\testimator extra_tree's best error=0.3127,\tbest estimator extra_tree's best error=0.3127\n",
      "[flaml.automl.automl: 01-16 08:05:47] {3322} INFO - iteration 167, current learner extra_tree\n",
      "[flaml.automl.automl: 01-16 08:05:47] {3507} INFO -  at 71.0s,\testimator extra_tree's best error=0.3127,\tbest estimator extra_tree's best error=0.3127\n",
      "[flaml.automl.automl: 01-16 08:05:47] {3322} INFO - iteration 168, current learner xgb_limitdepth\n",
      "[flaml.automl.automl: 01-16 08:05:47] {3507} INFO -  at 71.2s,\testimator xgb_limitdepth's best error=0.3648,\tbest estimator extra_tree's best error=0.3127\n",
      "[flaml.automl.automl: 01-16 08:05:47] {3322} INFO - iteration 169, current learner rf\n"
     ]
    },
    {
     "name": "stderr",
     "output_type": "stream",
     "text": [
      "/home/vscode/.local/share/virtualenvs/python_api_sample_1-VfmthB3j/lib/python3.9/site-packages/xgboost/sklearn.py:1395: UserWarning: `use_label_encoder` is deprecated in 1.7.0.\n",
      "  warnings.warn(\"`use_label_encoder` is deprecated in 1.7.0.\")\n",
      "/home/vscode/.local/share/virtualenvs/python_api_sample_1-VfmthB3j/lib/python3.9/site-packages/xgboost/sklearn.py:1395: UserWarning: `use_label_encoder` is deprecated in 1.7.0.\n",
      "  warnings.warn(\"`use_label_encoder` is deprecated in 1.7.0.\")\n",
      "/home/vscode/.local/share/virtualenvs/python_api_sample_1-VfmthB3j/lib/python3.9/site-packages/xgboost/sklearn.py:1395: UserWarning: `use_label_encoder` is deprecated in 1.7.0.\n",
      "  warnings.warn(\"`use_label_encoder` is deprecated in 1.7.0.\")\n",
      "/home/vscode/.local/share/virtualenvs/python_api_sample_1-VfmthB3j/lib/python3.9/site-packages/xgboost/sklearn.py:1395: UserWarning: `use_label_encoder` is deprecated in 1.7.0.\n",
      "  warnings.warn(\"`use_label_encoder` is deprecated in 1.7.0.\")\n",
      "/home/vscode/.local/share/virtualenvs/python_api_sample_1-VfmthB3j/lib/python3.9/site-packages/xgboost/sklearn.py:1395: UserWarning: `use_label_encoder` is deprecated in 1.7.0.\n",
      "  warnings.warn(\"`use_label_encoder` is deprecated in 1.7.0.\")\n"
     ]
    },
    {
     "name": "stdout",
     "output_type": "stream",
     "text": [
      "[flaml.automl.automl: 01-16 08:05:48] {3507} INFO -  at 71.6s,\testimator rf's best error=0.3537,\tbest estimator extra_tree's best error=0.3127\n",
      "[flaml.automl.automl: 01-16 08:05:48] {3322} INFO - iteration 170, current learner rf\n",
      "[flaml.automl.automl: 01-16 08:05:48] {3507} INFO -  at 72.1s,\testimator rf's best error=0.3537,\tbest estimator extra_tree's best error=0.3127\n",
      "[flaml.automl.automl: 01-16 08:05:48] {3322} INFO - iteration 171, current learner rf\n",
      "[flaml.automl.automl: 01-16 08:05:48] {3507} INFO -  at 72.4s,\testimator rf's best error=0.3537,\tbest estimator extra_tree's best error=0.3127\n",
      "[flaml.automl.automl: 01-16 08:05:48] {3322} INFO - iteration 172, current learner extra_tree\n",
      "[flaml.automl.automl: 01-16 08:05:53] {3507} INFO -  at 77.1s,\testimator extra_tree's best error=0.3127,\tbest estimator extra_tree's best error=0.3127\n",
      "[flaml.automl.automl: 01-16 08:05:53] {3322} INFO - iteration 173, current learner extra_tree\n",
      "[flaml.automl.automl: 01-16 08:05:53] {3507} INFO -  at 77.4s,\testimator extra_tree's best error=0.3127,\tbest estimator extra_tree's best error=0.3127\n",
      "[flaml.automl.automl: 01-16 08:05:53] {3322} INFO - iteration 174, current learner extra_tree\n",
      "[flaml.automl.automl: 01-16 08:05:53] {3507} INFO -  at 77.6s,\testimator extra_tree's best error=0.3127,\tbest estimator extra_tree's best error=0.3127\n",
      "[flaml.automl.automl: 01-16 08:05:53] {3322} INFO - iteration 175, current learner extra_tree\n",
      "[flaml.automl.automl: 01-16 08:06:00] {3507} INFO -  at 84.1s,\testimator extra_tree's best error=0.3127,\tbest estimator extra_tree's best error=0.3127\n",
      "[flaml.automl.automl: 01-16 08:06:00] {3322} INFO - iteration 176, current learner xgb_limitdepth\n"
     ]
    },
    {
     "name": "stderr",
     "output_type": "stream",
     "text": [
      "/home/vscode/.local/share/virtualenvs/python_api_sample_1-VfmthB3j/lib/python3.9/site-packages/xgboost/sklearn.py:1395: UserWarning: `use_label_encoder` is deprecated in 1.7.0.\n",
      "  warnings.warn(\"`use_label_encoder` is deprecated in 1.7.0.\")\n",
      "/home/vscode/.local/share/virtualenvs/python_api_sample_1-VfmthB3j/lib/python3.9/site-packages/xgboost/sklearn.py:1395: UserWarning: `use_label_encoder` is deprecated in 1.7.0.\n",
      "  warnings.warn(\"`use_label_encoder` is deprecated in 1.7.0.\")\n",
      "/home/vscode/.local/share/virtualenvs/python_api_sample_1-VfmthB3j/lib/python3.9/site-packages/xgboost/sklearn.py:1395: UserWarning: `use_label_encoder` is deprecated in 1.7.0.\n",
      "  warnings.warn(\"`use_label_encoder` is deprecated in 1.7.0.\")\n",
      "/home/vscode/.local/share/virtualenvs/python_api_sample_1-VfmthB3j/lib/python3.9/site-packages/xgboost/sklearn.py:1395: UserWarning: `use_label_encoder` is deprecated in 1.7.0.\n",
      "  warnings.warn(\"`use_label_encoder` is deprecated in 1.7.0.\")\n",
      "/home/vscode/.local/share/virtualenvs/python_api_sample_1-VfmthB3j/lib/python3.9/site-packages/xgboost/sklearn.py:1395: UserWarning: `use_label_encoder` is deprecated in 1.7.0.\n",
      "  warnings.warn(\"`use_label_encoder` is deprecated in 1.7.0.\")\n"
     ]
    },
    {
     "name": "stdout",
     "output_type": "stream",
     "text": [
      "[flaml.automl.automl: 01-16 08:06:00] {3507} INFO -  at 84.3s,\testimator xgb_limitdepth's best error=0.3648,\tbest estimator extra_tree's best error=0.3127\n",
      "[flaml.automl.automl: 01-16 08:06:00] {3322} INFO - iteration 177, current learner lrl1\n"
     ]
    },
    {
     "name": "stderr",
     "output_type": "stream",
     "text": [
      "/home/vscode/.local/share/virtualenvs/python_api_sample_1-VfmthB3j/lib/python3.9/site-packages/sklearn/linear_model/_sag.py:350: ConvergenceWarning: The max_iter was reached which means the coef_ did not converge\n",
      "  warnings.warn(\n",
      "/home/vscode/.local/share/virtualenvs/python_api_sample_1-VfmthB3j/lib/python3.9/site-packages/sklearn/linear_model/_sag.py:350: ConvergenceWarning: The max_iter was reached which means the coef_ did not converge\n",
      "  warnings.warn(\n",
      "/home/vscode/.local/share/virtualenvs/python_api_sample_1-VfmthB3j/lib/python3.9/site-packages/sklearn/linear_model/_sag.py:350: ConvergenceWarning: The max_iter was reached which means the coef_ did not converge\n",
      "  warnings.warn(\n"
     ]
    },
    {
     "name": "stdout",
     "output_type": "stream",
     "text": [
      "[flaml.automl.automl: 01-16 08:06:01] {3507} INFO -  at 84.8s,\testimator lrl1's best error=1.3091,\tbest estimator extra_tree's best error=0.3127\n",
      "[flaml.automl.automl: 01-16 08:06:01] {3322} INFO - iteration 178, current learner lrl1\n"
     ]
    },
    {
     "name": "stderr",
     "output_type": "stream",
     "text": [
      "/home/vscode/.local/share/virtualenvs/python_api_sample_1-VfmthB3j/lib/python3.9/site-packages/sklearn/linear_model/_sag.py:350: ConvergenceWarning: The max_iter was reached which means the coef_ did not converge\n",
      "  warnings.warn(\n",
      "/home/vscode/.local/share/virtualenvs/python_api_sample_1-VfmthB3j/lib/python3.9/site-packages/sklearn/linear_model/_sag.py:350: ConvergenceWarning: The max_iter was reached which means the coef_ did not converge\n",
      "  warnings.warn(\n",
      "/home/vscode/.local/share/virtualenvs/python_api_sample_1-VfmthB3j/lib/python3.9/site-packages/sklearn/linear_model/_sag.py:350: ConvergenceWarning: The max_iter was reached which means the coef_ did not converge\n",
      "  warnings.warn(\n",
      "/home/vscode/.local/share/virtualenvs/python_api_sample_1-VfmthB3j/lib/python3.9/site-packages/sklearn/linear_model/_sag.py:350: ConvergenceWarning: The max_iter was reached which means the coef_ did not converge\n",
      "  warnings.warn(\n",
      "/home/vscode/.local/share/virtualenvs/python_api_sample_1-VfmthB3j/lib/python3.9/site-packages/sklearn/linear_model/_sag.py:350: ConvergenceWarning: The max_iter was reached which means the coef_ did not converge\n",
      "  warnings.warn(\n",
      "/home/vscode/.local/share/virtualenvs/python_api_sample_1-VfmthB3j/lib/python3.9/site-packages/sklearn/linear_model/_sag.py:350: ConvergenceWarning: The max_iter was reached which means the coef_ did not converge\n",
      "  warnings.warn(\n"
     ]
    },
    {
     "name": "stdout",
     "output_type": "stream",
     "text": [
      "[flaml.automl.automl: 01-16 08:06:01] {3507} INFO -  at 85.3s,\testimator lrl1's best error=1.3091,\tbest estimator extra_tree's best error=0.3127\n",
      "[flaml.automl.automl: 01-16 08:06:01] {3322} INFO - iteration 179, current learner extra_tree\n"
     ]
    },
    {
     "name": "stderr",
     "output_type": "stream",
     "text": [
      "/home/vscode/.local/share/virtualenvs/python_api_sample_1-VfmthB3j/lib/python3.9/site-packages/sklearn/linear_model/_sag.py:350: ConvergenceWarning: The max_iter was reached which means the coef_ did not converge\n",
      "  warnings.warn(\n"
     ]
    },
    {
     "name": "stdout",
     "output_type": "stream",
     "text": [
      "[flaml.automl.automl: 01-16 08:06:02] {3507} INFO -  at 85.8s,\testimator extra_tree's best error=0.3127,\tbest estimator extra_tree's best error=0.3127\n",
      "[flaml.automl.automl: 01-16 08:06:02] {3322} INFO - iteration 180, current learner extra_tree\n",
      "[flaml.automl.automl: 01-16 08:06:04] {3507} INFO -  at 88.1s,\testimator extra_tree's best error=0.3127,\tbest estimator extra_tree's best error=0.3127\n",
      "[flaml.automl.automl: 01-16 08:06:04] {3322} INFO - iteration 181, current learner xgb_limitdepth\n"
     ]
    },
    {
     "name": "stderr",
     "output_type": "stream",
     "text": [
      "/home/vscode/.local/share/virtualenvs/python_api_sample_1-VfmthB3j/lib/python3.9/site-packages/xgboost/sklearn.py:1395: UserWarning: `use_label_encoder` is deprecated in 1.7.0.\n",
      "  warnings.warn(\"`use_label_encoder` is deprecated in 1.7.0.\")\n",
      "/home/vscode/.local/share/virtualenvs/python_api_sample_1-VfmthB3j/lib/python3.9/site-packages/xgboost/sklearn.py:1395: UserWarning: `use_label_encoder` is deprecated in 1.7.0.\n",
      "  warnings.warn(\"`use_label_encoder` is deprecated in 1.7.0.\")\n",
      "/home/vscode/.local/share/virtualenvs/python_api_sample_1-VfmthB3j/lib/python3.9/site-packages/xgboost/sklearn.py:1395: UserWarning: `use_label_encoder` is deprecated in 1.7.0.\n",
      "  warnings.warn(\"`use_label_encoder` is deprecated in 1.7.0.\")\n",
      "/home/vscode/.local/share/virtualenvs/python_api_sample_1-VfmthB3j/lib/python3.9/site-packages/xgboost/sklearn.py:1395: UserWarning: `use_label_encoder` is deprecated in 1.7.0.\n",
      "  warnings.warn(\"`use_label_encoder` is deprecated in 1.7.0.\")\n"
     ]
    },
    {
     "name": "stdout",
     "output_type": "stream",
     "text": [
      "[flaml.automl.automl: 01-16 08:06:04] {3507} INFO -  at 88.4s,\testimator xgb_limitdepth's best error=0.3648,\tbest estimator extra_tree's best error=0.3127\n",
      "[flaml.automl.automl: 01-16 08:06:04] {3322} INFO - iteration 182, current learner xgb_limitdepth\n"
     ]
    },
    {
     "name": "stderr",
     "output_type": "stream",
     "text": [
      "/home/vscode/.local/share/virtualenvs/python_api_sample_1-VfmthB3j/lib/python3.9/site-packages/xgboost/sklearn.py:1395: UserWarning: `use_label_encoder` is deprecated in 1.7.0.\n",
      "  warnings.warn(\"`use_label_encoder` is deprecated in 1.7.0.\")\n",
      "/home/vscode/.local/share/virtualenvs/python_api_sample_1-VfmthB3j/lib/python3.9/site-packages/xgboost/sklearn.py:1395: UserWarning: `use_label_encoder` is deprecated in 1.7.0.\n",
      "  warnings.warn(\"`use_label_encoder` is deprecated in 1.7.0.\")\n",
      "/home/vscode/.local/share/virtualenvs/python_api_sample_1-VfmthB3j/lib/python3.9/site-packages/xgboost/sklearn.py:1395: UserWarning: `use_label_encoder` is deprecated in 1.7.0.\n",
      "  warnings.warn(\"`use_label_encoder` is deprecated in 1.7.0.\")\n",
      "/home/vscode/.local/share/virtualenvs/python_api_sample_1-VfmthB3j/lib/python3.9/site-packages/xgboost/sklearn.py:1395: UserWarning: `use_label_encoder` is deprecated in 1.7.0.\n",
      "  warnings.warn(\"`use_label_encoder` is deprecated in 1.7.0.\")\n",
      "/home/vscode/.local/share/virtualenvs/python_api_sample_1-VfmthB3j/lib/python3.9/site-packages/xgboost/sklearn.py:1395: UserWarning: `use_label_encoder` is deprecated in 1.7.0.\n",
      "  warnings.warn(\"`use_label_encoder` is deprecated in 1.7.0.\")\n"
     ]
    },
    {
     "name": "stdout",
     "output_type": "stream",
     "text": [
      "[flaml.automl.automl: 01-16 08:06:05] {3507} INFO -  at 88.6s,\testimator xgb_limitdepth's best error=0.3648,\tbest estimator extra_tree's best error=0.3127\n",
      "[flaml.automl.automl: 01-16 08:06:05] {3322} INFO - iteration 183, current learner rf\n"
     ]
    },
    {
     "name": "stderr",
     "output_type": "stream",
     "text": [
      "/home/vscode/.local/share/virtualenvs/python_api_sample_1-VfmthB3j/lib/python3.9/site-packages/xgboost/sklearn.py:1395: UserWarning: `use_label_encoder` is deprecated in 1.7.0.\n",
      "  warnings.warn(\"`use_label_encoder` is deprecated in 1.7.0.\")\n"
     ]
    },
    {
     "name": "stdout",
     "output_type": "stream",
     "text": [
      "[flaml.automl.automl: 01-16 08:06:05] {3507} INFO -  at 88.9s,\testimator rf's best error=0.3537,\tbest estimator extra_tree's best error=0.3127\n",
      "[flaml.automl.automl: 01-16 08:06:05] {3322} INFO - iteration 184, current learner rf\n",
      "[flaml.automl.automl: 01-16 08:06:05] {3507} INFO -  at 89.4s,\testimator rf's best error=0.3537,\tbest estimator extra_tree's best error=0.3127\n",
      "[flaml.automl.automl: 01-16 08:06:05] {3322} INFO - iteration 185, current learner extra_tree\n",
      "[flaml.automl.automl: 01-16 08:06:06] {3507} INFO -  at 89.7s,\testimator extra_tree's best error=0.3127,\tbest estimator extra_tree's best error=0.3127\n",
      "[flaml.automl.automl: 01-16 08:06:06] {3322} INFO - iteration 186, current learner xgb_limitdepth\n",
      "[flaml.automl.automl: 01-16 08:06:06] {3507} INFO -  at 89.9s,\testimator xgb_limitdepth's best error=0.3648,\tbest estimator extra_tree's best error=0.3127\n",
      "[flaml.automl.automl: 01-16 08:06:06] {3322} INFO - iteration 187, current learner rf\n"
     ]
    },
    {
     "name": "stderr",
     "output_type": "stream",
     "text": [
      "/home/vscode/.local/share/virtualenvs/python_api_sample_1-VfmthB3j/lib/python3.9/site-packages/xgboost/sklearn.py:1395: UserWarning: `use_label_encoder` is deprecated in 1.7.0.\n",
      "  warnings.warn(\"`use_label_encoder` is deprecated in 1.7.0.\")\n",
      "/home/vscode/.local/share/virtualenvs/python_api_sample_1-VfmthB3j/lib/python3.9/site-packages/xgboost/sklearn.py:1395: UserWarning: `use_label_encoder` is deprecated in 1.7.0.\n",
      "  warnings.warn(\"`use_label_encoder` is deprecated in 1.7.0.\")\n",
      "/home/vscode/.local/share/virtualenvs/python_api_sample_1-VfmthB3j/lib/python3.9/site-packages/xgboost/sklearn.py:1395: UserWarning: `use_label_encoder` is deprecated in 1.7.0.\n",
      "  warnings.warn(\"`use_label_encoder` is deprecated in 1.7.0.\")\n",
      "/home/vscode/.local/share/virtualenvs/python_api_sample_1-VfmthB3j/lib/python3.9/site-packages/xgboost/sklearn.py:1395: UserWarning: `use_label_encoder` is deprecated in 1.7.0.\n",
      "  warnings.warn(\"`use_label_encoder` is deprecated in 1.7.0.\")\n",
      "/home/vscode/.local/share/virtualenvs/python_api_sample_1-VfmthB3j/lib/python3.9/site-packages/xgboost/sklearn.py:1395: UserWarning: `use_label_encoder` is deprecated in 1.7.0.\n",
      "  warnings.warn(\"`use_label_encoder` is deprecated in 1.7.0.\")\n"
     ]
    },
    {
     "name": "stdout",
     "output_type": "stream",
     "text": [
      "[flaml.automl.automl: 01-16 08:06:06] {3507} INFO -  at 90.5s,\testimator rf's best error=0.3537,\tbest estimator extra_tree's best error=0.3127\n",
      "[flaml.automl.automl: 01-16 08:06:06] {3322} INFO - iteration 188, current learner xgb_limitdepth\n",
      "[flaml.automl.automl: 01-16 08:06:07] {3507} INFO -  at 90.7s,\testimator xgb_limitdepth's best error=0.3648,\tbest estimator extra_tree's best error=0.3127\n",
      "[flaml.automl.automl: 01-16 08:06:07] {3322} INFO - iteration 189, current learner rf\n"
     ]
    },
    {
     "name": "stderr",
     "output_type": "stream",
     "text": [
      "/home/vscode/.local/share/virtualenvs/python_api_sample_1-VfmthB3j/lib/python3.9/site-packages/xgboost/sklearn.py:1395: UserWarning: `use_label_encoder` is deprecated in 1.7.0.\n",
      "  warnings.warn(\"`use_label_encoder` is deprecated in 1.7.0.\")\n",
      "/home/vscode/.local/share/virtualenvs/python_api_sample_1-VfmthB3j/lib/python3.9/site-packages/xgboost/sklearn.py:1395: UserWarning: `use_label_encoder` is deprecated in 1.7.0.\n",
      "  warnings.warn(\"`use_label_encoder` is deprecated in 1.7.0.\")\n",
      "/home/vscode/.local/share/virtualenvs/python_api_sample_1-VfmthB3j/lib/python3.9/site-packages/xgboost/sklearn.py:1395: UserWarning: `use_label_encoder` is deprecated in 1.7.0.\n",
      "  warnings.warn(\"`use_label_encoder` is deprecated in 1.7.0.\")\n",
      "/home/vscode/.local/share/virtualenvs/python_api_sample_1-VfmthB3j/lib/python3.9/site-packages/xgboost/sklearn.py:1395: UserWarning: `use_label_encoder` is deprecated in 1.7.0.\n",
      "  warnings.warn(\"`use_label_encoder` is deprecated in 1.7.0.\")\n",
      "/home/vscode/.local/share/virtualenvs/python_api_sample_1-VfmthB3j/lib/python3.9/site-packages/xgboost/sklearn.py:1395: UserWarning: `use_label_encoder` is deprecated in 1.7.0.\n",
      "  warnings.warn(\"`use_label_encoder` is deprecated in 1.7.0.\")\n"
     ]
    },
    {
     "name": "stdout",
     "output_type": "stream",
     "text": [
      "[flaml.automl.automl: 01-16 08:06:07] {3507} INFO -  at 90.9s,\testimator rf's best error=0.3537,\tbest estimator extra_tree's best error=0.3127\n",
      "[flaml.automl.automl: 01-16 08:06:07] {3322} INFO - iteration 190, current learner xgboost\n"
     ]
    },
    {
     "name": "stderr",
     "output_type": "stream",
     "text": [
      "/home/vscode/.local/share/virtualenvs/python_api_sample_1-VfmthB3j/lib/python3.9/site-packages/xgboost/sklearn.py:1395: UserWarning: `use_label_encoder` is deprecated in 1.7.0.\n",
      "  warnings.warn(\"`use_label_encoder` is deprecated in 1.7.0.\")\n",
      "/home/vscode/.local/share/virtualenvs/python_api_sample_1-VfmthB3j/lib/python3.9/site-packages/xgboost/sklearn.py:1395: UserWarning: `use_label_encoder` is deprecated in 1.7.0.\n",
      "  warnings.warn(\"`use_label_encoder` is deprecated in 1.7.0.\")\n",
      "/home/vscode/.local/share/virtualenvs/python_api_sample_1-VfmthB3j/lib/python3.9/site-packages/xgboost/sklearn.py:1395: UserWarning: `use_label_encoder` is deprecated in 1.7.0.\n",
      "  warnings.warn(\"`use_label_encoder` is deprecated in 1.7.0.\")\n",
      "/home/vscode/.local/share/virtualenvs/python_api_sample_1-VfmthB3j/lib/python3.9/site-packages/xgboost/sklearn.py:1395: UserWarning: `use_label_encoder` is deprecated in 1.7.0.\n",
      "  warnings.warn(\"`use_label_encoder` is deprecated in 1.7.0.\")\n"
     ]
    },
    {
     "name": "stdout",
     "output_type": "stream",
     "text": [
      "[flaml.automl.automl: 01-16 08:06:07] {3507} INFO -  at 91.2s,\testimator xgboost's best error=0.3633,\tbest estimator extra_tree's best error=0.3127\n",
      "[flaml.automl.automl: 01-16 08:06:07] {3322} INFO - iteration 191, current learner xgboost\n"
     ]
    },
    {
     "name": "stderr",
     "output_type": "stream",
     "text": [
      "/home/vscode/.local/share/virtualenvs/python_api_sample_1-VfmthB3j/lib/python3.9/site-packages/xgboost/sklearn.py:1395: UserWarning: `use_label_encoder` is deprecated in 1.7.0.\n",
      "  warnings.warn(\"`use_label_encoder` is deprecated in 1.7.0.\")\n",
      "/home/vscode/.local/share/virtualenvs/python_api_sample_1-VfmthB3j/lib/python3.9/site-packages/xgboost/sklearn.py:1395: UserWarning: `use_label_encoder` is deprecated in 1.7.0.\n",
      "  warnings.warn(\"`use_label_encoder` is deprecated in 1.7.0.\")\n",
      "/home/vscode/.local/share/virtualenvs/python_api_sample_1-VfmthB3j/lib/python3.9/site-packages/xgboost/sklearn.py:1395: UserWarning: `use_label_encoder` is deprecated in 1.7.0.\n",
      "  warnings.warn(\"`use_label_encoder` is deprecated in 1.7.0.\")\n",
      "/home/vscode/.local/share/virtualenvs/python_api_sample_1-VfmthB3j/lib/python3.9/site-packages/xgboost/sklearn.py:1395: UserWarning: `use_label_encoder` is deprecated in 1.7.0.\n",
      "  warnings.warn(\"`use_label_encoder` is deprecated in 1.7.0.\")\n",
      "/home/vscode/.local/share/virtualenvs/python_api_sample_1-VfmthB3j/lib/python3.9/site-packages/xgboost/sklearn.py:1395: UserWarning: `use_label_encoder` is deprecated in 1.7.0.\n",
      "  warnings.warn(\"`use_label_encoder` is deprecated in 1.7.0.\")\n"
     ]
    },
    {
     "name": "stdout",
     "output_type": "stream",
     "text": [
      "[flaml.automl.automl: 01-16 08:06:07] {3507} INFO -  at 91.5s,\testimator xgboost's best error=0.3633,\tbest estimator extra_tree's best error=0.3127\n",
      "[flaml.automl.automl: 01-16 08:06:07] {3322} INFO - iteration 192, current learner xgboost\n"
     ]
    },
    {
     "name": "stderr",
     "output_type": "stream",
     "text": [
      "/home/vscode/.local/share/virtualenvs/python_api_sample_1-VfmthB3j/lib/python3.9/site-packages/xgboost/sklearn.py:1395: UserWarning: `use_label_encoder` is deprecated in 1.7.0.\n",
      "  warnings.warn(\"`use_label_encoder` is deprecated in 1.7.0.\")\n",
      "/home/vscode/.local/share/virtualenvs/python_api_sample_1-VfmthB3j/lib/python3.9/site-packages/xgboost/sklearn.py:1395: UserWarning: `use_label_encoder` is deprecated in 1.7.0.\n",
      "  warnings.warn(\"`use_label_encoder` is deprecated in 1.7.0.\")\n",
      "/home/vscode/.local/share/virtualenvs/python_api_sample_1-VfmthB3j/lib/python3.9/site-packages/xgboost/sklearn.py:1395: UserWarning: `use_label_encoder` is deprecated in 1.7.0.\n",
      "  warnings.warn(\"`use_label_encoder` is deprecated in 1.7.0.\")\n",
      "/home/vscode/.local/share/virtualenvs/python_api_sample_1-VfmthB3j/lib/python3.9/site-packages/xgboost/sklearn.py:1395: UserWarning: `use_label_encoder` is deprecated in 1.7.0.\n",
      "  warnings.warn(\"`use_label_encoder` is deprecated in 1.7.0.\")\n",
      "/home/vscode/.local/share/virtualenvs/python_api_sample_1-VfmthB3j/lib/python3.9/site-packages/xgboost/sklearn.py:1395: UserWarning: `use_label_encoder` is deprecated in 1.7.0.\n",
      "  warnings.warn(\"`use_label_encoder` is deprecated in 1.7.0.\")\n",
      "/home/vscode/.local/share/virtualenvs/python_api_sample_1-VfmthB3j/lib/python3.9/site-packages/xgboost/sklearn.py:1395: UserWarning: `use_label_encoder` is deprecated in 1.7.0.\n",
      "  warnings.warn(\"`use_label_encoder` is deprecated in 1.7.0.\")\n"
     ]
    },
    {
     "name": "stdout",
     "output_type": "stream",
     "text": [
      "[flaml.automl.automl: 01-16 08:06:08] {3507} INFO -  at 92.1s,\testimator xgboost's best error=0.3591,\tbest estimator extra_tree's best error=0.3127\n",
      "[flaml.automl.automl: 01-16 08:06:08] {3322} INFO - iteration 193, current learner extra_tree\n",
      "[flaml.automl.automl: 01-16 08:06:12] {3507} INFO -  at 95.6s,\testimator extra_tree's best error=0.3122,\tbest estimator extra_tree's best error=0.3122\n",
      "[flaml.automl.automl: 01-16 08:06:12] {3322} INFO - iteration 194, current learner extra_tree\n",
      "[flaml.automl.automl: 01-16 08:06:12] {3507} INFO -  at 96.1s,\testimator extra_tree's best error=0.3122,\tbest estimator extra_tree's best error=0.3122\n",
      "[flaml.automl.automl: 01-16 08:06:12] {3322} INFO - iteration 195, current learner xgb_limitdepth\n"
     ]
    },
    {
     "name": "stderr",
     "output_type": "stream",
     "text": [
      "/home/vscode/.local/share/virtualenvs/python_api_sample_1-VfmthB3j/lib/python3.9/site-packages/xgboost/sklearn.py:1395: UserWarning: `use_label_encoder` is deprecated in 1.7.0.\n",
      "  warnings.warn(\"`use_label_encoder` is deprecated in 1.7.0.\")\n",
      "/home/vscode/.local/share/virtualenvs/python_api_sample_1-VfmthB3j/lib/python3.9/site-packages/xgboost/sklearn.py:1395: UserWarning: `use_label_encoder` is deprecated in 1.7.0.\n",
      "  warnings.warn(\"`use_label_encoder` is deprecated in 1.7.0.\")\n",
      "/home/vscode/.local/share/virtualenvs/python_api_sample_1-VfmthB3j/lib/python3.9/site-packages/xgboost/sklearn.py:1395: UserWarning: `use_label_encoder` is deprecated in 1.7.0.\n",
      "  warnings.warn(\"`use_label_encoder` is deprecated in 1.7.0.\")\n"
     ]
    },
    {
     "name": "stdout",
     "output_type": "stream",
     "text": [
      "[flaml.automl.automl: 01-16 08:06:12] {3507} INFO -  at 96.5s,\testimator xgb_limitdepth's best error=0.3648,\tbest estimator extra_tree's best error=0.3122\n",
      "[flaml.automl.automl: 01-16 08:06:12] {3322} INFO - iteration 196, current learner xgboost\n"
     ]
    },
    {
     "name": "stderr",
     "output_type": "stream",
     "text": [
      "/home/vscode/.local/share/virtualenvs/python_api_sample_1-VfmthB3j/lib/python3.9/site-packages/xgboost/sklearn.py:1395: UserWarning: `use_label_encoder` is deprecated in 1.7.0.\n",
      "  warnings.warn(\"`use_label_encoder` is deprecated in 1.7.0.\")\n",
      "/home/vscode/.local/share/virtualenvs/python_api_sample_1-VfmthB3j/lib/python3.9/site-packages/xgboost/sklearn.py:1395: UserWarning: `use_label_encoder` is deprecated in 1.7.0.\n",
      "  warnings.warn(\"`use_label_encoder` is deprecated in 1.7.0.\")\n",
      "/home/vscode/.local/share/virtualenvs/python_api_sample_1-VfmthB3j/lib/python3.9/site-packages/xgboost/sklearn.py:1395: UserWarning: `use_label_encoder` is deprecated in 1.7.0.\n",
      "  warnings.warn(\"`use_label_encoder` is deprecated in 1.7.0.\")\n",
      "/home/vscode/.local/share/virtualenvs/python_api_sample_1-VfmthB3j/lib/python3.9/site-packages/xgboost/sklearn.py:1395: UserWarning: `use_label_encoder` is deprecated in 1.7.0.\n",
      "  warnings.warn(\"`use_label_encoder` is deprecated in 1.7.0.\")\n",
      "/home/vscode/.local/share/virtualenvs/python_api_sample_1-VfmthB3j/lib/python3.9/site-packages/xgboost/sklearn.py:1395: UserWarning: `use_label_encoder` is deprecated in 1.7.0.\n",
      "  warnings.warn(\"`use_label_encoder` is deprecated in 1.7.0.\")\n",
      "/home/vscode/.local/share/virtualenvs/python_api_sample_1-VfmthB3j/lib/python3.9/site-packages/xgboost/sklearn.py:1395: UserWarning: `use_label_encoder` is deprecated in 1.7.0.\n",
      "  warnings.warn(\"`use_label_encoder` is deprecated in 1.7.0.\")\n",
      "/home/vscode/.local/share/virtualenvs/python_api_sample_1-VfmthB3j/lib/python3.9/site-packages/xgboost/sklearn.py:1395: UserWarning: `use_label_encoder` is deprecated in 1.7.0.\n",
      "  warnings.warn(\"`use_label_encoder` is deprecated in 1.7.0.\")\n"
     ]
    },
    {
     "name": "stdout",
     "output_type": "stream",
     "text": [
      "[flaml.automl.automl: 01-16 08:06:13] {3507} INFO -  at 96.8s,\testimator xgboost's best error=0.3590,\tbest estimator extra_tree's best error=0.3122\n",
      "[flaml.automl.automl: 01-16 08:06:13] {3322} INFO - iteration 197, current learner rf\n",
      "[flaml.automl.automl: 01-16 08:06:13] {3507} INFO -  at 97.2s,\testimator rf's best error=0.3537,\tbest estimator extra_tree's best error=0.3122\n",
      "[flaml.automl.automl: 01-16 08:06:13] {3322} INFO - iteration 198, current learner xgb_limitdepth\n",
      "[flaml.automl.automl: 01-16 08:06:13] {3507} INFO -  at 97.4s,\testimator xgb_limitdepth's best error=0.3648,\tbest estimator extra_tree's best error=0.3122\n",
      "[flaml.automl.automl: 01-16 08:06:13] {3322} INFO - iteration 199, current learner xgb_limitdepth\n"
     ]
    },
    {
     "name": "stderr",
     "output_type": "stream",
     "text": [
      "/home/vscode/.local/share/virtualenvs/python_api_sample_1-VfmthB3j/lib/python3.9/site-packages/xgboost/sklearn.py:1395: UserWarning: `use_label_encoder` is deprecated in 1.7.0.\n",
      "  warnings.warn(\"`use_label_encoder` is deprecated in 1.7.0.\")\n",
      "/home/vscode/.local/share/virtualenvs/python_api_sample_1-VfmthB3j/lib/python3.9/site-packages/xgboost/sklearn.py:1395: UserWarning: `use_label_encoder` is deprecated in 1.7.0.\n",
      "  warnings.warn(\"`use_label_encoder` is deprecated in 1.7.0.\")\n",
      "/home/vscode/.local/share/virtualenvs/python_api_sample_1-VfmthB3j/lib/python3.9/site-packages/xgboost/sklearn.py:1395: UserWarning: `use_label_encoder` is deprecated in 1.7.0.\n",
      "  warnings.warn(\"`use_label_encoder` is deprecated in 1.7.0.\")\n",
      "/home/vscode/.local/share/virtualenvs/python_api_sample_1-VfmthB3j/lib/python3.9/site-packages/xgboost/sklearn.py:1395: UserWarning: `use_label_encoder` is deprecated in 1.7.0.\n",
      "  warnings.warn(\"`use_label_encoder` is deprecated in 1.7.0.\")\n",
      "/home/vscode/.local/share/virtualenvs/python_api_sample_1-VfmthB3j/lib/python3.9/site-packages/xgboost/sklearn.py:1395: UserWarning: `use_label_encoder` is deprecated in 1.7.0.\n",
      "  warnings.warn(\"`use_label_encoder` is deprecated in 1.7.0.\")\n",
      "/home/vscode/.local/share/virtualenvs/python_api_sample_1-VfmthB3j/lib/python3.9/site-packages/xgboost/sklearn.py:1395: UserWarning: `use_label_encoder` is deprecated in 1.7.0.\n",
      "  warnings.warn(\"`use_label_encoder` is deprecated in 1.7.0.\")\n"
     ]
    },
    {
     "name": "stdout",
     "output_type": "stream",
     "text": [
      "[flaml.automl.automl: 01-16 08:06:14] {3507} INFO -  at 97.6s,\testimator xgb_limitdepth's best error=0.3648,\tbest estimator extra_tree's best error=0.3122\n",
      "[flaml.automl.automl: 01-16 08:06:14] {3322} INFO - iteration 200, current learner xgb_limitdepth\n"
     ]
    },
    {
     "name": "stderr",
     "output_type": "stream",
     "text": [
      "/home/vscode/.local/share/virtualenvs/python_api_sample_1-VfmthB3j/lib/python3.9/site-packages/xgboost/sklearn.py:1395: UserWarning: `use_label_encoder` is deprecated in 1.7.0.\n",
      "  warnings.warn(\"`use_label_encoder` is deprecated in 1.7.0.\")\n",
      "/home/vscode/.local/share/virtualenvs/python_api_sample_1-VfmthB3j/lib/python3.9/site-packages/xgboost/sklearn.py:1395: UserWarning: `use_label_encoder` is deprecated in 1.7.0.\n",
      "  warnings.warn(\"`use_label_encoder` is deprecated in 1.7.0.\")\n",
      "/home/vscode/.local/share/virtualenvs/python_api_sample_1-VfmthB3j/lib/python3.9/site-packages/xgboost/sklearn.py:1395: UserWarning: `use_label_encoder` is deprecated in 1.7.0.\n",
      "  warnings.warn(\"`use_label_encoder` is deprecated in 1.7.0.\")\n",
      "/home/vscode/.local/share/virtualenvs/python_api_sample_1-VfmthB3j/lib/python3.9/site-packages/xgboost/sklearn.py:1395: UserWarning: `use_label_encoder` is deprecated in 1.7.0.\n",
      "  warnings.warn(\"`use_label_encoder` is deprecated in 1.7.0.\")\n",
      "/home/vscode/.local/share/virtualenvs/python_api_sample_1-VfmthB3j/lib/python3.9/site-packages/xgboost/sklearn.py:1395: UserWarning: `use_label_encoder` is deprecated in 1.7.0.\n",
      "  warnings.warn(\"`use_label_encoder` is deprecated in 1.7.0.\")\n"
     ]
    },
    {
     "name": "stdout",
     "output_type": "stream",
     "text": [
      "[flaml.automl.automl: 01-16 08:06:14] {3507} INFO -  at 97.9s,\testimator xgb_limitdepth's best error=0.3648,\tbest estimator extra_tree's best error=0.3122\n",
      "[flaml.automl.automl: 01-16 08:06:14] {3322} INFO - iteration 201, current learner xgb_limitdepth\n"
     ]
    },
    {
     "name": "stderr",
     "output_type": "stream",
     "text": [
      "/home/vscode/.local/share/virtualenvs/python_api_sample_1-VfmthB3j/lib/python3.9/site-packages/xgboost/sklearn.py:1395: UserWarning: `use_label_encoder` is deprecated in 1.7.0.\n",
      "  warnings.warn(\"`use_label_encoder` is deprecated in 1.7.0.\")\n",
      "/home/vscode/.local/share/virtualenvs/python_api_sample_1-VfmthB3j/lib/python3.9/site-packages/xgboost/sklearn.py:1395: UserWarning: `use_label_encoder` is deprecated in 1.7.0.\n",
      "  warnings.warn(\"`use_label_encoder` is deprecated in 1.7.0.\")\n",
      "/home/vscode/.local/share/virtualenvs/python_api_sample_1-VfmthB3j/lib/python3.9/site-packages/xgboost/sklearn.py:1395: UserWarning: `use_label_encoder` is deprecated in 1.7.0.\n",
      "  warnings.warn(\"`use_label_encoder` is deprecated in 1.7.0.\")\n",
      "/home/vscode/.local/share/virtualenvs/python_api_sample_1-VfmthB3j/lib/python3.9/site-packages/xgboost/sklearn.py:1395: UserWarning: `use_label_encoder` is deprecated in 1.7.0.\n",
      "  warnings.warn(\"`use_label_encoder` is deprecated in 1.7.0.\")\n",
      "/home/vscode/.local/share/virtualenvs/python_api_sample_1-VfmthB3j/lib/python3.9/site-packages/xgboost/sklearn.py:1395: UserWarning: `use_label_encoder` is deprecated in 1.7.0.\n",
      "  warnings.warn(\"`use_label_encoder` is deprecated in 1.7.0.\")\n"
     ]
    },
    {
     "name": "stdout",
     "output_type": "stream",
     "text": [
      "[flaml.automl.automl: 01-16 08:06:14] {3507} INFO -  at 98.1s,\testimator xgb_limitdepth's best error=0.3648,\tbest estimator extra_tree's best error=0.3122\n",
      "[flaml.automl.automl: 01-16 08:06:14] {3322} INFO - iteration 202, current learner rf\n"
     ]
    },
    {
     "name": "stderr",
     "output_type": "stream",
     "text": [
      "/home/vscode/.local/share/virtualenvs/python_api_sample_1-VfmthB3j/lib/python3.9/site-packages/xgboost/sklearn.py:1395: UserWarning: `use_label_encoder` is deprecated in 1.7.0.\n",
      "  warnings.warn(\"`use_label_encoder` is deprecated in 1.7.0.\")\n",
      "/home/vscode/.local/share/virtualenvs/python_api_sample_1-VfmthB3j/lib/python3.9/site-packages/xgboost/sklearn.py:1395: UserWarning: `use_label_encoder` is deprecated in 1.7.0.\n",
      "  warnings.warn(\"`use_label_encoder` is deprecated in 1.7.0.\")\n",
      "/home/vscode/.local/share/virtualenvs/python_api_sample_1-VfmthB3j/lib/python3.9/site-packages/xgboost/sklearn.py:1395: UserWarning: `use_label_encoder` is deprecated in 1.7.0.\n",
      "  warnings.warn(\"`use_label_encoder` is deprecated in 1.7.0.\")\n",
      "/home/vscode/.local/share/virtualenvs/python_api_sample_1-VfmthB3j/lib/python3.9/site-packages/xgboost/sklearn.py:1395: UserWarning: `use_label_encoder` is deprecated in 1.7.0.\n",
      "  warnings.warn(\"`use_label_encoder` is deprecated in 1.7.0.\")\n"
     ]
    },
    {
     "name": "stdout",
     "output_type": "stream",
     "text": [
      "[flaml.automl.automl: 01-16 08:06:14] {3507} INFO -  at 98.6s,\testimator rf's best error=0.3537,\tbest estimator extra_tree's best error=0.3122\n",
      "[flaml.automl.automl: 01-16 08:06:14] {3322} INFO - iteration 203, current learner rf\n",
      "[flaml.automl.automl: 01-16 08:06:15] {3507} INFO -  at 99.1s,\testimator rf's best error=0.3537,\tbest estimator extra_tree's best error=0.3122\n",
      "[flaml.automl.automl: 01-16 08:06:15] {3322} INFO - iteration 204, current learner extra_tree\n",
      "[flaml.automl.automl: 01-16 08:06:22] {3507} INFO -  at 105.7s,\testimator extra_tree's best error=0.3122,\tbest estimator extra_tree's best error=0.3122\n",
      "[flaml.automl.automl: 01-16 08:06:22] {3322} INFO - iteration 205, current learner xgb_limitdepth\n"
     ]
    },
    {
     "name": "stderr",
     "output_type": "stream",
     "text": [
      "/home/vscode/.local/share/virtualenvs/python_api_sample_1-VfmthB3j/lib/python3.9/site-packages/xgboost/sklearn.py:1395: UserWarning: `use_label_encoder` is deprecated in 1.7.0.\n",
      "  warnings.warn(\"`use_label_encoder` is deprecated in 1.7.0.\")\n",
      "/home/vscode/.local/share/virtualenvs/python_api_sample_1-VfmthB3j/lib/python3.9/site-packages/xgboost/sklearn.py:1395: UserWarning: `use_label_encoder` is deprecated in 1.7.0.\n",
      "  warnings.warn(\"`use_label_encoder` is deprecated in 1.7.0.\")\n",
      "/home/vscode/.local/share/virtualenvs/python_api_sample_1-VfmthB3j/lib/python3.9/site-packages/xgboost/sklearn.py:1395: UserWarning: `use_label_encoder` is deprecated in 1.7.0.\n",
      "  warnings.warn(\"`use_label_encoder` is deprecated in 1.7.0.\")\n",
      "/home/vscode/.local/share/virtualenvs/python_api_sample_1-VfmthB3j/lib/python3.9/site-packages/xgboost/sklearn.py:1395: UserWarning: `use_label_encoder` is deprecated in 1.7.0.\n",
      "  warnings.warn(\"`use_label_encoder` is deprecated in 1.7.0.\")\n"
     ]
    },
    {
     "name": "stdout",
     "output_type": "stream",
     "text": [
      "[flaml.automl.automl: 01-16 08:06:22] {3507} INFO -  at 106.0s,\testimator xgb_limitdepth's best error=0.3648,\tbest estimator extra_tree's best error=0.3122\n",
      "[flaml.automl.automl: 01-16 08:06:22] {3322} INFO - iteration 206, current learner xgb_limitdepth\n"
     ]
    },
    {
     "name": "stderr",
     "output_type": "stream",
     "text": [
      "/home/vscode/.local/share/virtualenvs/python_api_sample_1-VfmthB3j/lib/python3.9/site-packages/xgboost/sklearn.py:1395: UserWarning: `use_label_encoder` is deprecated in 1.7.0.\n",
      "  warnings.warn(\"`use_label_encoder` is deprecated in 1.7.0.\")\n",
      "/home/vscode/.local/share/virtualenvs/python_api_sample_1-VfmthB3j/lib/python3.9/site-packages/xgboost/sklearn.py:1395: UserWarning: `use_label_encoder` is deprecated in 1.7.0.\n",
      "  warnings.warn(\"`use_label_encoder` is deprecated in 1.7.0.\")\n",
      "/home/vscode/.local/share/virtualenvs/python_api_sample_1-VfmthB3j/lib/python3.9/site-packages/xgboost/sklearn.py:1395: UserWarning: `use_label_encoder` is deprecated in 1.7.0.\n",
      "  warnings.warn(\"`use_label_encoder` is deprecated in 1.7.0.\")\n",
      "/home/vscode/.local/share/virtualenvs/python_api_sample_1-VfmthB3j/lib/python3.9/site-packages/xgboost/sklearn.py:1395: UserWarning: `use_label_encoder` is deprecated in 1.7.0.\n",
      "  warnings.warn(\"`use_label_encoder` is deprecated in 1.7.0.\")\n",
      "/home/vscode/.local/share/virtualenvs/python_api_sample_1-VfmthB3j/lib/python3.9/site-packages/xgboost/sklearn.py:1395: UserWarning: `use_label_encoder` is deprecated in 1.7.0.\n",
      "  warnings.warn(\"`use_label_encoder` is deprecated in 1.7.0.\")\n",
      "/home/vscode/.local/share/virtualenvs/python_api_sample_1-VfmthB3j/lib/python3.9/site-packages/xgboost/sklearn.py:1395: UserWarning: `use_label_encoder` is deprecated in 1.7.0.\n",
      "  warnings.warn(\"`use_label_encoder` is deprecated in 1.7.0.\")\n"
     ]
    },
    {
     "name": "stdout",
     "output_type": "stream",
     "text": [
      "[flaml.automl.automl: 01-16 08:06:22] {3507} INFO -  at 106.1s,\testimator xgb_limitdepth's best error=0.3648,\tbest estimator extra_tree's best error=0.3122\n",
      "[flaml.automl.automl: 01-16 08:06:22] {3322} INFO - iteration 207, current learner extra_tree\n",
      "[flaml.automl.automl: 01-16 08:06:23] {3507} INFO -  at 106.8s,\testimator extra_tree's best error=0.3122,\tbest estimator extra_tree's best error=0.3122\n",
      "[flaml.automl.automl: 01-16 08:06:23] {3322} INFO - iteration 208, current learner xgb_limitdepth\n"
     ]
    },
    {
     "name": "stderr",
     "output_type": "stream",
     "text": [
      "/home/vscode/.local/share/virtualenvs/python_api_sample_1-VfmthB3j/lib/python3.9/site-packages/xgboost/sklearn.py:1395: UserWarning: `use_label_encoder` is deprecated in 1.7.0.\n",
      "  warnings.warn(\"`use_label_encoder` is deprecated in 1.7.0.\")\n",
      "/home/vscode/.local/share/virtualenvs/python_api_sample_1-VfmthB3j/lib/python3.9/site-packages/xgboost/sklearn.py:1395: UserWarning: `use_label_encoder` is deprecated in 1.7.0.\n",
      "  warnings.warn(\"`use_label_encoder` is deprecated in 1.7.0.\")\n",
      "/home/vscode/.local/share/virtualenvs/python_api_sample_1-VfmthB3j/lib/python3.9/site-packages/xgboost/sklearn.py:1395: UserWarning: `use_label_encoder` is deprecated in 1.7.0.\n",
      "  warnings.warn(\"`use_label_encoder` is deprecated in 1.7.0.\")\n",
      "/home/vscode/.local/share/virtualenvs/python_api_sample_1-VfmthB3j/lib/python3.9/site-packages/xgboost/sklearn.py:1395: UserWarning: `use_label_encoder` is deprecated in 1.7.0.\n",
      "  warnings.warn(\"`use_label_encoder` is deprecated in 1.7.0.\")\n",
      "/home/vscode/.local/share/virtualenvs/python_api_sample_1-VfmthB3j/lib/python3.9/site-packages/xgboost/sklearn.py:1395: UserWarning: `use_label_encoder` is deprecated in 1.7.0.\n",
      "  warnings.warn(\"`use_label_encoder` is deprecated in 1.7.0.\")\n"
     ]
    },
    {
     "name": "stdout",
     "output_type": "stream",
     "text": [
      "[flaml.automl.automl: 01-16 08:06:23] {3507} INFO -  at 107.0s,\testimator xgb_limitdepth's best error=0.3648,\tbest estimator extra_tree's best error=0.3122\n",
      "[flaml.automl.automl: 01-16 08:06:23] {3322} INFO - iteration 209, current learner extra_tree\n",
      "[flaml.automl.automl: 01-16 08:06:30] {3507} INFO -  at 114.0s,\testimator extra_tree's best error=0.3092,\tbest estimator extra_tree's best error=0.3092\n",
      "[flaml.automl.automl: 01-16 08:06:30] {3322} INFO - iteration 210, current learner extra_tree\n",
      "[flaml.automl.automl: 01-16 08:06:31] {3507} INFO -  at 114.9s,\testimator extra_tree's best error=0.3092,\tbest estimator extra_tree's best error=0.3092\n",
      "[flaml.automl.automl: 01-16 08:06:31] {3322} INFO - iteration 211, current learner extra_tree\n",
      "[flaml.automl.automl: 01-16 08:06:38] {3507} INFO -  at 121.9s,\testimator extra_tree's best error=0.3092,\tbest estimator extra_tree's best error=0.3092\n",
      "[flaml.automl.automl: 01-16 08:06:38] {3322} INFO - iteration 212, current learner extra_tree\n",
      "[flaml.automl.automl: 01-16 08:06:38] {3507} INFO -  at 122.1s,\testimator extra_tree's best error=0.3092,\tbest estimator extra_tree's best error=0.3092\n",
      "[flaml.automl.automl: 01-16 08:06:38] {3322} INFO - iteration 213, current learner extra_tree\n",
      "[flaml.automl.automl: 01-16 08:06:44] {3507} INFO -  at 127.9s,\testimator extra_tree's best error=0.3092,\tbest estimator extra_tree's best error=0.3092\n",
      "[flaml.automl.automl: 01-16 08:06:44] {3322} INFO - iteration 214, current learner xgb_limitdepth\n",
      "[flaml.automl.automl: 01-16 08:06:44] {3507} INFO -  at 128.1s,\testimator xgb_limitdepth's best error=0.3648,\tbest estimator extra_tree's best error=0.3092\n",
      "[flaml.automl.automl: 01-16 08:06:44] {3322} INFO - iteration 215, current learner xgb_limitdepth\n"
     ]
    },
    {
     "name": "stderr",
     "output_type": "stream",
     "text": [
      "/home/vscode/.local/share/virtualenvs/python_api_sample_1-VfmthB3j/lib/python3.9/site-packages/xgboost/sklearn.py:1395: UserWarning: `use_label_encoder` is deprecated in 1.7.0.\n",
      "  warnings.warn(\"`use_label_encoder` is deprecated in 1.7.0.\")\n",
      "/home/vscode/.local/share/virtualenvs/python_api_sample_1-VfmthB3j/lib/python3.9/site-packages/xgboost/sklearn.py:1395: UserWarning: `use_label_encoder` is deprecated in 1.7.0.\n",
      "  warnings.warn(\"`use_label_encoder` is deprecated in 1.7.0.\")\n",
      "/home/vscode/.local/share/virtualenvs/python_api_sample_1-VfmthB3j/lib/python3.9/site-packages/xgboost/sklearn.py:1395: UserWarning: `use_label_encoder` is deprecated in 1.7.0.\n",
      "  warnings.warn(\"`use_label_encoder` is deprecated in 1.7.0.\")\n",
      "/home/vscode/.local/share/virtualenvs/python_api_sample_1-VfmthB3j/lib/python3.9/site-packages/xgboost/sklearn.py:1395: UserWarning: `use_label_encoder` is deprecated in 1.7.0.\n",
      "  warnings.warn(\"`use_label_encoder` is deprecated in 1.7.0.\")\n",
      "/home/vscode/.local/share/virtualenvs/python_api_sample_1-VfmthB3j/lib/python3.9/site-packages/xgboost/sklearn.py:1395: UserWarning: `use_label_encoder` is deprecated in 1.7.0.\n",
      "  warnings.warn(\"`use_label_encoder` is deprecated in 1.7.0.\")\n",
      "/home/vscode/.local/share/virtualenvs/python_api_sample_1-VfmthB3j/lib/python3.9/site-packages/xgboost/sklearn.py:1395: UserWarning: `use_label_encoder` is deprecated in 1.7.0.\n",
      "  warnings.warn(\"`use_label_encoder` is deprecated in 1.7.0.\")\n",
      "/home/vscode/.local/share/virtualenvs/python_api_sample_1-VfmthB3j/lib/python3.9/site-packages/xgboost/sklearn.py:1395: UserWarning: `use_label_encoder` is deprecated in 1.7.0.\n",
      "  warnings.warn(\"`use_label_encoder` is deprecated in 1.7.0.\")\n",
      "/home/vscode/.local/share/virtualenvs/python_api_sample_1-VfmthB3j/lib/python3.9/site-packages/xgboost/sklearn.py:1395: UserWarning: `use_label_encoder` is deprecated in 1.7.0.\n",
      "  warnings.warn(\"`use_label_encoder` is deprecated in 1.7.0.\")\n",
      "/home/vscode/.local/share/virtualenvs/python_api_sample_1-VfmthB3j/lib/python3.9/site-packages/xgboost/sklearn.py:1395: UserWarning: `use_label_encoder` is deprecated in 1.7.0.\n",
      "  warnings.warn(\"`use_label_encoder` is deprecated in 1.7.0.\")\n",
      "/home/vscode/.local/share/virtualenvs/python_api_sample_1-VfmthB3j/lib/python3.9/site-packages/xgboost/sklearn.py:1395: UserWarning: `use_label_encoder` is deprecated in 1.7.0.\n",
      "  warnings.warn(\"`use_label_encoder` is deprecated in 1.7.0.\")\n"
     ]
    },
    {
     "name": "stdout",
     "output_type": "stream",
     "text": [
      "[flaml.automl.automl: 01-16 08:06:44] {3507} INFO -  at 128.4s,\testimator xgb_limitdepth's best error=0.3648,\tbest estimator extra_tree's best error=0.3092\n",
      "[flaml.automl.automl: 01-16 08:06:44] {3322} INFO - iteration 216, current learner extra_tree\n",
      "[flaml.automl.automl: 01-16 08:06:51] {3507} INFO -  at 135.1s,\testimator extra_tree's best error=0.3092,\tbest estimator extra_tree's best error=0.3092\n",
      "[flaml.automl.automl: 01-16 08:06:51] {3322} INFO - iteration 217, current learner xgb_limitdepth\n",
      "[flaml.automl.automl: 01-16 08:06:51] {3507} INFO -  at 135.3s,\testimator xgb_limitdepth's best error=0.3648,\tbest estimator extra_tree's best error=0.3092\n",
      "[flaml.automl.automl: 01-16 08:06:51] {3322} INFO - iteration 218, current learner rf\n"
     ]
    },
    {
     "name": "stderr",
     "output_type": "stream",
     "text": [
      "/home/vscode/.local/share/virtualenvs/python_api_sample_1-VfmthB3j/lib/python3.9/site-packages/xgboost/sklearn.py:1395: UserWarning: `use_label_encoder` is deprecated in 1.7.0.\n",
      "  warnings.warn(\"`use_label_encoder` is deprecated in 1.7.0.\")\n",
      "/home/vscode/.local/share/virtualenvs/python_api_sample_1-VfmthB3j/lib/python3.9/site-packages/xgboost/sklearn.py:1395: UserWarning: `use_label_encoder` is deprecated in 1.7.0.\n",
      "  warnings.warn(\"`use_label_encoder` is deprecated in 1.7.0.\")\n",
      "/home/vscode/.local/share/virtualenvs/python_api_sample_1-VfmthB3j/lib/python3.9/site-packages/xgboost/sklearn.py:1395: UserWarning: `use_label_encoder` is deprecated in 1.7.0.\n",
      "  warnings.warn(\"`use_label_encoder` is deprecated in 1.7.0.\")\n",
      "/home/vscode/.local/share/virtualenvs/python_api_sample_1-VfmthB3j/lib/python3.9/site-packages/xgboost/sklearn.py:1395: UserWarning: `use_label_encoder` is deprecated in 1.7.0.\n",
      "  warnings.warn(\"`use_label_encoder` is deprecated in 1.7.0.\")\n",
      "/home/vscode/.local/share/virtualenvs/python_api_sample_1-VfmthB3j/lib/python3.9/site-packages/xgboost/sklearn.py:1395: UserWarning: `use_label_encoder` is deprecated in 1.7.0.\n",
      "  warnings.warn(\"`use_label_encoder` is deprecated in 1.7.0.\")\n"
     ]
    },
    {
     "name": "stdout",
     "output_type": "stream",
     "text": [
      "[flaml.automl.automl: 01-16 08:06:52] {3507} INFO -  at 135.7s,\testimator rf's best error=0.3537,\tbest estimator extra_tree's best error=0.3092\n",
      "[flaml.automl.automl: 01-16 08:06:52] {3322} INFO - iteration 219, current learner rf\n",
      "[flaml.automl.automl: 01-16 08:06:52] {3507} INFO -  at 136.1s,\testimator rf's best error=0.3537,\tbest estimator extra_tree's best error=0.3092\n",
      "[flaml.automl.automl: 01-16 08:06:52] {3322} INFO - iteration 220, current learner rf\n",
      "[flaml.automl.automl: 01-16 08:06:52] {3507} INFO -  at 136.4s,\testimator rf's best error=0.3537,\tbest estimator extra_tree's best error=0.3092\n",
      "[flaml.automl.automl: 01-16 08:06:52] {3322} INFO - iteration 221, current learner extra_tree\n",
      "[flaml.automl.automl: 01-16 08:06:52] {3507} INFO -  at 136.6s,\testimator extra_tree's best error=0.3092,\tbest estimator extra_tree's best error=0.3092\n",
      "[flaml.automl.automl: 01-16 08:06:52] {3322} INFO - iteration 222, current learner rf\n",
      "[flaml.automl.automl: 01-16 08:06:53] {3507} INFO -  at 137.1s,\testimator rf's best error=0.3379,\tbest estimator extra_tree's best error=0.3092\n",
      "[flaml.automl.automl: 01-16 08:06:53] {3322} INFO - iteration 223, current learner xgb_limitdepth\n",
      "[flaml.automl.automl: 01-16 08:06:53] {3507} INFO -  at 137.2s,\testimator xgb_limitdepth's best error=0.3648,\tbest estimator extra_tree's best error=0.3092\n",
      "[flaml.automl.automl: 01-16 08:06:53] {3322} INFO - iteration 224, current learner xgb_limitdepth\n"
     ]
    },
    {
     "name": "stderr",
     "output_type": "stream",
     "text": [
      "/home/vscode/.local/share/virtualenvs/python_api_sample_1-VfmthB3j/lib/python3.9/site-packages/xgboost/sklearn.py:1395: UserWarning: `use_label_encoder` is deprecated in 1.7.0.\n",
      "  warnings.warn(\"`use_label_encoder` is deprecated in 1.7.0.\")\n",
      "/home/vscode/.local/share/virtualenvs/python_api_sample_1-VfmthB3j/lib/python3.9/site-packages/xgboost/sklearn.py:1395: UserWarning: `use_label_encoder` is deprecated in 1.7.0.\n",
      "  warnings.warn(\"`use_label_encoder` is deprecated in 1.7.0.\")\n",
      "/home/vscode/.local/share/virtualenvs/python_api_sample_1-VfmthB3j/lib/python3.9/site-packages/xgboost/sklearn.py:1395: UserWarning: `use_label_encoder` is deprecated in 1.7.0.\n",
      "  warnings.warn(\"`use_label_encoder` is deprecated in 1.7.0.\")\n",
      "/home/vscode/.local/share/virtualenvs/python_api_sample_1-VfmthB3j/lib/python3.9/site-packages/xgboost/sklearn.py:1395: UserWarning: `use_label_encoder` is deprecated in 1.7.0.\n",
      "  warnings.warn(\"`use_label_encoder` is deprecated in 1.7.0.\")\n",
      "/home/vscode/.local/share/virtualenvs/python_api_sample_1-VfmthB3j/lib/python3.9/site-packages/xgboost/sklearn.py:1395: UserWarning: `use_label_encoder` is deprecated in 1.7.0.\n",
      "  warnings.warn(\"`use_label_encoder` is deprecated in 1.7.0.\")\n",
      "/home/vscode/.local/share/virtualenvs/python_api_sample_1-VfmthB3j/lib/python3.9/site-packages/xgboost/sklearn.py:1395: UserWarning: `use_label_encoder` is deprecated in 1.7.0.\n",
      "  warnings.warn(\"`use_label_encoder` is deprecated in 1.7.0.\")\n",
      "/home/vscode/.local/share/virtualenvs/python_api_sample_1-VfmthB3j/lib/python3.9/site-packages/xgboost/sklearn.py:1395: UserWarning: `use_label_encoder` is deprecated in 1.7.0.\n",
      "  warnings.warn(\"`use_label_encoder` is deprecated in 1.7.0.\")\n",
      "/home/vscode/.local/share/virtualenvs/python_api_sample_1-VfmthB3j/lib/python3.9/site-packages/xgboost/sklearn.py:1395: UserWarning: `use_label_encoder` is deprecated in 1.7.0.\n",
      "  warnings.warn(\"`use_label_encoder` is deprecated in 1.7.0.\")\n",
      "/home/vscode/.local/share/virtualenvs/python_api_sample_1-VfmthB3j/lib/python3.9/site-packages/xgboost/sklearn.py:1395: UserWarning: `use_label_encoder` is deprecated in 1.7.0.\n",
      "  warnings.warn(\"`use_label_encoder` is deprecated in 1.7.0.\")\n",
      "/home/vscode/.local/share/virtualenvs/python_api_sample_1-VfmthB3j/lib/python3.9/site-packages/xgboost/sklearn.py:1395: UserWarning: `use_label_encoder` is deprecated in 1.7.0.\n",
      "  warnings.warn(\"`use_label_encoder` is deprecated in 1.7.0.\")\n"
     ]
    },
    {
     "name": "stdout",
     "output_type": "stream",
     "text": [
      "[flaml.automl.automl: 01-16 08:06:54] {3507} INFO -  at 137.6s,\testimator xgb_limitdepth's best error=0.3648,\tbest estimator extra_tree's best error=0.3092\n",
      "[flaml.automl.automl: 01-16 08:06:54] {3322} INFO - iteration 225, current learner rf\n",
      "[flaml.automl.automl: 01-16 08:06:54] {3507} INFO -  at 138.0s,\testimator rf's best error=0.3379,\tbest estimator extra_tree's best error=0.3092\n",
      "[flaml.automl.automl: 01-16 08:06:54] {3322} INFO - iteration 226, current learner rf\n",
      "[flaml.automl.automl: 01-16 08:06:54] {3507} INFO -  at 138.6s,\testimator rf's best error=0.3379,\tbest estimator extra_tree's best error=0.3092\n",
      "[flaml.automl.automl: 01-16 08:06:54] {3322} INFO - iteration 227, current learner extra_tree\n",
      "[flaml.automl.automl: 01-16 08:06:55] {3507} INFO -  at 138.8s,\testimator extra_tree's best error=0.3092,\tbest estimator extra_tree's best error=0.3092\n",
      "[flaml.automl.automl: 01-16 08:06:55] {3322} INFO - iteration 228, current learner rf\n",
      "[flaml.automl.automl: 01-16 08:06:55] {3507} INFO -  at 139.2s,\testimator rf's best error=0.3379,\tbest estimator extra_tree's best error=0.3092\n",
      "[flaml.automl.automl: 01-16 08:06:55] {3322} INFO - iteration 229, current learner xgb_limitdepth\n"
     ]
    },
    {
     "name": "stderr",
     "output_type": "stream",
     "text": [
      "/home/vscode/.local/share/virtualenvs/python_api_sample_1-VfmthB3j/lib/python3.9/site-packages/xgboost/sklearn.py:1395: UserWarning: `use_label_encoder` is deprecated in 1.7.0.\n",
      "  warnings.warn(\"`use_label_encoder` is deprecated in 1.7.0.\")\n",
      "/home/vscode/.local/share/virtualenvs/python_api_sample_1-VfmthB3j/lib/python3.9/site-packages/xgboost/sklearn.py:1395: UserWarning: `use_label_encoder` is deprecated in 1.7.0.\n",
      "  warnings.warn(\"`use_label_encoder` is deprecated in 1.7.0.\")\n",
      "/home/vscode/.local/share/virtualenvs/python_api_sample_1-VfmthB3j/lib/python3.9/site-packages/xgboost/sklearn.py:1395: UserWarning: `use_label_encoder` is deprecated in 1.7.0.\n",
      "  warnings.warn(\"`use_label_encoder` is deprecated in 1.7.0.\")\n",
      "/home/vscode/.local/share/virtualenvs/python_api_sample_1-VfmthB3j/lib/python3.9/site-packages/xgboost/sklearn.py:1395: UserWarning: `use_label_encoder` is deprecated in 1.7.0.\n",
      "  warnings.warn(\"`use_label_encoder` is deprecated in 1.7.0.\")\n",
      "/home/vscode/.local/share/virtualenvs/python_api_sample_1-VfmthB3j/lib/python3.9/site-packages/xgboost/sklearn.py:1395: UserWarning: `use_label_encoder` is deprecated in 1.7.0.\n",
      "  warnings.warn(\"`use_label_encoder` is deprecated in 1.7.0.\")\n"
     ]
    },
    {
     "name": "stdout",
     "output_type": "stream",
     "text": [
      "[flaml.automl.automl: 01-16 08:06:55] {3507} INFO -  at 139.5s,\testimator xgb_limitdepth's best error=0.3648,\tbest estimator extra_tree's best error=0.3092\n",
      "[flaml.automl.automl: 01-16 08:06:55] {3322} INFO - iteration 230, current learner extra_tree\n",
      "[flaml.automl.automl: 01-16 08:07:02] {3507} INFO -  at 146.3s,\testimator extra_tree's best error=0.3092,\tbest estimator extra_tree's best error=0.3092\n",
      "[flaml.automl.automl: 01-16 08:07:02] {3322} INFO - iteration 231, current learner xgb_limitdepth\n"
     ]
    },
    {
     "name": "stderr",
     "output_type": "stream",
     "text": [
      "/home/vscode/.local/share/virtualenvs/python_api_sample_1-VfmthB3j/lib/python3.9/site-packages/xgboost/sklearn.py:1395: UserWarning: `use_label_encoder` is deprecated in 1.7.0.\n",
      "  warnings.warn(\"`use_label_encoder` is deprecated in 1.7.0.\")\n",
      "/home/vscode/.local/share/virtualenvs/python_api_sample_1-VfmthB3j/lib/python3.9/site-packages/xgboost/sklearn.py:1395: UserWarning: `use_label_encoder` is deprecated in 1.7.0.\n",
      "  warnings.warn(\"`use_label_encoder` is deprecated in 1.7.0.\")\n",
      "/home/vscode/.local/share/virtualenvs/python_api_sample_1-VfmthB3j/lib/python3.9/site-packages/xgboost/sklearn.py:1395: UserWarning: `use_label_encoder` is deprecated in 1.7.0.\n",
      "  warnings.warn(\"`use_label_encoder` is deprecated in 1.7.0.\")\n",
      "/home/vscode/.local/share/virtualenvs/python_api_sample_1-VfmthB3j/lib/python3.9/site-packages/xgboost/sklearn.py:1395: UserWarning: `use_label_encoder` is deprecated in 1.7.0.\n",
      "  warnings.warn(\"`use_label_encoder` is deprecated in 1.7.0.\")\n",
      "/home/vscode/.local/share/virtualenvs/python_api_sample_1-VfmthB3j/lib/python3.9/site-packages/xgboost/sklearn.py:1395: UserWarning: `use_label_encoder` is deprecated in 1.7.0.\n",
      "  warnings.warn(\"`use_label_encoder` is deprecated in 1.7.0.\")\n"
     ]
    },
    {
     "name": "stdout",
     "output_type": "stream",
     "text": [
      "[flaml.automl.automl: 01-16 08:07:02] {3507} INFO -  at 146.5s,\testimator xgb_limitdepth's best error=0.3648,\tbest estimator extra_tree's best error=0.3092\n",
      "[flaml.automl.automl: 01-16 08:07:02] {3322} INFO - iteration 232, current learner extra_tree\n",
      "[flaml.automl.automl: 01-16 08:07:09] {3507} INFO -  at 153.2s,\testimator extra_tree's best error=0.3092,\tbest estimator extra_tree's best error=0.3092\n",
      "[flaml.automl.automl: 01-16 08:07:09] {3322} INFO - iteration 233, current learner xgb_limitdepth\n",
      "[flaml.automl.automl: 01-16 08:07:09] {3507} INFO -  at 153.4s,\testimator xgb_limitdepth's best error=0.3648,\tbest estimator extra_tree's best error=0.3092\n",
      "[flaml.automl.automl: 01-16 08:07:09] {3322} INFO - iteration 234, current learner xgb_limitdepth\n"
     ]
    },
    {
     "name": "stderr",
     "output_type": "stream",
     "text": [
      "/home/vscode/.local/share/virtualenvs/python_api_sample_1-VfmthB3j/lib/python3.9/site-packages/xgboost/sklearn.py:1395: UserWarning: `use_label_encoder` is deprecated in 1.7.0.\n",
      "  warnings.warn(\"`use_label_encoder` is deprecated in 1.7.0.\")\n",
      "/home/vscode/.local/share/virtualenvs/python_api_sample_1-VfmthB3j/lib/python3.9/site-packages/xgboost/sklearn.py:1395: UserWarning: `use_label_encoder` is deprecated in 1.7.0.\n",
      "  warnings.warn(\"`use_label_encoder` is deprecated in 1.7.0.\")\n",
      "/home/vscode/.local/share/virtualenvs/python_api_sample_1-VfmthB3j/lib/python3.9/site-packages/xgboost/sklearn.py:1395: UserWarning: `use_label_encoder` is deprecated in 1.7.0.\n",
      "  warnings.warn(\"`use_label_encoder` is deprecated in 1.7.0.\")\n",
      "/home/vscode/.local/share/virtualenvs/python_api_sample_1-VfmthB3j/lib/python3.9/site-packages/xgboost/sklearn.py:1395: UserWarning: `use_label_encoder` is deprecated in 1.7.0.\n",
      "  warnings.warn(\"`use_label_encoder` is deprecated in 1.7.0.\")\n",
      "/home/vscode/.local/share/virtualenvs/python_api_sample_1-VfmthB3j/lib/python3.9/site-packages/xgboost/sklearn.py:1395: UserWarning: `use_label_encoder` is deprecated in 1.7.0.\n",
      "  warnings.warn(\"`use_label_encoder` is deprecated in 1.7.0.\")\n",
      "/home/vscode/.local/share/virtualenvs/python_api_sample_1-VfmthB3j/lib/python3.9/site-packages/xgboost/sklearn.py:1395: UserWarning: `use_label_encoder` is deprecated in 1.7.0.\n",
      "  warnings.warn(\"`use_label_encoder` is deprecated in 1.7.0.\")\n"
     ]
    },
    {
     "name": "stdout",
     "output_type": "stream",
     "text": [
      "[flaml.automl.automl: 01-16 08:07:10] {3507} INFO -  at 153.6s,\testimator xgb_limitdepth's best error=0.3648,\tbest estimator extra_tree's best error=0.3092\n",
      "[flaml.automl.automl: 01-16 08:07:10] {3322} INFO - iteration 235, current learner xgb_limitdepth\n"
     ]
    },
    {
     "name": "stderr",
     "output_type": "stream",
     "text": [
      "/home/vscode/.local/share/virtualenvs/python_api_sample_1-VfmthB3j/lib/python3.9/site-packages/xgboost/sklearn.py:1395: UserWarning: `use_label_encoder` is deprecated in 1.7.0.\n",
      "  warnings.warn(\"`use_label_encoder` is deprecated in 1.7.0.\")\n",
      "/home/vscode/.local/share/virtualenvs/python_api_sample_1-VfmthB3j/lib/python3.9/site-packages/xgboost/sklearn.py:1395: UserWarning: `use_label_encoder` is deprecated in 1.7.0.\n",
      "  warnings.warn(\"`use_label_encoder` is deprecated in 1.7.0.\")\n",
      "/home/vscode/.local/share/virtualenvs/python_api_sample_1-VfmthB3j/lib/python3.9/site-packages/xgboost/sklearn.py:1395: UserWarning: `use_label_encoder` is deprecated in 1.7.0.\n",
      "  warnings.warn(\"`use_label_encoder` is deprecated in 1.7.0.\")\n",
      "/home/vscode/.local/share/virtualenvs/python_api_sample_1-VfmthB3j/lib/python3.9/site-packages/xgboost/sklearn.py:1395: UserWarning: `use_label_encoder` is deprecated in 1.7.0.\n",
      "  warnings.warn(\"`use_label_encoder` is deprecated in 1.7.0.\")\n",
      "/home/vscode/.local/share/virtualenvs/python_api_sample_1-VfmthB3j/lib/python3.9/site-packages/xgboost/sklearn.py:1395: UserWarning: `use_label_encoder` is deprecated in 1.7.0.\n",
      "  warnings.warn(\"`use_label_encoder` is deprecated in 1.7.0.\")\n"
     ]
    },
    {
     "name": "stdout",
     "output_type": "stream",
     "text": [
      "[flaml.automl.automl: 01-16 08:07:10] {3507} INFO -  at 153.8s,\testimator xgb_limitdepth's best error=0.3648,\tbest estimator extra_tree's best error=0.3092\n",
      "[flaml.automl.automl: 01-16 08:07:10] {3322} INFO - iteration 236, current learner extra_tree\n"
     ]
    },
    {
     "name": "stderr",
     "output_type": "stream",
     "text": [
      "/home/vscode/.local/share/virtualenvs/python_api_sample_1-VfmthB3j/lib/python3.9/site-packages/xgboost/sklearn.py:1395: UserWarning: `use_label_encoder` is deprecated in 1.7.0.\n",
      "  warnings.warn(\"`use_label_encoder` is deprecated in 1.7.0.\")\n",
      "/home/vscode/.local/share/virtualenvs/python_api_sample_1-VfmthB3j/lib/python3.9/site-packages/xgboost/sklearn.py:1395: UserWarning: `use_label_encoder` is deprecated in 1.7.0.\n",
      "  warnings.warn(\"`use_label_encoder` is deprecated in 1.7.0.\")\n",
      "/home/vscode/.local/share/virtualenvs/python_api_sample_1-VfmthB3j/lib/python3.9/site-packages/xgboost/sklearn.py:1395: UserWarning: `use_label_encoder` is deprecated in 1.7.0.\n",
      "  warnings.warn(\"`use_label_encoder` is deprecated in 1.7.0.\")\n",
      "/home/vscode/.local/share/virtualenvs/python_api_sample_1-VfmthB3j/lib/python3.9/site-packages/xgboost/sklearn.py:1395: UserWarning: `use_label_encoder` is deprecated in 1.7.0.\n",
      "  warnings.warn(\"`use_label_encoder` is deprecated in 1.7.0.\")\n"
     ]
    },
    {
     "name": "stdout",
     "output_type": "stream",
     "text": [
      "[flaml.automl.automl: 01-16 08:07:10] {3507} INFO -  at 154.3s,\testimator extra_tree's best error=0.3092,\tbest estimator extra_tree's best error=0.3092\n",
      "[flaml.automl.automl: 01-16 08:07:10] {3322} INFO - iteration 237, current learner extra_tree\n",
      "[flaml.automl.automl: 01-16 08:07:16] {3507} INFO -  at 160.6s,\testimator extra_tree's best error=0.3092,\tbest estimator extra_tree's best error=0.3092\n",
      "[flaml.automl.automl: 01-16 08:07:16] {3322} INFO - iteration 238, current learner xgb_limitdepth\n"
     ]
    },
    {
     "name": "stderr",
     "output_type": "stream",
     "text": [
      "/home/vscode/.local/share/virtualenvs/python_api_sample_1-VfmthB3j/lib/python3.9/site-packages/xgboost/sklearn.py:1395: UserWarning: `use_label_encoder` is deprecated in 1.7.0.\n",
      "  warnings.warn(\"`use_label_encoder` is deprecated in 1.7.0.\")\n",
      "/home/vscode/.local/share/virtualenvs/python_api_sample_1-VfmthB3j/lib/python3.9/site-packages/xgboost/sklearn.py:1395: UserWarning: `use_label_encoder` is deprecated in 1.7.0.\n",
      "  warnings.warn(\"`use_label_encoder` is deprecated in 1.7.0.\")\n",
      "/home/vscode/.local/share/virtualenvs/python_api_sample_1-VfmthB3j/lib/python3.9/site-packages/xgboost/sklearn.py:1395: UserWarning: `use_label_encoder` is deprecated in 1.7.0.\n",
      "  warnings.warn(\"`use_label_encoder` is deprecated in 1.7.0.\")\n",
      "/home/vscode/.local/share/virtualenvs/python_api_sample_1-VfmthB3j/lib/python3.9/site-packages/xgboost/sklearn.py:1395: UserWarning: `use_label_encoder` is deprecated in 1.7.0.\n",
      "  warnings.warn(\"`use_label_encoder` is deprecated in 1.7.0.\")\n"
     ]
    },
    {
     "name": "stdout",
     "output_type": "stream",
     "text": [
      "[flaml.automl.automl: 01-16 08:07:17] {3507} INFO -  at 160.9s,\testimator xgb_limitdepth's best error=0.3648,\tbest estimator extra_tree's best error=0.3092\n",
      "[flaml.automl.automl: 01-16 08:07:17] {3322} INFO - iteration 239, current learner rf\n"
     ]
    },
    {
     "name": "stderr",
     "output_type": "stream",
     "text": [
      "/home/vscode/.local/share/virtualenvs/python_api_sample_1-VfmthB3j/lib/python3.9/site-packages/xgboost/sklearn.py:1395: UserWarning: `use_label_encoder` is deprecated in 1.7.0.\n",
      "  warnings.warn(\"`use_label_encoder` is deprecated in 1.7.0.\")\n"
     ]
    },
    {
     "name": "stdout",
     "output_type": "stream",
     "text": [
      "[flaml.automl.automl: 01-16 08:07:17] {3507} INFO -  at 161.4s,\testimator rf's best error=0.3379,\tbest estimator extra_tree's best error=0.3092\n",
      "[flaml.automl.automl: 01-16 08:07:17] {3322} INFO - iteration 240, current learner extra_tree\n",
      "[flaml.automl.automl: 01-16 08:07:18] {3507} INFO -  at 162.1s,\testimator extra_tree's best error=0.3092,\tbest estimator extra_tree's best error=0.3092\n",
      "[flaml.automl.automl: 01-16 08:07:18] {3322} INFO - iteration 241, current learner extra_tree\n",
      "[flaml.automl.automl: 01-16 08:07:18] {3507} INFO -  at 162.5s,\testimator extra_tree's best error=0.3092,\tbest estimator extra_tree's best error=0.3092\n",
      "[flaml.automl.automl: 01-16 08:07:18] {3322} INFO - iteration 242, current learner rf\n",
      "[flaml.automl.automl: 01-16 08:07:19] {3507} INFO -  at 163.0s,\testimator rf's best error=0.3379,\tbest estimator extra_tree's best error=0.3092\n",
      "[flaml.automl.automl: 01-16 08:07:19] {3322} INFO - iteration 243, current learner extra_tree\n",
      "[flaml.automl.automl: 01-16 08:07:26] {3507} INFO -  at 169.6s,\testimator extra_tree's best error=0.3092,\tbest estimator extra_tree's best error=0.3092\n",
      "[flaml.automl.automl: 01-16 08:07:26] {3322} INFO - iteration 244, current learner extra_tree\n",
      "[flaml.automl.automl: 01-16 08:07:26] {3507} INFO -  at 169.9s,\testimator extra_tree's best error=0.3092,\tbest estimator extra_tree's best error=0.3092\n",
      "[flaml.automl.automl: 01-16 08:07:26] {3322} INFO - iteration 245, current learner xgb_limitdepth\n"
     ]
    },
    {
     "name": "stderr",
     "output_type": "stream",
     "text": [
      "/home/vscode/.local/share/virtualenvs/python_api_sample_1-VfmthB3j/lib/python3.9/site-packages/xgboost/sklearn.py:1395: UserWarning: `use_label_encoder` is deprecated in 1.7.0.\n",
      "  warnings.warn(\"`use_label_encoder` is deprecated in 1.7.0.\")\n",
      "/home/vscode/.local/share/virtualenvs/python_api_sample_1-VfmthB3j/lib/python3.9/site-packages/xgboost/sklearn.py:1395: UserWarning: `use_label_encoder` is deprecated in 1.7.0.\n",
      "  warnings.warn(\"`use_label_encoder` is deprecated in 1.7.0.\")\n",
      "/home/vscode/.local/share/virtualenvs/python_api_sample_1-VfmthB3j/lib/python3.9/site-packages/xgboost/sklearn.py:1395: UserWarning: `use_label_encoder` is deprecated in 1.7.0.\n",
      "  warnings.warn(\"`use_label_encoder` is deprecated in 1.7.0.\")\n",
      "/home/vscode/.local/share/virtualenvs/python_api_sample_1-VfmthB3j/lib/python3.9/site-packages/xgboost/sklearn.py:1395: UserWarning: `use_label_encoder` is deprecated in 1.7.0.\n",
      "  warnings.warn(\"`use_label_encoder` is deprecated in 1.7.0.\")\n"
     ]
    },
    {
     "name": "stdout",
     "output_type": "stream",
     "text": [
      "[flaml.automl.automl: 01-16 08:07:26] {3507} INFO -  at 170.2s,\testimator xgb_limitdepth's best error=0.3635,\tbest estimator extra_tree's best error=0.3092\n",
      "[flaml.automl.automl: 01-16 08:07:26] {3322} INFO - iteration 246, current learner rf\n"
     ]
    },
    {
     "name": "stderr",
     "output_type": "stream",
     "text": [
      "/home/vscode/.local/share/virtualenvs/python_api_sample_1-VfmthB3j/lib/python3.9/site-packages/xgboost/sklearn.py:1395: UserWarning: `use_label_encoder` is deprecated in 1.7.0.\n",
      "  warnings.warn(\"`use_label_encoder` is deprecated in 1.7.0.\")\n"
     ]
    },
    {
     "name": "stdout",
     "output_type": "stream",
     "text": [
      "[flaml.automl.automl: 01-16 08:07:27] {3507} INFO -  at 170.7s,\testimator rf's best error=0.3379,\tbest estimator extra_tree's best error=0.3092\n",
      "[flaml.automl.automl: 01-16 08:07:27] {3322} INFO - iteration 247, current learner extra_tree\n",
      "[flaml.automl.automl: 01-16 08:07:27] {3507} INFO -  at 171.1s,\testimator extra_tree's best error=0.3092,\tbest estimator extra_tree's best error=0.3092\n",
      "[flaml.automl.automl: 01-16 08:07:27] {3322} INFO - iteration 248, current learner extra_tree\n",
      "[flaml.automl.automl: 01-16 08:07:27] {3507} INFO -  at 171.3s,\testimator extra_tree's best error=0.3092,\tbest estimator extra_tree's best error=0.3092\n",
      "[flaml.automl.automl: 01-16 08:07:27] {3322} INFO - iteration 249, current learner rf\n",
      "[flaml.automl.automl: 01-16 08:07:28] {3507} INFO -  at 171.8s,\testimator rf's best error=0.3379,\tbest estimator extra_tree's best error=0.3092\n",
      "[flaml.automl.automl: 01-16 08:07:28] {3322} INFO - iteration 250, current learner extra_tree\n",
      "[flaml.automl.automl: 01-16 08:07:29] {3507} INFO -  at 172.7s,\testimator extra_tree's best error=0.3092,\tbest estimator extra_tree's best error=0.3092\n",
      "[flaml.automl.automl: 01-16 08:07:29] {3322} INFO - iteration 251, current learner extra_tree\n",
      "[flaml.automl.automl: 01-16 08:07:35] {3507} INFO -  at 178.8s,\testimator extra_tree's best error=0.3092,\tbest estimator extra_tree's best error=0.3092\n",
      "[flaml.automl.automl: 01-16 08:07:35] {3322} INFO - iteration 252, current learner rf\n",
      "[flaml.automl.automl: 01-16 08:07:35] {3507} INFO -  at 179.4s,\testimator rf's best error=0.3379,\tbest estimator extra_tree's best error=0.3092\n",
      "[flaml.automl.automl: 01-16 08:07:35] {3322} INFO - iteration 253, current learner rf\n",
      "[flaml.automl.automl: 01-16 08:07:36] {3507} INFO -  at 179.7s,\testimator rf's best error=0.3379,\tbest estimator extra_tree's best error=0.3092\n",
      "[flaml.automl.automl: 01-16 08:07:36] {3322} INFO - iteration 254, current learner extra_tree\n",
      "[flaml.automl.automl: 01-16 08:07:41] {3507} INFO -  at 185.5s,\testimator extra_tree's best error=0.3092,\tbest estimator extra_tree's best error=0.3092\n",
      "[flaml.automl.automl: 01-16 08:07:41] {3322} INFO - iteration 255, current learner extra_tree\n",
      "[flaml.automl.automl: 01-16 08:07:42] {3507} INFO -  at 185.8s,\testimator extra_tree's best error=0.3092,\tbest estimator extra_tree's best error=0.3092\n",
      "[flaml.automl.automl: 01-16 08:07:42] {3322} INFO - iteration 256, current learner lgbm\n",
      "[flaml.automl.automl: 01-16 08:07:42] {3507} INFO -  at 186.4s,\testimator lgbm's best error=0.3542,\tbest estimator extra_tree's best error=0.3092\n",
      "[flaml.automl.automl: 01-16 08:07:42] {3322} INFO - iteration 257, current learner xgb_limitdepth\n"
     ]
    },
    {
     "name": "stderr",
     "output_type": "stream",
     "text": [
      "/home/vscode/.local/share/virtualenvs/python_api_sample_1-VfmthB3j/lib/python3.9/site-packages/xgboost/sklearn.py:1395: UserWarning: `use_label_encoder` is deprecated in 1.7.0.\n",
      "  warnings.warn(\"`use_label_encoder` is deprecated in 1.7.0.\")\n",
      "/home/vscode/.local/share/virtualenvs/python_api_sample_1-VfmthB3j/lib/python3.9/site-packages/xgboost/sklearn.py:1395: UserWarning: `use_label_encoder` is deprecated in 1.7.0.\n",
      "  warnings.warn(\"`use_label_encoder` is deprecated in 1.7.0.\")\n",
      "/home/vscode/.local/share/virtualenvs/python_api_sample_1-VfmthB3j/lib/python3.9/site-packages/xgboost/sklearn.py:1395: UserWarning: `use_label_encoder` is deprecated in 1.7.0.\n",
      "  warnings.warn(\"`use_label_encoder` is deprecated in 1.7.0.\")\n",
      "/home/vscode/.local/share/virtualenvs/python_api_sample_1-VfmthB3j/lib/python3.9/site-packages/xgboost/sklearn.py:1395: UserWarning: `use_label_encoder` is deprecated in 1.7.0.\n",
      "  warnings.warn(\"`use_label_encoder` is deprecated in 1.7.0.\")\n",
      "/home/vscode/.local/share/virtualenvs/python_api_sample_1-VfmthB3j/lib/python3.9/site-packages/xgboost/sklearn.py:1395: UserWarning: `use_label_encoder` is deprecated in 1.7.0.\n",
      "  warnings.warn(\"`use_label_encoder` is deprecated in 1.7.0.\")\n"
     ]
    },
    {
     "name": "stdout",
     "output_type": "stream",
     "text": [
      "[flaml.automl.automl: 01-16 08:07:43] {3507} INFO -  at 186.7s,\testimator xgb_limitdepth's best error=0.3635,\tbest estimator extra_tree's best error=0.3092\n",
      "[flaml.automl.automl: 01-16 08:07:43] {3322} INFO - iteration 258, current learner rf\n",
      "[flaml.automl.automl: 01-16 08:07:43] {3507} INFO -  at 187.3s,\testimator rf's best error=0.3379,\tbest estimator extra_tree's best error=0.3092\n",
      "[flaml.automl.automl: 01-16 08:07:43] {3322} INFO - iteration 259, current learner xgb_limitdepth\n"
     ]
    },
    {
     "name": "stderr",
     "output_type": "stream",
     "text": [
      "/home/vscode/.local/share/virtualenvs/python_api_sample_1-VfmthB3j/lib/python3.9/site-packages/xgboost/sklearn.py:1395: UserWarning: `use_label_encoder` is deprecated in 1.7.0.\n",
      "  warnings.warn(\"`use_label_encoder` is deprecated in 1.7.0.\")\n",
      "/home/vscode/.local/share/virtualenvs/python_api_sample_1-VfmthB3j/lib/python3.9/site-packages/xgboost/sklearn.py:1395: UserWarning: `use_label_encoder` is deprecated in 1.7.0.\n",
      "  warnings.warn(\"`use_label_encoder` is deprecated in 1.7.0.\")\n",
      "/home/vscode/.local/share/virtualenvs/python_api_sample_1-VfmthB3j/lib/python3.9/site-packages/xgboost/sklearn.py:1395: UserWarning: `use_label_encoder` is deprecated in 1.7.0.\n",
      "  warnings.warn(\"`use_label_encoder` is deprecated in 1.7.0.\")\n",
      "/home/vscode/.local/share/virtualenvs/python_api_sample_1-VfmthB3j/lib/python3.9/site-packages/xgboost/sklearn.py:1395: UserWarning: `use_label_encoder` is deprecated in 1.7.0.\n",
      "  warnings.warn(\"`use_label_encoder` is deprecated in 1.7.0.\")\n"
     ]
    },
    {
     "name": "stdout",
     "output_type": "stream",
     "text": [
      "[flaml.automl.automl: 01-16 08:07:44] {3507} INFO -  at 187.7s,\testimator xgb_limitdepth's best error=0.3635,\tbest estimator extra_tree's best error=0.3092\n",
      "[flaml.automl.automl: 01-16 08:07:44] {3322} INFO - iteration 260, current learner extra_tree\n"
     ]
    },
    {
     "name": "stderr",
     "output_type": "stream",
     "text": [
      "/home/vscode/.local/share/virtualenvs/python_api_sample_1-VfmthB3j/lib/python3.9/site-packages/xgboost/sklearn.py:1395: UserWarning: `use_label_encoder` is deprecated in 1.7.0.\n",
      "  warnings.warn(\"`use_label_encoder` is deprecated in 1.7.0.\")\n"
     ]
    },
    {
     "name": "stdout",
     "output_type": "stream",
     "text": [
      "[flaml.automl.automl: 01-16 08:07:50] {3507} INFO -  at 194.0s,\testimator extra_tree's best error=0.3092,\tbest estimator extra_tree's best error=0.3092\n",
      "[flaml.automl.automl: 01-16 08:07:50] {3322} INFO - iteration 261, current learner extra_tree\n",
      "[flaml.automl.automl: 01-16 08:07:51] {3507} INFO -  at 195.3s,\testimator extra_tree's best error=0.3092,\tbest estimator extra_tree's best error=0.3092\n",
      "[flaml.automl.automl: 01-16 08:07:51] {3322} INFO - iteration 262, current learner extra_tree\n",
      "[flaml.automl.automl: 01-16 08:07:58] {3507} INFO -  at 201.6s,\testimator extra_tree's best error=0.3092,\tbest estimator extra_tree's best error=0.3092\n",
      "[flaml.automl.automl: 01-16 08:07:58] {3322} INFO - iteration 263, current learner extra_tree\n",
      "[flaml.automl.automl: 01-16 08:07:58] {3507} INFO -  at 201.9s,\testimator extra_tree's best error=0.3092,\tbest estimator extra_tree's best error=0.3092\n",
      "[flaml.automl.automl: 01-16 08:07:58] {3322} INFO - iteration 264, current learner rf\n",
      "[flaml.automl.automl: 01-16 08:07:58] {3507} INFO -  at 202.3s,\testimator rf's best error=0.3379,\tbest estimator extra_tree's best error=0.3092\n",
      "[flaml.automl.automl: 01-16 08:07:58] {3322} INFO - iteration 265, current learner xgboost\n"
     ]
    },
    {
     "name": "stderr",
     "output_type": "stream",
     "text": [
      "/home/vscode/.local/share/virtualenvs/python_api_sample_1-VfmthB3j/lib/python3.9/site-packages/xgboost/sklearn.py:1395: UserWarning: `use_label_encoder` is deprecated in 1.7.0.\n",
      "  warnings.warn(\"`use_label_encoder` is deprecated in 1.7.0.\")\n",
      "/home/vscode/.local/share/virtualenvs/python_api_sample_1-VfmthB3j/lib/python3.9/site-packages/xgboost/sklearn.py:1395: UserWarning: `use_label_encoder` is deprecated in 1.7.0.\n",
      "  warnings.warn(\"`use_label_encoder` is deprecated in 1.7.0.\")\n",
      "/home/vscode/.local/share/virtualenvs/python_api_sample_1-VfmthB3j/lib/python3.9/site-packages/xgboost/sklearn.py:1395: UserWarning: `use_label_encoder` is deprecated in 1.7.0.\n",
      "  warnings.warn(\"`use_label_encoder` is deprecated in 1.7.0.\")\n",
      "/home/vscode/.local/share/virtualenvs/python_api_sample_1-VfmthB3j/lib/python3.9/site-packages/xgboost/sklearn.py:1395: UserWarning: `use_label_encoder` is deprecated in 1.7.0.\n",
      "  warnings.warn(\"`use_label_encoder` is deprecated in 1.7.0.\")\n"
     ]
    },
    {
     "name": "stdout",
     "output_type": "stream",
     "text": [
      "[flaml.automl.automl: 01-16 08:07:59] {3507} INFO -  at 203.0s,\testimator xgboost's best error=0.3590,\tbest estimator extra_tree's best error=0.3092\n",
      "[flaml.automl.automl: 01-16 08:07:59] {3322} INFO - iteration 266, current learner extra_tree\n"
     ]
    },
    {
     "name": "stderr",
     "output_type": "stream",
     "text": [
      "/home/vscode/.local/share/virtualenvs/python_api_sample_1-VfmthB3j/lib/python3.9/site-packages/xgboost/sklearn.py:1395: UserWarning: `use_label_encoder` is deprecated in 1.7.0.\n",
      "  warnings.warn(\"`use_label_encoder` is deprecated in 1.7.0.\")\n"
     ]
    },
    {
     "name": "stdout",
     "output_type": "stream",
     "text": [
      "[flaml.automl.automl: 01-16 08:08:05] {3507} INFO -  at 209.4s,\testimator extra_tree's best error=0.3092,\tbest estimator extra_tree's best error=0.3092\n",
      "[flaml.automl.automl: 01-16 08:08:05] {3322} INFO - iteration 267, current learner extra_tree\n",
      "[flaml.automl.automl: 01-16 08:08:06] {3507} INFO -  at 210.5s,\testimator extra_tree's best error=0.3092,\tbest estimator extra_tree's best error=0.3092\n",
      "[flaml.automl.automl: 01-16 08:08:06] {3322} INFO - iteration 268, current learner extra_tree\n",
      "[flaml.automl.automl: 01-16 08:08:13] {3507} INFO -  at 217.0s,\testimator extra_tree's best error=0.3092,\tbest estimator extra_tree's best error=0.3092\n",
      "[flaml.automl.automl: 01-16 08:08:13] {3322} INFO - iteration 269, current learner extra_tree\n",
      "[flaml.automl.automl: 01-16 08:08:13] {3507} INFO -  at 217.4s,\testimator extra_tree's best error=0.3092,\tbest estimator extra_tree's best error=0.3092\n",
      "[flaml.automl.automl: 01-16 08:08:13] {3322} INFO - iteration 270, current learner extra_tree\n",
      "[flaml.automl.automl: 01-16 08:08:21] {3507} INFO -  at 225.1s,\testimator extra_tree's best error=0.3092,\tbest estimator extra_tree's best error=0.3092\n",
      "[flaml.automl.automl: 01-16 08:08:21] {3322} INFO - iteration 271, current learner rf\n",
      "[flaml.automl.automl: 01-16 08:08:21] {3507} INFO -  at 225.5s,\testimator rf's best error=0.3379,\tbest estimator extra_tree's best error=0.3092\n",
      "[flaml.automl.automl: 01-16 08:08:21] {3322} INFO - iteration 272, current learner extra_tree\n",
      "[flaml.automl.automl: 01-16 08:08:24] {3507} INFO -  at 228.1s,\testimator extra_tree's best error=0.3092,\tbest estimator extra_tree's best error=0.3092\n",
      "[flaml.automl.automl: 01-16 08:08:24] {3322} INFO - iteration 273, current learner rf\n",
      "[flaml.automl.automl: 01-16 08:08:25] {3507} INFO -  at 228.7s,\testimator rf's best error=0.3379,\tbest estimator extra_tree's best error=0.3092\n",
      "[flaml.automl.automl: 01-16 08:08:25] {3322} INFO - iteration 274, current learner rf\n",
      "[flaml.automl.automl: 01-16 08:08:25] {3507} INFO -  at 229.1s,\testimator rf's best error=0.3379,\tbest estimator extra_tree's best error=0.3092\n",
      "[flaml.automl.automl: 01-16 08:08:25] {3322} INFO - iteration 275, current learner rf\n",
      "[flaml.automl.automl: 01-16 08:08:26] {3507} INFO -  at 229.7s,\testimator rf's best error=0.3367,\tbest estimator extra_tree's best error=0.3092\n",
      "[flaml.automl.automl: 01-16 08:08:26] {3322} INFO - iteration 276, current learner extra_tree\n",
      "[flaml.automl.automl: 01-16 08:08:32] {3507} INFO -  at 236.4s,\testimator extra_tree's best error=0.3092,\tbest estimator extra_tree's best error=0.3092\n",
      "[flaml.automl.automl: 01-16 08:08:32] {3322} INFO - iteration 277, current learner extra_tree\n",
      "[flaml.automl.automl: 01-16 08:08:33] {3507} INFO -  at 236.8s,\testimator extra_tree's best error=0.3092,\tbest estimator extra_tree's best error=0.3092\n",
      "[flaml.automl.automl: 01-16 08:08:33] {3322} INFO - iteration 278, current learner extra_tree\n",
      "[flaml.automl.automl: 01-16 08:08:39] {3507} INFO -  at 243.5s,\testimator extra_tree's best error=0.3092,\tbest estimator extra_tree's best error=0.3092\n",
      "[flaml.automl.automl: 01-16 08:08:39] {3322} INFO - iteration 279, current learner extra_tree\n",
      "[flaml.automl.automl: 01-16 08:08:41] {3507} INFO -  at 244.8s,\testimator extra_tree's best error=0.3092,\tbest estimator extra_tree's best error=0.3092\n",
      "[flaml.automl.automl: 01-16 08:08:41] {3322} INFO - iteration 280, current learner xgb_limitdepth\n"
     ]
    },
    {
     "name": "stderr",
     "output_type": "stream",
     "text": [
      "/home/vscode/.local/share/virtualenvs/python_api_sample_1-VfmthB3j/lib/python3.9/site-packages/xgboost/sklearn.py:1395: UserWarning: `use_label_encoder` is deprecated in 1.7.0.\n",
      "  warnings.warn(\"`use_label_encoder` is deprecated in 1.7.0.\")\n",
      "/home/vscode/.local/share/virtualenvs/python_api_sample_1-VfmthB3j/lib/python3.9/site-packages/xgboost/sklearn.py:1395: UserWarning: `use_label_encoder` is deprecated in 1.7.0.\n",
      "  warnings.warn(\"`use_label_encoder` is deprecated in 1.7.0.\")\n",
      "/home/vscode/.local/share/virtualenvs/python_api_sample_1-VfmthB3j/lib/python3.9/site-packages/xgboost/sklearn.py:1395: UserWarning: `use_label_encoder` is deprecated in 1.7.0.\n",
      "  warnings.warn(\"`use_label_encoder` is deprecated in 1.7.0.\")\n",
      "/home/vscode/.local/share/virtualenvs/python_api_sample_1-VfmthB3j/lib/python3.9/site-packages/xgboost/sklearn.py:1395: UserWarning: `use_label_encoder` is deprecated in 1.7.0.\n",
      "  warnings.warn(\"`use_label_encoder` is deprecated in 1.7.0.\")\n"
     ]
    },
    {
     "name": "stdout",
     "output_type": "stream",
     "text": [
      "[flaml.automl.automl: 01-16 08:08:41] {3507} INFO -  at 245.1s,\testimator xgb_limitdepth's best error=0.3635,\tbest estimator extra_tree's best error=0.3092\n",
      "[flaml.automl.automl: 01-16 08:08:41] {3322} INFO - iteration 281, current learner extra_tree\n"
     ]
    },
    {
     "name": "stderr",
     "output_type": "stream",
     "text": [
      "/home/vscode/.local/share/virtualenvs/python_api_sample_1-VfmthB3j/lib/python3.9/site-packages/xgboost/sklearn.py:1395: UserWarning: `use_label_encoder` is deprecated in 1.7.0.\n",
      "  warnings.warn(\"`use_label_encoder` is deprecated in 1.7.0.\")\n"
     ]
    },
    {
     "name": "stdout",
     "output_type": "stream",
     "text": [
      "[flaml.automl.automl: 01-16 08:08:42] {3507} INFO -  at 245.6s,\testimator extra_tree's best error=0.3092,\tbest estimator extra_tree's best error=0.3092\n",
      "[flaml.automl.automl: 01-16 08:08:42] {3322} INFO - iteration 282, current learner rf\n",
      "[flaml.automl.automl: 01-16 08:08:42] {3507} INFO -  at 246.0s,\testimator rf's best error=0.3367,\tbest estimator extra_tree's best error=0.3092\n",
      "[flaml.automl.automl: 01-16 08:08:42] {3322} INFO - iteration 283, current learner extra_tree\n",
      "[flaml.automl.automl: 01-16 08:08:45] {3507} INFO -  at 249.3s,\testimator extra_tree's best error=0.3092,\tbest estimator extra_tree's best error=0.3092\n",
      "[flaml.automl.automl: 01-16 08:08:45] {3322} INFO - iteration 284, current learner extra_tree\n",
      "[flaml.automl.automl: 01-16 08:08:51] {3507} INFO -  at 255.4s,\testimator extra_tree's best error=0.3092,\tbest estimator extra_tree's best error=0.3092\n",
      "[flaml.automl.automl: 01-16 08:08:51] {3322} INFO - iteration 285, current learner extra_tree\n",
      "[flaml.automl.automl: 01-16 08:08:53] {3507} INFO -  at 256.6s,\testimator extra_tree's best error=0.3092,\tbest estimator extra_tree's best error=0.3092\n",
      "[flaml.automl.automl: 01-16 08:08:53] {3322} INFO - iteration 286, current learner extra_tree\n",
      "[flaml.automl.automl: 01-16 08:08:58] {3507} INFO -  at 262.1s,\testimator extra_tree's best error=0.3092,\tbest estimator extra_tree's best error=0.3092\n",
      "[flaml.automl.automl: 01-16 08:08:58] {3322} INFO - iteration 287, current learner xgb_limitdepth\n"
     ]
    },
    {
     "name": "stderr",
     "output_type": "stream",
     "text": [
      "/home/vscode/.local/share/virtualenvs/python_api_sample_1-VfmthB3j/lib/python3.9/site-packages/xgboost/sklearn.py:1395: UserWarning: `use_label_encoder` is deprecated in 1.7.0.\n",
      "  warnings.warn(\"`use_label_encoder` is deprecated in 1.7.0.\")\n",
      "/home/vscode/.local/share/virtualenvs/python_api_sample_1-VfmthB3j/lib/python3.9/site-packages/xgboost/sklearn.py:1395: UserWarning: `use_label_encoder` is deprecated in 1.7.0.\n",
      "  warnings.warn(\"`use_label_encoder` is deprecated in 1.7.0.\")\n",
      "/home/vscode/.local/share/virtualenvs/python_api_sample_1-VfmthB3j/lib/python3.9/site-packages/xgboost/sklearn.py:1395: UserWarning: `use_label_encoder` is deprecated in 1.7.0.\n",
      "  warnings.warn(\"`use_label_encoder` is deprecated in 1.7.0.\")\n"
     ]
    },
    {
     "name": "stdout",
     "output_type": "stream",
     "text": [
      "[flaml.automl.automl: 01-16 08:08:58] {3507} INFO -  at 262.6s,\testimator xgb_limitdepth's best error=0.3635,\tbest estimator extra_tree's best error=0.3092\n",
      "[flaml.automl.automl: 01-16 08:08:58] {3322} INFO - iteration 288, current learner extra_tree\n"
     ]
    },
    {
     "name": "stderr",
     "output_type": "stream",
     "text": [
      "/home/vscode/.local/share/virtualenvs/python_api_sample_1-VfmthB3j/lib/python3.9/site-packages/xgboost/sklearn.py:1395: UserWarning: `use_label_encoder` is deprecated in 1.7.0.\n",
      "  warnings.warn(\"`use_label_encoder` is deprecated in 1.7.0.\")\n",
      "/home/vscode/.local/share/virtualenvs/python_api_sample_1-VfmthB3j/lib/python3.9/site-packages/xgboost/sklearn.py:1395: UserWarning: `use_label_encoder` is deprecated in 1.7.0.\n",
      "  warnings.warn(\"`use_label_encoder` is deprecated in 1.7.0.\")\n"
     ]
    },
    {
     "name": "stdout",
     "output_type": "stream",
     "text": [
      "[flaml.automl.automl: 01-16 08:09:01] {3507} INFO -  at 265.2s,\testimator extra_tree's best error=0.3092,\tbest estimator extra_tree's best error=0.3092\n",
      "[flaml.automl.automl: 01-16 08:09:01] {3322} INFO - iteration 289, current learner xgboost\n"
     ]
    },
    {
     "name": "stderr",
     "output_type": "stream",
     "text": [
      "/home/vscode/.local/share/virtualenvs/python_api_sample_1-VfmthB3j/lib/python3.9/site-packages/xgboost/sklearn.py:1395: UserWarning: `use_label_encoder` is deprecated in 1.7.0.\n",
      "  warnings.warn(\"`use_label_encoder` is deprecated in 1.7.0.\")\n",
      "/home/vscode/.local/share/virtualenvs/python_api_sample_1-VfmthB3j/lib/python3.9/site-packages/xgboost/sklearn.py:1395: UserWarning: `use_label_encoder` is deprecated in 1.7.0.\n",
      "  warnings.warn(\"`use_label_encoder` is deprecated in 1.7.0.\")\n",
      "/home/vscode/.local/share/virtualenvs/python_api_sample_1-VfmthB3j/lib/python3.9/site-packages/xgboost/sklearn.py:1395: UserWarning: `use_label_encoder` is deprecated in 1.7.0.\n",
      "  warnings.warn(\"`use_label_encoder` is deprecated in 1.7.0.\")\n",
      "/home/vscode/.local/share/virtualenvs/python_api_sample_1-VfmthB3j/lib/python3.9/site-packages/xgboost/sklearn.py:1395: UserWarning: `use_label_encoder` is deprecated in 1.7.0.\n",
      "  warnings.warn(\"`use_label_encoder` is deprecated in 1.7.0.\")\n"
     ]
    },
    {
     "name": "stdout",
     "output_type": "stream",
     "text": [
      "[flaml.automl.automl: 01-16 08:09:01] {3507} INFO -  at 265.6s,\testimator xgboost's best error=0.3590,\tbest estimator extra_tree's best error=0.3092\n",
      "[flaml.automl.automl: 01-16 08:09:01] {3322} INFO - iteration 290, current learner xgboost\n"
     ]
    },
    {
     "name": "stderr",
     "output_type": "stream",
     "text": [
      "/home/vscode/.local/share/virtualenvs/python_api_sample_1-VfmthB3j/lib/python3.9/site-packages/xgboost/sklearn.py:1395: UserWarning: `use_label_encoder` is deprecated in 1.7.0.\n",
      "  warnings.warn(\"`use_label_encoder` is deprecated in 1.7.0.\")\n",
      "/home/vscode/.local/share/virtualenvs/python_api_sample_1-VfmthB3j/lib/python3.9/site-packages/xgboost/sklearn.py:1395: UserWarning: `use_label_encoder` is deprecated in 1.7.0.\n",
      "  warnings.warn(\"`use_label_encoder` is deprecated in 1.7.0.\")\n",
      "/home/vscode/.local/share/virtualenvs/python_api_sample_1-VfmthB3j/lib/python3.9/site-packages/xgboost/sklearn.py:1395: UserWarning: `use_label_encoder` is deprecated in 1.7.0.\n",
      "  warnings.warn(\"`use_label_encoder` is deprecated in 1.7.0.\")\n",
      "/home/vscode/.local/share/virtualenvs/python_api_sample_1-VfmthB3j/lib/python3.9/site-packages/xgboost/sklearn.py:1395: UserWarning: `use_label_encoder` is deprecated in 1.7.0.\n",
      "  warnings.warn(\"`use_label_encoder` is deprecated in 1.7.0.\")\n",
      "/home/vscode/.local/share/virtualenvs/python_api_sample_1-VfmthB3j/lib/python3.9/site-packages/xgboost/sklearn.py:1395: UserWarning: `use_label_encoder` is deprecated in 1.7.0.\n",
      "  warnings.warn(\"`use_label_encoder` is deprecated in 1.7.0.\")\n"
     ]
    },
    {
     "name": "stdout",
     "output_type": "stream",
     "text": [
      "[flaml.automl.automl: 01-16 08:09:02] {3507} INFO -  at 266.1s,\testimator xgboost's best error=0.3590,\tbest estimator extra_tree's best error=0.3092\n",
      "[flaml.automl.automl: 01-16 08:09:02] {3322} INFO - iteration 291, current learner extra_tree\n"
     ]
    },
    {
     "name": "stderr",
     "output_type": "stream",
     "text": [
      "/home/vscode/.local/share/virtualenvs/python_api_sample_1-VfmthB3j/lib/python3.9/site-packages/xgboost/sklearn.py:1395: UserWarning: `use_label_encoder` is deprecated in 1.7.0.\n",
      "  warnings.warn(\"`use_label_encoder` is deprecated in 1.7.0.\")\n"
     ]
    },
    {
     "name": "stdout",
     "output_type": "stream",
     "text": [
      "[flaml.automl.automl: 01-16 08:09:09] {3507} INFO -  at 272.7s,\testimator extra_tree's best error=0.3092,\tbest estimator extra_tree's best error=0.3092\n",
      "[flaml.automl.automl: 01-16 08:09:09] {3322} INFO - iteration 292, current learner extra_tree\n",
      "[flaml.automl.automl: 01-16 08:09:15] {3507} INFO -  at 279.5s,\testimator extra_tree's best error=0.3092,\tbest estimator extra_tree's best error=0.3092\n",
      "[flaml.automl.automl: 01-16 08:09:15] {3322} INFO - iteration 293, current learner extra_tree\n",
      "[flaml.automl.automl: 01-16 08:09:22] {3507} INFO -  at 285.8s,\testimator extra_tree's best error=0.3092,\tbest estimator extra_tree's best error=0.3092\n",
      "[flaml.automl.automl: 01-16 08:09:22] {3322} INFO - iteration 294, current learner extra_tree\n",
      "[flaml.automl.automl: 01-16 08:09:25] {3507} INFO -  at 289.6s,\testimator extra_tree's best error=0.3092,\tbest estimator extra_tree's best error=0.3092\n",
      "[flaml.automl.automl: 01-16 08:09:25] {3322} INFO - iteration 295, current learner extra_tree\n",
      "[flaml.automl.automl: 01-16 08:09:32] {3507} INFO -  at 296.3s,\testimator extra_tree's best error=0.3092,\tbest estimator extra_tree's best error=0.3092\n",
      "[flaml.automl.automl: 01-16 08:09:32] {3322} INFO - iteration 296, current learner rf\n",
      "[flaml.automl.automl: 01-16 08:09:33] {3507} INFO -  at 297.0s,\testimator rf's best error=0.3367,\tbest estimator extra_tree's best error=0.3092\n",
      "[flaml.automl.automl: 01-16 08:09:33] {3322} INFO - iteration 297, current learner xgb_limitdepth\n"
     ]
    },
    {
     "name": "stderr",
     "output_type": "stream",
     "text": [
      "/home/vscode/.local/share/virtualenvs/python_api_sample_1-VfmthB3j/lib/python3.9/site-packages/xgboost/sklearn.py:1395: UserWarning: `use_label_encoder` is deprecated in 1.7.0.\n",
      "  warnings.warn(\"`use_label_encoder` is deprecated in 1.7.0.\")\n",
      "/home/vscode/.local/share/virtualenvs/python_api_sample_1-VfmthB3j/lib/python3.9/site-packages/xgboost/sklearn.py:1395: UserWarning: `use_label_encoder` is deprecated in 1.7.0.\n",
      "  warnings.warn(\"`use_label_encoder` is deprecated in 1.7.0.\")\n",
      "/home/vscode/.local/share/virtualenvs/python_api_sample_1-VfmthB3j/lib/python3.9/site-packages/xgboost/sklearn.py:1395: UserWarning: `use_label_encoder` is deprecated in 1.7.0.\n",
      "  warnings.warn(\"`use_label_encoder` is deprecated in 1.7.0.\")\n",
      "/home/vscode/.local/share/virtualenvs/python_api_sample_1-VfmthB3j/lib/python3.9/site-packages/xgboost/sklearn.py:1395: UserWarning: `use_label_encoder` is deprecated in 1.7.0.\n",
      "  warnings.warn(\"`use_label_encoder` is deprecated in 1.7.0.\")\n"
     ]
    },
    {
     "name": "stdout",
     "output_type": "stream",
     "text": [
      "[flaml.automl.automl: 01-16 08:09:33] {3507} INFO -  at 297.3s,\testimator xgb_limitdepth's best error=0.3635,\tbest estimator extra_tree's best error=0.3092\n",
      "[flaml.automl.automl: 01-16 08:09:33] {3322} INFO - iteration 298, current learner rf\n"
     ]
    },
    {
     "name": "stderr",
     "output_type": "stream",
     "text": [
      "/home/vscode/.local/share/virtualenvs/python_api_sample_1-VfmthB3j/lib/python3.9/site-packages/xgboost/sklearn.py:1395: UserWarning: `use_label_encoder` is deprecated in 1.7.0.\n",
      "  warnings.warn(\"`use_label_encoder` is deprecated in 1.7.0.\")\n"
     ]
    },
    {
     "name": "stdout",
     "output_type": "stream",
     "text": [
      "[flaml.automl.automl: 01-16 08:09:34] {3507} INFO -  at 297.8s,\testimator rf's best error=0.3367,\tbest estimator extra_tree's best error=0.3092\n",
      "[flaml.automl.automl: 01-16 08:09:34] {3322} INFO - iteration 299, current learner rf\n",
      "[flaml.automl.automl: 01-16 08:09:34] {3507} INFO -  at 298.6s,\testimator rf's best error=0.3367,\tbest estimator extra_tree's best error=0.3092\n",
      "[flaml.automl.automl: 01-16 08:09:34] {3322} INFO - iteration 300, current learner rf\n",
      "[flaml.automl.automl: 01-16 08:09:35] {3507} INFO -  at 299.0s,\testimator rf's best error=0.3367,\tbest estimator extra_tree's best error=0.3092\n",
      "[flaml.automl.automl: 01-16 08:09:35] {3322} INFO - iteration 301, current learner rf\n",
      "[flaml.automl.automl: 01-16 08:09:36] {3507} INFO -  at 299.8s,\testimator rf's best error=0.3367,\tbest estimator extra_tree's best error=0.3092\n",
      "[flaml.automl.automl: 01-16 08:09:37] {3771} INFO - retrain extra_tree for 1.5s\n",
      "[flaml.automl.automl: 01-16 08:09:37] {3778} INFO - retrained model: ExtraTreesClassifier(criterion='entropy', max_features=1.0, max_leaf_nodes=286,\n",
      "                     n_estimators=573, n_jobs=-1, random_state=12032022)\n",
      "[flaml.automl.automl: 01-16 08:09:37] {3023} INFO - fit succeeded\n",
      "[flaml.automl.automl: 01-16 08:09:37] {3024} INFO - Time taken to find the best model: 113.99935364723206\n"
     ]
    }
   ],
   "source": [
    "automl.fit(X_train, y_train, task=\"classification\",metric='log_loss',time_budget=300)"
   ]
  },
  {
   "cell_type": "code",
   "execution_count": 16,
   "metadata": {},
   "outputs": [
    {
     "name": "stdout",
     "output_type": "stream",
     "text": [
      "Best ML leaner: extra_tree\n",
      "Best hyperparmeter config: {'n_estimators': 573, 'max_features': 1.0, 'max_leaves': 286, 'criterion': 'entropy'}\n",
      "Best log_loss on validation data: 0.3092\n",
      "Training duration of best run: 1.484 s\n"
     ]
    }
   ],
   "source": [
    "print('Best ML leaner:', automl.best_estimator)\n",
    "print('Best hyperparmeter config:', automl.best_config)\n",
    "print('Best log_loss on validation data: {0:.4g}'.format(automl.best_loss))\n",
    "print('Training duration of best run: {0:.4g} s'.format(automl.best_config_train_time))"
   ]
  },
  {
   "cell_type": "code",
   "execution_count": 17,
   "metadata": {},
   "outputs": [
    {
     "name": "stdout",
     "output_type": "stream",
     "text": [
      "              precision    recall  f1-score   support\n",
      "\n",
      "       BERHI       1.00      1.00      1.00        42\n",
      "      DEGLET       1.00      1.00      1.00        62\n",
      "       DOKOL       1.00      1.00      1.00       130\n",
      "       IRAQI       1.00      1.00      1.00        47\n",
      "      ROTANA       1.00      1.00      1.00       106\n",
      "      SAFAVI       1.00      1.00      1.00       127\n",
      "       SOGAY       1.00      1.00      1.00        60\n",
      "\n",
      "    accuracy                           1.00       574\n",
      "   macro avg       1.00      1.00      1.00       574\n",
      "weighted avg       1.00      1.00      1.00       574\n",
      "\n"
     ]
    }
   ],
   "source": [
    "from sklearn.metrics import classification_report\n",
    "print(classification_report(y_train, automl.predict(X_train)))"
   ]
  },
  {
   "cell_type": "code",
   "execution_count": 18,
   "metadata": {},
   "outputs": [
    {
     "name": "stdout",
     "output_type": "stream",
     "text": [
      "              precision    recall  f1-score   support\n",
      "\n",
      "       BERHI       0.90      0.90      0.90        10\n",
      "      DEGLET       0.65      0.69      0.67        16\n",
      "       DOKOL       0.94      0.91      0.92        33\n",
      "       IRAQI       0.91      0.91      0.91        11\n",
      "      ROTANA       1.00      0.96      0.98        27\n",
      "      SAFAVI       1.00      0.97      0.98        32\n",
      "       SOGAY       0.71      0.80      0.75        15\n",
      "\n",
      "    accuracy                           0.90       144\n",
      "   macro avg       0.87      0.88      0.87       144\n",
      "weighted avg       0.90      0.90      0.90       144\n",
      "\n"
     ]
    }
   ],
   "source": [
    "print(classification_report(y_test, automl.predict(X_test)))"
   ]
  },
  {
   "cell_type": "code",
   "execution_count": 19,
   "metadata": {},
   "outputs": [
    {
     "data": {
      "text/html": [
       "<div>\n",
       "<style scoped>\n",
       "    .dataframe tbody tr th:only-of-type {\n",
       "        vertical-align: middle;\n",
       "    }\n",
       "\n",
       "    .dataframe tbody tr th {\n",
       "        vertical-align: top;\n",
       "    }\n",
       "\n",
       "    .dataframe thead th {\n",
       "        text-align: right;\n",
       "    }\n",
       "</style>\n",
       "<table border=\"1\" class=\"dataframe\">\n",
       "  <thead>\n",
       "    <tr style=\"text-align: right;\">\n",
       "      <th></th>\n",
       "      <th>AREA</th>\n",
       "      <th>PERIMETER</th>\n",
       "      <th>MAJOR_AXIS</th>\n",
       "      <th>MINOR_AXIS</th>\n",
       "      <th>ECCENTRICITY</th>\n",
       "      <th>EQDIASQ</th>\n",
       "      <th>SOLIDITY</th>\n",
       "      <th>CONVEX_AREA</th>\n",
       "      <th>EXTENT</th>\n",
       "      <th>ASPECT_RATIO</th>\n",
       "      <th>ROUNDNESS</th>\n",
       "      <th>COMPACTNESS</th>\n",
       "      <th>SHAPEFACTOR_1</th>\n",
       "      <th>SHAPEFACTOR_2</th>\n",
       "      <th>SHAPEFACTOR_3</th>\n",
       "      <th>SHAPEFACTOR_4</th>\n",
       "      <th>MeanRR</th>\n",
       "      <th>MeanRG</th>\n",
       "      <th>MeanRB</th>\n",
       "      <th>StdDevRR</th>\n",
       "      <th>StdDevRG</th>\n",
       "      <th>StdDevRB</th>\n",
       "      <th>SkewRR</th>\n",
       "      <th>SkewRG</th>\n",
       "      <th>SkewRB</th>\n",
       "      <th>KurtosisRR</th>\n",
       "      <th>KurtosisRG</th>\n",
       "      <th>KurtosisRB</th>\n",
       "      <th>EntropyRR</th>\n",
       "      <th>EntropyRG</th>\n",
       "      <th>EntropyRB</th>\n",
       "      <th>ALLdaub4RR</th>\n",
       "      <th>ALLdaub4RG</th>\n",
       "      <th>ALLdaub4RB</th>\n",
       "    </tr>\n",
       "  </thead>\n",
       "  <tbody>\n",
       "    <tr>\n",
       "      <th>722</th>\n",
       "      <td>329750</td>\n",
       "      <td>2236.6001</td>\n",
       "      <td>887.1417</td>\n",
       "      <td>474.9108</td>\n",
       "      <td>0.8446</td>\n",
       "      <td>647.9589</td>\n",
       "      <td>0.9913</td>\n",
       "      <td>332633</td>\n",
       "      <td>0.6811</td>\n",
       "      <td>1.8680</td>\n",
       "      <td>0.8284</td>\n",
       "      <td>0.7304</td>\n",
       "      <td>0.0027</td>\n",
       "      <td>0.0014</td>\n",
       "      <td>0.5335</td>\n",
       "      <td>0.9965</td>\n",
       "      <td>49.7382</td>\n",
       "      <td>59.1934</td>\n",
       "      <td>77.5457</td>\n",
       "      <td>18.8770</td>\n",
       "      <td>22.1704</td>\n",
       "      <td>22.8215</td>\n",
       "      <td>0.4943</td>\n",
       "      <td>1.6639</td>\n",
       "      <td>0.1733</td>\n",
       "      <td>4.3923</td>\n",
       "      <td>8.9968</td>\n",
       "      <td>3.1910</td>\n",
       "      <td>-7649439744</td>\n",
       "      <td>-11283790848</td>\n",
       "      <td>-19262605312</td>\n",
       "      <td>24.8681</td>\n",
       "      <td>29.5966</td>\n",
       "      <td>38.7724</td>\n",
       "    </tr>\n",
       "    <tr>\n",
       "      <th>329</th>\n",
       "      <td>112819</td>\n",
       "      <td>1255.4130</td>\n",
       "      <td>476.7512</td>\n",
       "      <td>301.7341</td>\n",
       "      <td>0.7742</td>\n",
       "      <td>379.0061</td>\n",
       "      <td>0.9933</td>\n",
       "      <td>113578</td>\n",
       "      <td>0.7677</td>\n",
       "      <td>1.5800</td>\n",
       "      <td>0.8995</td>\n",
       "      <td>0.7950</td>\n",
       "      <td>0.0042</td>\n",
       "      <td>0.0027</td>\n",
       "      <td>0.6320</td>\n",
       "      <td>0.9986</td>\n",
       "      <td>133.4311</td>\n",
       "      <td>135.4254</td>\n",
       "      <td>120.6720</td>\n",
       "      <td>34.7921</td>\n",
       "      <td>29.2846</td>\n",
       "      <td>32.1839</td>\n",
       "      <td>-0.3021</td>\n",
       "      <td>0.0545</td>\n",
       "      <td>0.4712</td>\n",
       "      <td>2.5769</td>\n",
       "      <td>2.4183</td>\n",
       "      <td>2.2998</td>\n",
       "      <td>-21393035264</td>\n",
       "      <td>-21550960640</td>\n",
       "      <td>-17226102784</td>\n",
       "      <td>66.7188</td>\n",
       "      <td>67.7163</td>\n",
       "      <td>60.3393</td>\n",
       "    </tr>\n",
       "    <tr>\n",
       "      <th>768</th>\n",
       "      <td>297174</td>\n",
       "      <td>2155.9590</td>\n",
       "      <td>779.7753</td>\n",
       "      <td>488.4755</td>\n",
       "      <td>0.7795</td>\n",
       "      <td>615.1208</td>\n",
       "      <td>0.9716</td>\n",
       "      <td>305852</td>\n",
       "      <td>0.6638</td>\n",
       "      <td>1.5963</td>\n",
       "      <td>0.8034</td>\n",
       "      <td>0.7888</td>\n",
       "      <td>0.0026</td>\n",
       "      <td>0.0016</td>\n",
       "      <td>0.6223</td>\n",
       "      <td>0.9934</td>\n",
       "      <td>51.6469</td>\n",
       "      <td>56.9027</td>\n",
       "      <td>64.4892</td>\n",
       "      <td>28.1787</td>\n",
       "      <td>24.9235</td>\n",
       "      <td>18.4318</td>\n",
       "      <td>2.2396</td>\n",
       "      <td>2.0402</td>\n",
       "      <td>0.7421</td>\n",
       "      <td>8.8575</td>\n",
       "      <td>7.7524</td>\n",
       "      <td>4.7820</td>\n",
       "      <td>-8952644608</td>\n",
       "      <td>-9902926848</td>\n",
       "      <td>-11451906048</td>\n",
       "      <td>25.8247</td>\n",
       "      <td>28.4548</td>\n",
       "      <td>32.2477</td>\n",
       "    </tr>\n",
       "    <tr>\n",
       "      <th>291</th>\n",
       "      <td>192953</td>\n",
       "      <td>1681.7620</td>\n",
       "      <td>665.5488</td>\n",
       "      <td>372.4787</td>\n",
       "      <td>0.8287</td>\n",
       "      <td>495.6565</td>\n",
       "      <td>0.9926</td>\n",
       "      <td>194383</td>\n",
       "      <td>0.7623</td>\n",
       "      <td>1.7868</td>\n",
       "      <td>0.8573</td>\n",
       "      <td>0.7447</td>\n",
       "      <td>0.0034</td>\n",
       "      <td>0.0019</td>\n",
       "      <td>0.5546</td>\n",
       "      <td>0.9910</td>\n",
       "      <td>117.6504</td>\n",
       "      <td>115.9168</td>\n",
       "      <td>114.8585</td>\n",
       "      <td>29.8148</td>\n",
       "      <td>24.6431</td>\n",
       "      <td>27.6621</td>\n",
       "      <td>-0.3425</td>\n",
       "      <td>0.5291</td>\n",
       "      <td>0.2930</td>\n",
       "      <td>3.1966</td>\n",
       "      <td>3.3343</td>\n",
       "      <td>2.8265</td>\n",
       "      <td>-27600273408</td>\n",
       "      <td>-26116403200</td>\n",
       "      <td>-25997262848</td>\n",
       "      <td>58.8212</td>\n",
       "      <td>57.9572</td>\n",
       "      <td>57.4273</td>\n",
       "    </tr>\n",
       "    <tr>\n",
       "      <th>665</th>\n",
       "      <td>301865</td>\n",
       "      <td>2105.5049</td>\n",
       "      <td>781.5297</td>\n",
       "      <td>494.9785</td>\n",
       "      <td>0.7739</td>\n",
       "      <td>619.9568</td>\n",
       "      <td>0.9891</td>\n",
       "      <td>305204</td>\n",
       "      <td>0.6645</td>\n",
       "      <td>1.5789</td>\n",
       "      <td>0.8557</td>\n",
       "      <td>0.7933</td>\n",
       "      <td>0.0026</td>\n",
       "      <td>0.0016</td>\n",
       "      <td>0.6293</td>\n",
       "      <td>0.9936</td>\n",
       "      <td>49.8865</td>\n",
       "      <td>55.2670</td>\n",
       "      <td>63.0709</td>\n",
       "      <td>21.0763</td>\n",
       "      <td>23.0181</td>\n",
       "      <td>23.8064</td>\n",
       "      <td>0.3426</td>\n",
       "      <td>1.7853</td>\n",
       "      <td>0.5515</td>\n",
       "      <td>3.2214</td>\n",
       "      <td>9.9272</td>\n",
       "      <td>3.5318</td>\n",
       "      <td>-7326598656</td>\n",
       "      <td>-9212645376</td>\n",
       "      <td>-11895553024</td>\n",
       "      <td>24.9439</td>\n",
       "      <td>27.6341</td>\n",
       "      <td>31.5359</td>\n",
       "    </tr>\n",
       "  </tbody>\n",
       "</table>\n",
       "</div>"
      ],
      "text/plain": [
       "       AREA  PERIMETER  MAJOR_AXIS  MINOR_AXIS  ECCENTRICITY   EQDIASQ  \\\n",
       "722  329750  2236.6001    887.1417    474.9108        0.8446  647.9589   \n",
       "329  112819  1255.4130    476.7512    301.7341        0.7742  379.0061   \n",
       "768  297174  2155.9590    779.7753    488.4755        0.7795  615.1208   \n",
       "291  192953  1681.7620    665.5488    372.4787        0.8287  495.6565   \n",
       "665  301865  2105.5049    781.5297    494.9785        0.7739  619.9568   \n",
       "\n",
       "     SOLIDITY  CONVEX_AREA  EXTENT  ASPECT_RATIO  ROUNDNESS  COMPACTNESS  \\\n",
       "722    0.9913       332633  0.6811        1.8680     0.8284       0.7304   \n",
       "329    0.9933       113578  0.7677        1.5800     0.8995       0.7950   \n",
       "768    0.9716       305852  0.6638        1.5963     0.8034       0.7888   \n",
       "291    0.9926       194383  0.7623        1.7868     0.8573       0.7447   \n",
       "665    0.9891       305204  0.6645        1.5789     0.8557       0.7933   \n",
       "\n",
       "     SHAPEFACTOR_1  SHAPEFACTOR_2  SHAPEFACTOR_3  SHAPEFACTOR_4    MeanRR  \\\n",
       "722         0.0027         0.0014         0.5335         0.9965   49.7382   \n",
       "329         0.0042         0.0027         0.6320         0.9986  133.4311   \n",
       "768         0.0026         0.0016         0.6223         0.9934   51.6469   \n",
       "291         0.0034         0.0019         0.5546         0.9910  117.6504   \n",
       "665         0.0026         0.0016         0.6293         0.9936   49.8865   \n",
       "\n",
       "       MeanRG    MeanRB  StdDevRR  StdDevRG  StdDevRB  SkewRR  SkewRG  SkewRB  \\\n",
       "722   59.1934   77.5457   18.8770   22.1704   22.8215  0.4943  1.6639  0.1733   \n",
       "329  135.4254  120.6720   34.7921   29.2846   32.1839 -0.3021  0.0545  0.4712   \n",
       "768   56.9027   64.4892   28.1787   24.9235   18.4318  2.2396  2.0402  0.7421   \n",
       "291  115.9168  114.8585   29.8148   24.6431   27.6621 -0.3425  0.5291  0.2930   \n",
       "665   55.2670   63.0709   21.0763   23.0181   23.8064  0.3426  1.7853  0.5515   \n",
       "\n",
       "     KurtosisRR  KurtosisRG  KurtosisRB    EntropyRR    EntropyRG  \\\n",
       "722      4.3923      8.9968      3.1910  -7649439744 -11283790848   \n",
       "329      2.5769      2.4183      2.2998 -21393035264 -21550960640   \n",
       "768      8.8575      7.7524      4.7820  -8952644608  -9902926848   \n",
       "291      3.1966      3.3343      2.8265 -27600273408 -26116403200   \n",
       "665      3.2214      9.9272      3.5318  -7326598656  -9212645376   \n",
       "\n",
       "       EntropyRB  ALLdaub4RR  ALLdaub4RG  ALLdaub4RB  \n",
       "722 -19262605312     24.8681     29.5966     38.7724  \n",
       "329 -17226102784     66.7188     67.7163     60.3393  \n",
       "768 -11451906048     25.8247     28.4548     32.2477  \n",
       "291 -25997262848     58.8212     57.9572     57.4273  \n",
       "665 -11895553024     24.9439     27.6341     31.5359  "
      ]
     },
     "execution_count": 19,
     "metadata": {},
     "output_type": "execute_result"
    }
   ],
   "source": [
    "test_=test.drop('Class',axis=1)\n",
    "test_.head()"
   ]
  },
  {
   "cell_type": "code",
   "execution_count": 20,
   "metadata": {},
   "outputs": [
    {
     "data": {
      "text/plain": [
       "array(['SAFAVI', 'DOKOL', 'SAFAVI', 'DOKOL', 'SAFAVI'], dtype=object)"
      ]
     },
     "execution_count": 20,
     "metadata": {},
     "output_type": "execute_result"
    }
   ],
   "source": [
    "y_pred = automl.predict(test_)\n",
    "y_pred[:5]"
   ]
  },
  {
   "cell_type": "code",
   "execution_count": 21,
   "metadata": {},
   "outputs": [
    {
     "data": {
      "text/html": [
       "<div>\n",
       "<style scoped>\n",
       "    .dataframe tbody tr th:only-of-type {\n",
       "        vertical-align: middle;\n",
       "    }\n",
       "\n",
       "    .dataframe tbody tr th {\n",
       "        vertical-align: top;\n",
       "    }\n",
       "\n",
       "    .dataframe thead th {\n",
       "        text-align: right;\n",
       "    }\n",
       "</style>\n",
       "<table border=\"1\" class=\"dataframe\">\n",
       "  <thead>\n",
       "    <tr style=\"text-align: right;\">\n",
       "      <th></th>\n",
       "      <th>Class</th>\n",
       "    </tr>\n",
       "  </thead>\n",
       "  <tbody>\n",
       "    <tr>\n",
       "      <th>0</th>\n",
       "      <td>SAFAVI</td>\n",
       "    </tr>\n",
       "    <tr>\n",
       "      <th>1</th>\n",
       "      <td>DOKOL</td>\n",
       "    </tr>\n",
       "    <tr>\n",
       "      <th>2</th>\n",
       "      <td>SAFAVI</td>\n",
       "    </tr>\n",
       "    <tr>\n",
       "      <th>3</th>\n",
       "      <td>DOKOL</td>\n",
       "    </tr>\n",
       "    <tr>\n",
       "      <th>4</th>\n",
       "      <td>SAFAVI</td>\n",
       "    </tr>\n",
       "  </tbody>\n",
       "</table>\n",
       "</div>"
      ],
      "text/plain": [
       "    Class\n",
       "0  SAFAVI\n",
       "1   DOKOL\n",
       "2  SAFAVI\n",
       "3   DOKOL\n",
       "4  SAFAVI"
      ]
     },
     "execution_count": 21,
     "metadata": {},
     "output_type": "execute_result"
    }
   ],
   "source": [
    "df = pd.DataFrame(y_pred,columns=['Class'])\n",
    "df.head()"
   ]
  },
  {
   "cell_type": "code",
   "execution_count": 22,
   "metadata": {},
   "outputs": [
    {
     "name": "stdout",
     "output_type": "stream",
     "text": [
      "              precision    recall  f1-score   support\n",
      "\n",
      "       BERHI       0.85      0.85      0.85        13\n",
      "      DEGLET       0.80      0.80      0.80        20\n",
      "       DOKOL       0.97      0.95      0.96        41\n",
      "       IRAQI       0.92      0.86      0.89        14\n",
      "      ROTANA       0.94      0.97      0.96        33\n",
      "      SAFAVI       0.98      1.00      0.99        40\n",
      "       SOGAY       0.74      0.74      0.74        19\n",
      "\n",
      "    accuracy                           0.91       180\n",
      "   macro avg       0.89      0.88      0.88       180\n",
      "weighted avg       0.91      0.91      0.91       180\n",
      "\n"
     ]
    }
   ],
   "source": [
    "print(classification_report(test.Class, df.Class))"
   ]
  }
 ],
 "metadata": {
  "interpreter": {
   "hash": "397704579725e15f5c7cb49fe5f0341eb7531c82d19f2c29d197e8b64ab5776b"
  },
  "kernelspec": {
   "display_name": "Python 3.9.15 64-bit",
   "language": "python",
   "name": "python3"
  },
  "language_info": {
   "codemirror_mode": {
    "name": "ipython",
    "version": 3
   },
   "file_extension": ".py",
   "mimetype": "text/x-python",
   "name": "python",
   "nbconvert_exporter": "python",
   "pygments_lexer": "ipython3",
   "version": "3.9.15"
  },
  "orig_nbformat": 4
 },
 "nbformat": 4,
 "nbformat_minor": 2
}
